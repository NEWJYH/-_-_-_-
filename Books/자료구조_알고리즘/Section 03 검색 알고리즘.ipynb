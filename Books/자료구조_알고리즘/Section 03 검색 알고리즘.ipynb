{
 "cells": [
  {
   "cell_type": "markdown",
   "id": "b550b91e",
   "metadata": {},
   "source": [
    "목차"
   ]
  },
  {
   "cell_type": "markdown",
   "id": "4b8c333f",
   "metadata": {},
   "source": [
    "03-1 검색 알고리즘이란?\n",
    "\n",
    "03-2 선형 검색\n",
    "\n",
    "03-3 이진 검색\n",
    "\n",
    "03-4 해시법"
   ]
  },
  {
   "cell_type": "markdown",
   "id": "87dafa3d",
   "metadata": {},
   "source": [
    "---"
   ]
  },
  {
   "cell_type": "markdown",
   "id": "e0b40fc4",
   "metadata": {},
   "source": [
    "# 03-1 검색 알고리즘이란?"
   ]
  },
  {
   "cell_type": "markdown",
   "id": "b0238334",
   "metadata": {},
   "source": [
    "## 검색과 키\n",
    "주소록 검색을 가정 , 검색 조건은 다음과 같이 다양할수 있음\n",
    "- **국적**이 한국인 사람을 찾습니다.\n",
    "- **나이**가 21세이상 27세 미만인 사람을 찾습니다.\n",
    "- **이름**에 '민'자가 들어간 사람을 찾습니다.\n",
    "\n",
    "\n",
    "이 검색 조건은 모두 어떠한 항목에 주목\n",
    "\n",
    "이렇게 주목하는 항목을 **키(key)** 라고 함\n",
    "\n",
    "대부분의 키는 데이터의 일부 \n",
    "\n",
    "데이터가 간단한 정숫값이나 문자열이면 데이터값이 그대로 키 값이 될 수도 있음\n",
    "\n",
    "- 국적 : 키값과 일치하도록 지정\n",
    "- 나이 : 키값의 구간을 지정\n",
    "- 문자 : 키 값에 가깝도록 지정\n",
    "\n",
    "검색에서는 이러한 조건을 하나만 지정할 수도 있고 논리곱, 논리합을 사용하여 복합해서 지정할 수도 있음"
   ]
  },
  {
   "cell_type": "markdown",
   "id": "f62dc283",
   "metadata": {},
   "source": [
    "## 검색의 종류"
   ]
  },
  {
   "cell_type": "markdown",
   "id": "48745f39",
   "metadata": {},
   "source": [
    "- a 배열 검색\n",
    "- b 연결리스트 검색\n",
    "\n",
    "- c 이진 검색 트리 검색"
   ]
  },
  {
   "cell_type": "markdown",
   "id": "5a997a3b",
   "metadata": {},
   "source": [
    "### a 배열 검색\n",
    "\n",
    "- 선형 검색 : 무작위로 늘어놓은 데이터 집합에서 검색을 수행\n",
    "- 이진 검색 : 일정한 규칙으로 늘어놓은 데이터 집합에서 아주 빠른 검색을 수행\n",
    "- 해시법 : 추가, 삭제가 자주 일어나는 데이터 집합에서 아주 빠른 검색을 수행\n",
    "    - 체인법 : 같은 해시값 데이터를 연결 리스트로 연결하는 방법\n",
    "    - 오픈 주소법: 데이터를 위한 해시값이 충돌할 때 재해시하는 방법\n",
    "    \n"
   ]
  },
  {
   "cell_type": "markdown",
   "id": "17ab23b1",
   "metadata": {},
   "source": [
    "#### 선택할수 있는 알고리즘이 다양한 경우에는 용도, 목적, 실행 속도, 자료구조 등 여러 사항을 고려해서 선택해야 함"
   ]
  },
  {
   "cell_type": "markdown",
   "id": "049fd1c8",
   "metadata": {},
   "source": [
    "---"
   ]
  },
  {
   "cell_type": "markdown",
   "id": "963440dc",
   "metadata": {},
   "source": [
    "# 03-02 선형 검색"
   ]
  },
  {
   "cell_type": "markdown",
   "id": "0b7070e4",
   "metadata": {},
   "source": [
    "배열에서 검색하는 방법 중 가장 기본적인 알고리즘"
   ]
  },
  {
   "cell_type": "markdown",
   "id": "fbbf8261",
   "metadata": {},
   "source": [
    "## 선형 검색"
   ]
  },
  {
   "cell_type": "markdown",
   "id": "94b11c0f",
   "metadata": {},
   "source": [
    "선형 검색(linear search)이란 직선 모양(선형)으로 늘어선 배열에서 검색하는 경우에 \n",
    "\n",
    "원하는 키값을 가진 원소를 찾을때까지 맨 앞부터 스캔하여 순서대로 검색하는 알고리즘"
   ]
  },
  {
   "cell_type": "code",
   "execution_count": 2,
   "id": "e1d3b779",
   "metadata": {},
   "outputs": [
    {
     "name": "stdout",
     "output_type": "stream",
     "text": [
      "원소 수를 입력하세요.: 5\n",
      "x[0] 0\n",
      "x[1] 1\n",
      "x[2] 2\n",
      "x[3] 3\n",
      "x[4] 5\n",
      "검색할 값을 입력하세요.: 3\n",
      "검색값은 x[3]에 있습니다.\n"
     ]
    }
   ],
   "source": [
    "# while 문으로 작성한 선형 검색 알고리즘\n",
    "\n",
    "from typing import Any, Sequence\n",
    "\n",
    "def seq_search(a: Sequence, key: Any) -> int:\n",
    "    \"\"\"시퀸스 a에서 key와 값이 같은 원소를 선형 검색(while 문)\"\"\"\n",
    "    i = 0\n",
    "    \n",
    "    while True:\n",
    "        if i == len(a):\n",
    "            return -1 # 검색에 실패하여 -1을 반환\n",
    "        if a[i] == key:  \n",
    "            return i  # 검색에 성공하여 현재 검사한 배열의 인덱스를 반환\n",
    "        i += 1\n",
    "        \n",
    "if __name__ == \"__main__\":\n",
    "    num = int(input(\"원소 수를 입력하세요.: \")) # num값을 입력받음\n",
    "    x = [None] * num # 원소 수가 num인 배열을 생성\n",
    "    \n",
    "    for i in range(num):\n",
    "        x[i] = int(input(f'x[{i}] ')) # 배열을 입력받음\n",
    "        \n",
    "    ky = int(input(\"검색할 값을 입력하세요.: \")) # 검색할 ky를 입력받음\n",
    "    \n",
    "    idx = seq_search(x, ky)\n",
    "    \n",
    "    if idx == -1:\n",
    "        print(\"검색값을 갖는 원소가 존재하지 않습니다.\")\n",
    "    else:\n",
    "        print(f\"검색값은 x[{idx}]에 있습니다.\")\n",
    "    "
   ]
  },
  {
   "cell_type": "code",
   "execution_count": 3,
   "id": "7f559ba7",
   "metadata": {},
   "outputs": [
    {
     "name": "stdout",
     "output_type": "stream",
     "text": [
      "원소 수를 입력하세요.: 5\n",
      "x[0] 1\n",
      "x[1] 2\n",
      "x[2] 3\n",
      "x[3] 4\n",
      "x[4] 5\n",
      "검색할 값을 입력하세요.: 5\n",
      "검색값은 x[4]에 있습니다.\n"
     ]
    }
   ],
   "source": [
    "# for문으로 작성한 선형 검색 알고리즘\n",
    "\n",
    "from typing import Any, Sequence\n",
    "\n",
    "def seq_search(a:Sequence, key: Any) -> int:\n",
    "    \"\"\"시퀸스 a에서 key와 값이 같은 원소를 선형 검색(for문)\"\"\"\n",
    "    \n",
    "    for i in range(len(a)):\n",
    "        if a[i] == key:\n",
    "            return i # 검색 성공(인덱스 반환)\n",
    "    return -1 # 검색 실패\n",
    "\n",
    "\n",
    "if __name__ == \"__main__\":\n",
    "    num = int(input(\"원소 수를 입력하세요.: \")) # num값을 입력받음\n",
    "    x = [None] * num # 원소 수가 num인 배열을 생성\n",
    "    \n",
    "    for i in range(num):\n",
    "        x[i] = int(input(f'x[{i}] ')) # 배열을 입력받음\n",
    "        \n",
    "    ky = int(input(\"검색할 값을 입력하세요.: \")) # 검색할 ky를 입력받음\n",
    "    \n",
    "    idx = seq_search(x, ky)\n",
    "    \n",
    "    if idx == -1:\n",
    "        print(\"검색값을 갖는 원소가 존재하지 않습니다.\")\n",
    "    else:\n",
    "        print(f\"검색값은 x[{idx}]에 있습니다.\")\n",
    "    "
   ]
  },
  {
   "cell_type": "code",
   "execution_count": 8,
   "id": "b201d818",
   "metadata": {},
   "outputs": [
    {
     "name": "stdout",
     "output_type": "stream",
     "text": [
      "실수를 검색합니다.\n",
      "주의: \"END\"를 입력하면 종료합니다.\n",
      "x[0]: 5\n",
      "x[1]: 4.3\n",
      "x[2]: End\n",
      "검색할 값을 입력하세요.: 4.3\n",
      "검색값은 x[1]에 있습니다.\n"
     ]
    }
   ],
   "source": [
    "# seq_search() 함수를 사용하여 실수 검색하기\n",
    "\n",
    "print(\"실수를 검색합니다.\")\n",
    "\n",
    "print(\"주의: \\\"End\\\"를 입력하면 종료합니다.\")\n",
    "\n",
    "number = 0\n",
    "x = []\n",
    "\n",
    "while True:\n",
    "    s = input(f'x[{number}]: ')\n",
    "    if s == \"End\":\n",
    "        break\n",
    "    x.append(float(s)) # 배열 맨 끝에 원소를 추가\n",
    "    number += 1 \n",
    "    \n",
    "ky = float(input(\"검색할 값을 입력하세요.: \")) # 검색할 ky를 입력받기\n",
    "\n",
    "idx = seq_search(x, ky)\n",
    "\n",
    "if idx == -1:\n",
    "    print(\"검색값을 갖는 원소가 존재하지 않습니다.\")\n",
    "else:\n",
    "    print(f\"검색값은 x[{idx}]에 있습니다.\")"
   ]
  },
  {
   "cell_type": "code",
   "execution_count": 12,
   "id": "fb43cb9a",
   "metadata": {},
   "outputs": [
    {
     "name": "stdout",
     "output_type": "stream",
     "text": [
      "(4, 7, 5.6, 2, 3.14, 1)에서 5.6 인덱스는 2입니다.\n",
      "string에서 \"n\" 인덱스는 4입니다.\n",
      "['DTS', 'AAC', 'FLAC']에서 \"DTS\"인덱스는 0입니다.\n"
     ]
    }
   ],
   "source": [
    "# seq_search() 함수를 사용하여 특정 인덱스 검색하기\n",
    "\n",
    "t = (4, 7, 5.6, 2, 3.14, 1)\n",
    "s = 'string'\n",
    "a = ['DTS', 'AAC', 'FLAC']\n",
    "\n",
    "print(f\"{t}에서 5.6 인덱스는 {seq_search(t, 5.6)}입니다.\")\n",
    "print(f\"{s}에서 \\\"n\\\" 인덱스는 {seq_search(s,'n')}입니다.\")\n",
    "print(f\"{a}에서 \\\"DTS\\\"인덱스는 {seq_search(a,'DTS')}입니다.\")"
   ]
  },
  {
   "cell_type": "markdown",
   "id": "23d884c0",
   "metadata": {},
   "source": [
    "## 보초법\n",
    "\n",
    "선형 검색은 반복할 때마다 2가지 종료 조건을 체크\n",
    "\n",
    "종료 조건을 검사하는 비용을 무시할수 없음\n",
    "\n",
    "비용을 반으로 줄이는 방법이 보초법(sentinel method)\n",
    "\n",
    "- 검색하고자 하는 sequence에 마지막에 찾고자하는 원소를 값을 저장하여 종료 조건을 제거함 "
   ]
  },
  {
   "cell_type": "code",
   "execution_count": 13,
   "id": "37147724",
   "metadata": {},
   "outputs": [
    {
     "name": "stdout",
     "output_type": "stream",
     "text": [
      "원소 수를 입력하세요.: 7\n",
      "x[0] 6\n",
      "x[1] 4\n",
      "x[2] 3\n",
      "x[3] 2\n",
      "x[4] 1\n",
      "x[5] 2\n",
      "x[6] 8\n",
      "검색할 값을 입력하세요.: 2\n",
      "검색값은 x[3]에 있습니다.\n"
     ]
    }
   ],
   "source": [
    "# 선형 검색 알고리즘을 보초법으로 수정\n",
    "\n",
    "from typing import Sequence, Any\n",
    "import copy\n",
    "\n",
    "def seq_search(seq:Sequence, key:Any) -> int:\n",
    "    \"\"\"시퀸스 seq에서 key와 일치하는 원소를 선형 검색(보초법)\"\"\"\n",
    "    a = copy.deepcopy(seq) # seq 복사\n",
    "    a.append(key) # 보초 key 추가\n",
    "\n",
    "    i = 0\n",
    "    while True:\n",
    "        if a[i] == key:\n",
    "            break # 검색 성공\n",
    "        i += 1\n",
    "    \n",
    "    return -1 if i == len(seq) else i \n",
    "\n",
    "\n",
    "if __name__ == \"__main__\":\n",
    "    num = int(input(\"원소 수를 입력하세요.: \")) # num값을 입력받음\n",
    "    x = [None] * num # 원소 수가 num인 배열을 생성\n",
    "    \n",
    "    for i in range(num):\n",
    "        x[i] = int(input(f'x[{i}] ')) # 배열을 입력받음\n",
    "        \n",
    "    ky = int(input(\"검색할 값을 입력하세요.: \")) # 검색할 ky를 입력받음\n",
    "    \n",
    "    idx = seq_search(x, ky)\n",
    "    \n",
    "    if idx == -1:\n",
    "        print(\"검색값을 갖는 원소가 존재하지 않습니다.\")\n",
    "    else:\n",
    "        print(f\"검색값은 x[{idx}]에 있습니다.\")"
   ]
  },
  {
   "cell_type": "markdown",
   "id": "c3f3883e",
   "metadata": {},
   "source": [
    "---"
   ]
  },
  {
   "cell_type": "markdown",
   "id": "fcf5bff2",
   "metadata": {},
   "source": [
    "# 03-3 이진 검색"
   ]
  },
  {
   "cell_type": "markdown",
   "id": "c89a01cc",
   "metadata": {},
   "source": [
    "이진검색(binary search)\n",
    "\n",
    "- 배열의 데이터가 정렬(sort)되어 있어야 함\n",
    "- 선형 검색보다 빠르게 검색할 수 있음\n"
   ]
  },
  {
   "cell_type": "markdown",
   "id": "1395c199",
   "metadata": {},
   "source": [
    "## 이진검색"
   ]
  },
  {
   "cell_type": "markdown",
   "id": "d2de9a2a",
   "metadata": {},
   "source": [
    "- 오름 차순이나 내림차순으로 정렬된 배열에서 좀더 효율적으로 검색할수 있는 알고리즘"
   ]
  },
  {
   "cell_type": "markdown",
   "id": "2877a5a7",
   "metadata": {},
   "source": [
    "#### 오름 차순 정렬\n",
    "[1,2,3,4,5,6,7,8,9]\n",
    "\n",
    "- 중앙값 5기준보다 작다면 오른쪽 6 7 8 9는 검색 범위에서 제외 하는 방식\n",
    "- 다음 중앙값 3을 기준으로 다시 왼쪽 오른쪽 판단"
   ]
  },
  {
   "cell_type": "markdown",
   "id": "7586b1a1",
   "metadata": {},
   "source": [
    "이진 검색의 종료 조건\n",
    "1. a[pc]와 key가 일치하는 경우\n",
    "2. 검색 범위가 더 이상 없는 경우"
   ]
  },
  {
   "cell_type": "code",
   "execution_count": 18,
   "id": "edc0caf3",
   "metadata": {},
   "outputs": [
    {
     "name": "stdout",
     "output_type": "stream",
     "text": [
      "원소 수를 입력하세요.: 7\n",
      "배열 데이터를 오름차순으로 입력하세요\n",
      "x[0] : 1\n",
      "x[1]: 2\n",
      "x[2]: 3\n",
      "x[3]: 5\n",
      "x[4]: 7\n",
      "x[5]: 8\n",
      "x[6]: 9\n",
      "검색할 값을 입력하세요.: 1\n",
      "오른쪽 날림\n",
      "오른쪽 날림\n",
      "검색값은 x[0]에 있습니다.\n"
     ]
    }
   ],
   "source": [
    "# 이진 검색 알고리즘\n",
    "from typing import Any, Sequence\n",
    "\n",
    "def bin_search(a:Sequence, key:Any)->int:\n",
    "    \"\"\"시퀸스 a에서 key와 일치하는 원소를 이진 검색\"\"\"\n",
    "    pl = 0 # 검색 범위 맨 앞 원소의 인덱스\n",
    "    pr = len(a) - 1 # 검색 범위 맨 뒤 원소의 인덱스\n",
    "    \n",
    "    \n",
    "    while True:\n",
    "        pc = (pl + pr) // 2 # 중앙 원소의 인덱스\n",
    "        if a[pc] == key:\n",
    "            return pc # 검색 성공\n",
    "        elif a[pc] < key:\n",
    "            print(\"왼쪽 날림\")\n",
    "            pl = pc + 1 # 검색 범위를 뒤쪽 절반으로 좁힘 \n",
    "        else:\n",
    "            print(\"오른쪽 날림\")\n",
    "            pr = pc - 1 # 검색 범위를 앞쪽 절반으로 좁힘\n",
    "        if pl > pr:\n",
    "            break\n",
    "            return -1 # 검색 실패\n",
    "        \n",
    "if __name__ == \"__main__\":\n",
    "    num = int(input(\"원소 수를 입력하세요.: \"))\n",
    "    x = [None] * num # 원소 수가 num인 배열 생성\n",
    "    \n",
    "    print(\"배열 데이터를 오름차순으로 입력하세요\")\n",
    "    \n",
    "    x[0] = int(input('x[0] : '))\n",
    "    \n",
    "    \n",
    "    for i in range(1, num):\n",
    "        while True:\n",
    "            x[i] = int(input(f\"x[{i}]: \"))\n",
    "            if x[i] > x[i-1]: # 바로 직전에 입력한 원솟값보다 큰 값을 입력\n",
    "                break\n",
    "                \n",
    "                \n",
    "    ky = int(input('검색할 값을 입력하세요.: ')) # 검색할 키 값 ky를 입력\n",
    "    \n",
    "    idx = bin_search(x, ky) # ky값과 같은 원소를 x에서 검색\n",
    "    \n",
    "    \n",
    "    if idx == -1:\n",
    "        print(\"검색값을 갖는 원소가 존재하지 않습니다.\")\n",
    "    else:\n",
    "        print(f\"검색값은 x[{idx}]에 있습니다.\")"
   ]
  },
  {
   "cell_type": "markdown",
   "id": "5a6db385",
   "metadata": {},
   "source": [
    "### 이진 검색 알고리즘은 반복할 때마다 검색 범위가 거의 절반으로 줄어드므로 검색하는데 필요한 비교 횟수는 평균 log N\n",
    "\n",
    "### 검색에 실패할 경우는 log (N + 1) 번이며, 검색에 성공할 경우는 log(N -1)번"
   ]
  },
  {
   "cell_type": "markdown",
   "id": "7988fdf3",
   "metadata": {},
   "source": [
    "### 복잡도\n",
    "\n",
    "- 프로그램의 실행 속도(또는 실행하는데 필요한 시간)는 프로그램이 동작하는 하드웨어나 컴파일러 등의 조건에 따라 달라짐\n",
    "- 알고리즘의 성능을 객관적으로 평가하는 기준을 복잡도(Complexity)라고 함\n",
    "- 복잡도는 2가지로 구분\n",
    "    - 시간 복잡도(time complexity) : 실행하는 데 필요한 시간을 평가\n",
    "    - 공간 복잡도(space complexity) : 메모리(기억 공간)와 파일 공간이 얼마나 필요한지를 평가"
   ]
  },
  {
   "cell_type": "markdown",
   "id": "6bbfd0a8",
   "metadata": {},
   "source": [
    "### 선형 검색의 시간 복잡도\n",
    "\n",
    "선형 검색하는 seq_search()함수를 바탕으로 시간 복잡도를 알아봄"
   ]
  },
  {
   "cell_type": "code",
   "execution_count": null,
   "id": "f7b786be",
   "metadata": {},
   "outputs": [],
   "source": [
    "from typing import Sequence, Any\n",
    "\n",
    "def seq_search(a: Sequence, key: Any) -> int:\n",
    "    # 1\n",
    "    i = 0 \n",
    "    \n",
    "    # 2\n",
    "    while i < n:\n",
    "        # 3\n",
    "        if a[i] === key:\n",
    "            # 4\n",
    "            return i # 검색 성공하여 인덱스를 반환\n",
    "        # 5\n",
    "        i += 1\n",
    "        \n",
    "    #6\n",
    "    return -1 # 검색에 실패하여 -1을 반환\n",
    "        "
   ]
  },
  {
   "cell_type": "markdown",
   "id": "e1b42d67",
   "metadata": {},
   "source": [
    " - 1 : 실행 횟수   1번     복잡도 O(1)\n",
    " - 2 : 실행 횟수 n/2번     복잡도 O(n)\n",
    " - 3 : 실행 횟수 n/2번     복잡도 O(n)\n",
    " - 4 : 실행 횟수   1번     복잡도 O(1)\n",
    " - 5 : 실행 횟수 n/2번     복잡도 O(n)\n",
    " - 6 : 실행 횟수   1번     복잡도 O(1)\n",
    " \n",
    " \n",
    " 1 + 2 + 3 + 4 + 5 + 6  = max(1, 2, 3, 4, 5, 6)\n",
    " \n",
    " - O(n)"
   ]
  },
  {
   "cell_type": "markdown",
   "id": "71a7f2b1",
   "metadata": {},
   "source": [
    "### 이진 검색의 시간 복잡도"
   ]
  },
  {
   "cell_type": "code",
   "execution_count": null,
   "id": "88c42ea7",
   "metadata": {},
   "outputs": [],
   "source": [
    "from typing import Sequence, Any\n",
    "\n",
    "def bin_search(a:Sequence, key:Any) -> int:\n",
    "    \"\"\"시퀸스 a에서 key와 일치하는 원소를 이진 검색\"\"\"\n",
    "    # 1\n",
    "    pl = 0 # 검색 범위 맨 앞 원소의 인덱스\n",
    "    # 2\n",
    "    pr = len(a) - 1 # 검색 범위 맨 끝 원소의 인덱스\n",
    "    \n",
    "    while True:\n",
    "        # 3\n",
    "        pc = (pl + pr) // 2 # 중앙 원소의 인덱스\n",
    "        # 4\n",
    "        if a[pc] == key: \n",
    "            # 5\n",
    "            return pc # 검색 성공\n",
    "        # 6\n",
    "        elif a[pc] < key:\n",
    "            # 7\n",
    "            pl = pc + 1 # 검색 범위의 뒤쪽 절반으로 좁힘\n",
    "        else:\n",
    "            # 8\n",
    "            pr = pc - 1 # 검색 범위의 앞쪽 절반으로 좁힘\n",
    "        # 9     \n",
    "        if pl > pr :\n",
    "            break\n",
    "    # 10\n",
    "    return -1  # 검색 실패"
   ]
  },
  {
   "cell_type": "markdown",
   "id": "c789d808",
   "metadata": {},
   "source": [
    "1 + 2 + 3 + 4 + 5 + 6 + 7 + 8 + 9 + 10 = max(O(1) O(1) O(log n) O(log n) O(1) O(log n) O(log n) O(log n) O(log n) O(1))\n",
    "\n",
    "### O(log N)"
   ]
  },
  {
   "cell_type": "markdown",
   "id": "a7f73c0a",
   "metadata": {},
   "source": [
    "### 이진 검색의 실행 과정 출력하기"
   ]
  },
  {
   "cell_type": "code",
   "execution_count": 5,
   "id": "3bd8beef",
   "metadata": {},
   "outputs": [
    {
     "name": "stdout",
     "output_type": "stream",
     "text": [
      "원소 수를 입력하세요.: 11\n",
      "배열 데이터를 오름차순으로 입력하세요.\n",
      "x[0]: 1\n",
      "x[1]: 2\n",
      "x[2]: 3\n",
      "x[3]: 4\n",
      "x[4]: 5\n",
      "x[5]: 6\n",
      "x[6]: 7\n",
      "x[7]: 8\n",
      "x[8]: 9\n",
      "x[9]: 10\n",
      "x[10]: 11\n",
      "검색할 값을 입력하세요.: 8\n",
      "   |   0   1   2   3   4   5   6   7   8   9  10\n",
      "---+----------------------------------------------\n",
      "   | <-                    +                  ->\n",
      "  5|   1   2   3   4   5   6   7   8   9  10  11\n",
      "   |\n",
      "   |                         <-        +      ->\n",
      "  8|   1   2   3   4   5   6   7   8   9  10  11\n",
      "   |\n",
      "   |                         <+  ->\n",
      "  6|   1   2   3   4   5   6   7   8   9  10  11\n",
      "   |\n",
      "   |                             <+->\n",
      "  7|   1   2   3   4   5   6   7   8   9  10  11\n",
      "   |\n",
      "검색값은 x[7]에 있습니다.\n"
     ]
    }
   ],
   "source": [
    "from typing import Any, Sequence\n",
    "\n",
    "def bin_search(a: Sequence, key: Any) -> int:\n",
    "    \"\"\"시퀀스 a에서 key와 일치하는 원소를 이진 검색(실행 과정을 출력)\"\"\"\n",
    "    pl = 0           # 검색 범위 맨 앞 원소의 인덱스\n",
    "    pr = len(a) - 1  # 검색 범위 맨 끝 원소의 인덱스\n",
    "\n",
    "    print('   |', end='')\n",
    "    for i in range(len(a)):\n",
    "        print(f'{i : 4}', end='')\n",
    "    print()\n",
    "    print('---+' + (4 * len(a) + 2) * '-')\n",
    "\n",
    "    while True:\n",
    "        pc = (pl + pr) // 2  # 중앙 원소의 인덱스\n",
    "\n",
    "        print('   |', end='')\n",
    "        if pl != pc:         # pl 원소 위에 <-를 출력\n",
    "            print((pl * 4 + 1) * ' ' + '<-' + ((pc - pl) * 4) * ' ' + '+', end='')\n",
    "        else: \n",
    "            print((pc * 4 + 1) * ' ' + '<+', end='')\n",
    "        if pc != pr:         # pr 원소 위에 ->를 출력\n",
    "            print(((pr - pc) * 4 - 2) * ' ' + '->')\n",
    "        else:\n",
    "            print('->')\n",
    "        print(f'{pc:3}|', end='')\n",
    "        for i in range(len(a)):\n",
    "            print(f'{a[i]:4}', end='') \n",
    "        print('\\n   |')\n",
    "\n",
    "        if a[pc] == key:\n",
    "            return pc    # 검색 성공\n",
    "        elif a[pc] < key:\n",
    "            pl = pc + 1  # 검색 범위를 뒤쪽의 절반으로 좁힘\n",
    "        else:\n",
    "            pr = pc - 1  # 검색 범위를 앞쪽의 절반으로 좁힘\n",
    "        if pl > pr:  \n",
    "            break\n",
    "    return -1            # 검색 실패\n",
    "\n",
    "if __name__ == '__main__':\n",
    "    num = int(input('원소 수를 입력하세요.: '))\n",
    "    x = [None] * num  # 원소 수가 num인 배열을 생성\n",
    "\n",
    "    print('배열 데이터를 오름차순으로 입력하세요.')\n",
    "\n",
    "    x[0] = int(input('x[0]: '))\n",
    "\n",
    "    for i in range(1, num):\n",
    "        while True:\n",
    "            x[i] = int(input(f'x[{i}]: '))\n",
    "            if x[i] >= x[i - 1]:\n",
    "                 break\n",
    "\n",
    "    ky = int(input('검색할 값을 입력하세요.: '))  # 검색할 ky를 입력\n",
    "\n",
    "    idx = bin_search(x, ky)                     # ky와 같은 값의 원소를 x에서 검색\n",
    "\n",
    "    if idx == -1:\n",
    "        print('검색값을 갖는 원소가 존재하지 않습니다.')\n",
    "    else:\n",
    "        print(f'검색값은 x[{idx}]에 있습니다.')\n"
   ]
  },
  {
   "cell_type": "markdown",
   "id": "3adb3171",
   "metadata": {},
   "source": [
    "---"
   ]
  },
  {
   "cell_type": "markdown",
   "id": "ca2d0f46",
   "metadata": {},
   "source": [
    "# 03-4 해시법"
   ]
  },
  {
   "cell_type": "markdown",
   "id": "79adf67c",
   "metadata": {},
   "source": [
    "- 검색과 더불어 데이터의 추가*삭제도 효율적으로 수행할수 있는 해시법\n"
   ]
  },
  {
   "cell_type": "markdown",
   "id": "690d5211",
   "metadata": {},
   "source": [
    "## 정렬된 배열에서 원소 추가하기"
   ]
  },
  {
   "cell_type": "markdown",
   "id": "9cee41c3",
   "metadata": {},
   "source": [
    "- 이진검색으로 검색법으로 검사\n",
    "- 모든 원소를 한 칸씩 뒤로 이동\n",
    "- 대입"
   ]
  },
  {
   "cell_type": "markdown",
   "id": "24571936",
   "metadata": {},
   "source": [
    "원소가 이동하는데 필요한 복잡도는 O(n)이고 그 비용은 결코 작지 않음 \n",
    "\n",
    "데이터를 삭제하는 경우에도 똑같은 비용이 발생"
   ]
  },
  {
   "cell_type": "markdown",
   "id": "785c4960",
   "metadata": {},
   "source": [
    "## 해시법\n",
    "\n",
    "해시법(Hashing)은 '데이터를 저장할 위치 = 인덱스'를 간단한 연산으로 구하는 것을 말함\n",
    "\n",
    "원소의 검색뿐 아니라 추가 삭제도 효율적으로 수행 \n",
    "\n",
    "배열의 키(원소의 값)를 원소 개수인 13으로 나눈 나머지를 해시 값(hash value)라고함\n",
    "\n",
    "해시 값은 데이터에 접근할 때 기준이 됨"
   ]
  },
  {
   "cell_type": "markdown",
   "id": "591a4285",
   "metadata": {},
   "source": [
    "원소갯수 0 1 2  3  4  5  6  7  8  9 10 11 12\n",
    "\n",
    "a   => 5 6 14 20 29 34 37 51 69 75 - - - \n",
    "\n",
    "해시값  5 6 1  7  3  8  11 12 4  10 - - -\n",
    "\n",
    "\n",
    " \n",
    "\n"
   ]
  },
  {
   "cell_type": "markdown",
   "id": "5dcc211c",
   "metadata": {},
   "source": [
    "해시값을 인덱스로 하여 원소를 새로 저장한 배열이 해시 테이블(hash Table)\n"
   ]
  },
  {
   "cell_type": "markdown",
   "id": "569cb6b3",
   "metadata": {},
   "source": [
    "### 해시테이블\n",
    "인덱스 =>  0  1  2  3  4  5  6  7  8   9  10  11  12\n",
    "\n",
    "a      => -  14  - 29 69  5  6 20  34 -  75  37  51  \n",
    "\n",
    "### 해시테이블에 데이터 35추가\n",
    "35를 13으로 나눈 나머지 9 \n",
    "\n",
    "\n",
    "인덱스 =>  0  1  2  3  4  5  6  7  8   9  10  11  12\n",
    "\n",
    "a      => -  14  - 29 69  5  6 20  34 35  75  37  51  \n"
   ]
  },
  {
   "cell_type": "markdown",
   "id": "f059c700",
   "metadata": {},
   "source": [
    "### 원소를 이동시킬 필요가 없음\n",
    "\n",
    "- **키를 해시값으로 변환하는 과정**을 **해시 함수(Hash function)**이라고 함\n",
    "\n",
    "- 일반적으로 **해시 함수**는 **나머지를 구하는 연산 또는 그 연산을 응용**할 때 주로 사용\n",
    "\n",
    "\n",
    "- **해시 테이블에서 만드러진 원소**를 **버킷(bucket)** 이라고 함"
   ]
  },
  {
   "cell_type": "markdown",
   "id": "e43b6750",
   "metadata": {},
   "source": [
    "## 해시 충돌"
   ]
  },
  {
   "cell_type": "markdown",
   "id": "cf3298e0",
   "metadata": {},
   "source": [
    "인덱스 =>  0  1  2  3  4  5  6  7  8   9  10  11  12\n",
    "\n",
    "a      => -  14  - 29 69  5  6 20  34 35  75  37  51  \n",
    "\n",
    "### 해시테이블 18 데이터를 추가 \n",
    "18을 13으로 나눈 나머지 5\n",
    "\n",
    "인덱스 =>  0  1  2  3  4  5  6  7  8   9  10  11  12\n",
    "\n",
    "a      => -  14  - 29 69  5  6 20  34 35  75  37  51  \n",
    "추가 ---------------------18\n",
    "### 추가할수없음"
   ]
  },
  {
   "cell_type": "markdown",
   "id": "0275cf75",
   "metadata": {},
   "source": [
    "- 키와 해시값을 일반적으로 다대 1(n:1)임\n",
    "\n",
    "- 이처럼 저장할 버킷이 중복되는 현상을 충돌(collision)이라고 함\n",
    "\n",
    "- 이렇게 해시법에서 충돌이 발생하는 경우 다음 2가지 방법으로 대처가능\n",
    "    - 체인법: 해시값이 같은 원소를 연결 리스트로 관리\n",
    "    - 오픈 주소법 : 빈 버킷을 찾을 떄까지 해시를 반복"
   ]
  },
  {
   "cell_type": "markdown",
   "id": "96081737",
   "metadata": {},
   "source": [
    "## 체인법\n",
    "\n",
    "- 체인법(chaining)이란 해시값이 같은 데이터를 체인(chain)모양의 연결 리스트로 연결하는 방법을 말함\n",
    "- 오픈 해시법(open hashing)이라고도 함\n",
    "\n",
    "### 해시값이 같은 데이터 저장하기"
   ]
  },
  {
   "cell_type": "markdown",
   "id": "5fde63af",
   "metadata": {},
   "source": [
    "#### 각 버킷은 '해시값이 같은 노드를 연결한 리스트'의 앞쪽 노드를 참조합니다.\n",
    "```\n",
    "인덱스   0    1     2     3     4     5    6    7    8    9    10   11    12\n",
    "\n",
    "버킷     -   14     -    29    69     5    6    20   -    -    -    -     -          \n",
    "\n",
    "버킷                           17               33\n",
    "```"
   ]
  },
  {
   "cell_type": "markdown",
   "id": "a16e45d8",
   "metadata": {},
   "source": [
    "- 체인법에서는 해시값이 같은 데이터를 연결 리스트에 의해 체인 모양으로 연결\n",
    "- 배열의 각 버킷(해시 테이블)에 저장하는 것은 인덱스를 해시값으로 하는 연결 리스트의 앞쪽 노드(head node)를 참조하는 것\n",
    "\n"
   ]
  },
  {
   "cell_type": "code",
   "execution_count": 6,
   "id": "e345a2b3",
   "metadata": {},
   "outputs": [],
   "source": [
    "# 체인법으로 해시 함수 구현하기\n",
    "\n",
    "from __future__ import annotations\n",
    "from typing import Sequence, Any, Type\n",
    "import hashlib\n",
    "\n",
    "class Node:\n",
    "    \"\"\"해시를 구성하는 노드\"\"\"\n",
    "    \n",
    "    def __init__(self, key:Any, value:Any, next: Node) -> None:\n",
    "        \"\"\"초기화\"\"\"\n",
    "        self.key = key # 키\n",
    "        self.value = value # 값\n",
    "        self.next = next # 뒤쪽 노드를 참조"
   ]
  },
  {
   "cell_type": "markdown",
   "id": "6108479c",
   "metadata": {},
   "source": [
    "## Node 클래스 만들기"
   ]
  },
  {
   "cell_type": "markdown",
   "id": "bb61cc12",
   "metadata": {},
   "source": [
    "Node 클래스는 개별 버킷을 나타냅니다. \n",
    "\n",
    "이 클래스는 필드가 3개 있습니다.\n",
    "\n",
    "#### 필드\n",
    "- key: 키(임의의 자료형)\n",
    "- value: 값(임의의 자료형)\n",
    "- next: 뒤쪽 노드를 참조(Node형)\n",
    "\n",
    "\n"
   ]
  },
  {
   "cell_type": "markdown",
   "id": "4a0dd13e",
   "metadata": {},
   "source": [
    "Node 클래스는 키와 값이 짝을 이루는 구조\n",
    "\n",
    "키에 해시 함수를 적용하여 해시값을 구함\n",
    "\n"
   ]
  },
  {
   "cell_type": "markdown",
   "id": "d97fb16b",
   "metadata": {},
   "source": [
    "Node 형 인스턴스를 초기화하는 __init__()함수는 3개의 인수 key, value, next를 전달받아 \n",
    "\n",
    "각각 대응하는 필드인 self.key, self.value, self.next에 대입"
   ]
  },
  {
   "cell_type": "code",
   "execution_count": 7,
   "id": "02380283",
   "metadata": {},
   "outputs": [],
   "source": [
    "# 체인법으로 해시 함수 구현하기\n",
    "\n",
    "from __future__ import annotations\n",
    "from typing import Sequence, Any, Type\n",
    "import hashlib\n",
    "\n",
    "class Node:\n",
    "    \"\"\"해시를 구성하는 노드\"\"\"\n",
    "    \n",
    "    def __init__(self, key:Any, value:Any, next: Node) -> None:\n",
    "        \"\"\"초기화\"\"\"\n",
    "        self.key = key # 키\n",
    "        self.value = value # 값\n",
    "        self.next = next # 뒤쪽 노드를 참조\n",
    "        \n",
    "        \n",
    "class ChainedHash:\n",
    "    \"\"\"체인법으로 해시 클래스 구현\"\"\"\n",
    "    \n",
    "    def __init__(self, capacity: int) -> None:\n",
    "        \"\"\"초기화\"\"\"\n",
    "        self.capacity = capacity # 해시 테이블의 크기를 지정\n",
    "        self.table = [None] * self.capacity # 해시 테이블(리스트)을 선언\n",
    "        \n",
    "    def hash_value(self, key:Any) -> int:\n",
    "        \"\"\"해시값을 구함\"\"\"\n",
    "        \n",
    "        if isinstance(key, int):\n",
    "            return key % self.capacity\n",
    "        return (int(hashlib.sha256(str(key).encode()).hexdigest(), 16) % self.capacity)"
   ]
  },
  {
   "cell_type": "markdown",
   "id": "cbdf2b91",
   "metadata": {},
   "source": [
    "## ChainedHash 해시 클래스 만들기\n",
    "\n",
    "ChainedHash 해시 클래스는 필드 2개로 구성됨\n",
    "\n",
    "- capacity : 해시 테이블의 크기(배열 table의 원소 수)를 나타냄\n",
    "- table : 해시 테이블을 저장하는 list형 배열을 나타냄\n",
    "\n",
    "### __init__() 함수로 초기화 하기\n",
    "\n",
    "- __init__() 함수는 빈 해시 테이블을 생성\n",
    "- 매개변수 capacity에 전달받는 것은 해시 테이블의 크기 \n",
    "- 원소 수가 capacity인 list형의 배열 table을 생성하고 모든 원소를 None으로 함\n",
    "- 해시 테이블의 각 버킷은 맨 앞부터 table[0], .... table[capacity-1] 순으로 접근\n",
    "\n",
    "### hash_value() 해시 함수 만들기\n",
    "\n",
    "- 인수 key에 대응하는 해시 값을 구함\n",
    "\n",
    "#### 해시와 해시 함수 알아보기\n",
    "\n",
    "- 해시(hash)는 '긁어모음, 뒤죽박죽, 가늘게 썬 고기 음식'을 뜻함\n",
    "\n",
    "- 충돌이 전혀 발생하지 않는다면 해시 함수로 인덱스를 찾는 것만으로 검색 추가 삭제가 대부분 완료 시간복잡도는 O(1)\n",
    "\n",
    "- 해시 테이블을 충분히 크게 만들면 충돌 발생을 억제 : 메모리 낭비\n",
    "\n",
    "- 시간과 공간의 트레이드-오프(상충관계)문제 발생\n",
    "\n",
    "- 충돌을 피하려면 해시 함수가 해시 테이블 크기보다 작거나 같은 정수를 고르게 생성\n",
    "\n",
    "- 해시 테이블의 크기는 소수를 선호\n",
    "\n",
    "##### key가 int형인 경우\n",
    "- key를 해시 크기(capacity)로 나눈 나머지를 해시값으로 함\n",
    "\n",
    "##### key가 int형이 아닌 경우\n",
    "- key가 정수가 아닌 경우(문자열, 리스트, 클래스형 등) 그 값으로는 바로 나눌 수 없음\n",
    "\n",
    "- 표준 라이브러리로 형 변환을 해서 해시 값을 구함\n",
    "\n",
    "    - sha 256 알고리즘 \n",
    "        - hashlib 모듈에서 제공하는 sha256은 RSA의 FIPS 알고리즘을 바탕으로 하며\n",
    "          주어진 바이트(byte) 문자열의 해시값을 구하는 해시 알고리즘의 생성자(constructor)임\n",
    "        - hashlib 모듈은 sha256이외도 MD5 알고리즘인 md5 등 다양한 해시 알고리즘을 제공\n",
    "        \n",
    "    - encode() 함수 \n",
    "        - hashlib.sha256에는 바이트 문자열의 인수를 전달해야 함\n",
    "        - key를 str형 문자열로 변환한 뒤 그 문자열을 encode()함수에 전달하여 바이트 문자열을 생성\n",
    "        \n",
    "    - hexdigest() 함수\n",
    "        - sha256 알고리즘에서 해시값을 16진수 문자열로 꺼냄\n",
    "        \n",
    "    - int() 함수\n",
    "        - hexdigest()함수로 꺼낸 문자열을 16진수 문자열로 하는 int형으로 변환"
   ]
  },
  {
   "cell_type": "markdown",
   "id": "83423cb3",
   "metadata": {},
   "source": [
    "## 키로 원소를 검색하는 search()함수\n",
    "\n",
    "```\n",
    "인덱스   0    1     2     3     4     5    6    7    8    9    10   11    12\n",
    "\n",
    "버킷     -   14     -    29    69     5    6    20   -    -    -    -     -          \n",
    "\n",
    "버킷                           17               33\n",
    "```\n",
    "\n",
    "### 33 검색하기\n",
    "- 33의 해시값은 7이므로 table[7]이 가리키는 연결 리스트를 찾아감\n",
    "- 20-> 33으로 찾아가면 검색에 성공\n",
    "\n",
    "### 26 검색하기\n",
    "- 26의 해시값은 0이므로 table[0]이 None이므로 검색에 실패\n",
    "\n",
    "\n",
    "search()함수가 원소를 검색하는 과정은 다음과 같이 정리할 수 있음\n",
    "- 1. 해시 함수를 사용하여 키를 해시값으로 변환\n",
    "- 2. 해시값을 인덱스로 하는 버킷에 주목\n",
    "- 3. 버킷이 참조하는 연결 리스트를 맨 앞부터 차례로 스캔 키와 같은 값이 발견되면 검색에 성공, 원소의 맨 끝까지 스캔해서 발견되지 않으면 검색에 실패"
   ]
  },
  {
   "cell_type": "code",
   "execution_count": null,
   "id": "6d8e850a",
   "metadata": {},
   "outputs": [],
   "source": [
    "# 체인법으로 해시 함수 구현하기\n",
    "from __future__ import annotations\n",
    "from typing import Any, Type\n",
    "import hashlib\n",
    "\n",
    "class Node:\n",
    "    \"\"\"해시를 구성하는 노드\"\"\"\n",
    "\n",
    "    def __init__(self, key: Any, value: Any, next: Node) -> None:\n",
    "        \"\"\"초기화\"\"\"\n",
    "        self.key   = key    # 키\n",
    "        self.value = value  # 값\n",
    "        self.next  = next   # 뒤쪽 노드를 참조\n",
    "\n",
    "class ChainedHash:\n",
    "    \"\"\"체인법을 해시 클래스 구현\"\"\"\n",
    "\n",
    "    def __init__(self, capacity: int) -> None:\n",
    "        \"\"\"초기화\"\"\"\n",
    "        self.capacity = capacity             # 해시 테이블의 크기를 지정\n",
    "        self.table = [None] * self.capacity  # 해시 테이블(리스트)을 선언\n",
    "\n",
    "    def hash_value(self, key: Any) -> int:\n",
    "        \"\"\"해시값을 구함\"\"\"\n",
    "        if isinstance(key, int):\n",
    "            return key % self.capacity\n",
    "        return(int(hashlib.sha256(str(key).encode()).hexdigest(), 16) % self.capacity)\n",
    "\n",
    "    def search(self, key: Any) -> Any:\n",
    "        \"\"\"키가 key인 원소를 검색하여 값을 반환\"\"\"\n",
    "        hash = self.hash_value(key)  # 검색하는 키의 해시값\n",
    "        p = self.table[hash]         # 노드를 노드\n",
    "\n",
    "        while p is not None:\n",
    "            if p.key == key:\n",
    "                 return p.value  # 검색 성공\n",
    "            p = p.next           # 뒤쪽 노드를 주목\n",
    "\n",
    "        return None              # 검색 실패\n",
    "\n",
    "    def add(self, key: Any, value: Any) -> bool:\n",
    "        \"\"\"키가 key이고 값이 value인 원소를 삽입\"\"\"\n",
    "        hash = self.hash_value(key)  # 삽입하는 키의 해시값\n",
    "        p = self.table[hash]         # 주목하는 노드\n",
    "\n",
    "        while p is not None:\n",
    "            if p.key == key:\n",
    "                return False         # 삽입 실패\n",
    "            p = p.next               # 뒤쪽 노드에 주목\n",
    "\n",
    "        temp = Node(key, value, self.table[hash])\n",
    "        self.table[hash] = temp      # 노드를 삽입\n",
    "        return True                  # 삽입 성공\n",
    "\n"
   ]
  },
  {
   "cell_type": "markdown",
   "id": "a9ba3a3a",
   "metadata": {},
   "source": [
    "### 원소를 추가하는 add()함수\n",
    "```\n",
    "인덱스   0    1     2     3     4     5    6    7    8    9    10   11    12\n",
    "\n",
    "버킷     -   14     -    29    69     5    6    20   -    -    -    -     -          \n",
    "\n",
    "버킷                           17               33\n",
    "```\n",
    "\n",
    "- add() 함수는 키가 key이고 값이 value인 원소를 추가\n",
    "\n",
    "#### 13 추가하기\n",
    "```\n",
    "인덱스   0    1     2     3     4     5    6    7    8    9    10   11    12\n",
    "\n",
    "버킷    13   14     -    29    69     5    6    20   -    -    -    -     -          \n",
    "\n",
    "버킷                           17               33\n",
    "```\n",
    "\n",
    "- 13의 해시 값은 0이고 table[0] 은 None \n",
    "- 13읠 저장하는 노드를 새로 생성하고, 그 노드에 대한 참조를 table[0]에 대입\n",
    "\n",
    "\n",
    "#### 46 추가하기\n",
    "\n",
    "- 46의 해시 값은 7이고  table[7] 버킷에는 20과 33을 연결한 연결 리스트에 대한 참조가 저장되어 있음\n",
    "\n",
    "- 이 리스트 안에 46은 존재하지 않으므로 연결리스트의 맨 앞에 46을 추가\n",
    "\n",
    "- 구체적으로 46을 저장하는 노드를 새로 생성하고, 그 노드에 대한 참조를 table[7]에 대입\n",
    "\n",
    "- 추가한 노드의 뒤쪽 포인터인 next가 20을 저장한 노드를 주목하도록 업데이트\n",
    "\n",
    "\n",
    "```\n",
    "인덱스   0    1     2     3     4     5    6    7    8    9    10   11    12\n",
    "\n",
    "버킷    13   14     -    29    69     5    6    46   -    -    -    -     -          \n",
    "\n",
    "버킷                           17               20\n",
    "\n",
    "버킷                                            33\n",
    "\n",
    "```\n"
   ]
  },
  {
   "cell_type": "markdown",
   "id": "8e204f3f",
   "metadata": {},
   "source": [
    "### add() 함수가 원소를 추가하는 과정은 다음과 같이 정리\n",
    "\n",
    "- 1. 해시 함수를 사용하여 키를 해시값으로 변환\n",
    "\n",
    "- 2. 해시값을 인덱스로 하는 버킷에 주목\n",
    "\n",
    "- 3. 버킷이 참조하는 연결 리스트를 맨 앞부터 차례로 선형 검색 , \n",
    "     \n",
    "     키와 같은 값이 발견되면 키가 이미 등록된 경우이므로 추가에 실패\n",
    "     \n",
    "     원소의 맨 끝까지 발견되지 않으면 해시값인 리스트의 맨 앞에 노드를 추가"
   ]
  },
  {
   "cell_type": "markdown",
   "id": "d327c11a",
   "metadata": {},
   "source": []
  },
  {
   "cell_type": "markdown",
   "id": "fe0eae90",
   "metadata": {},
   "source": []
  },
  {
   "cell_type": "markdown",
   "id": "f2bbf6c4",
   "metadata": {},
   "source": []
  },
  {
   "cell_type": "markdown",
   "id": "b354ee6c",
   "metadata": {},
   "source": []
  },
  {
   "cell_type": "markdown",
   "id": "a6693244",
   "metadata": {},
   "source": []
  },
  {
   "cell_type": "markdown",
   "id": "f7addec5",
   "metadata": {},
   "source": []
  },
  {
   "cell_type": "markdown",
   "id": "f4d9d0c2",
   "metadata": {},
   "source": []
  },
  {
   "cell_type": "markdown",
   "id": "184e4e72",
   "metadata": {},
   "source": []
  },
  {
   "cell_type": "markdown",
   "id": "13c5a03f",
   "metadata": {},
   "source": []
  },
  {
   "cell_type": "markdown",
   "id": "c99273bb",
   "metadata": {},
   "source": []
  },
  {
   "cell_type": "markdown",
   "id": "42f758fb",
   "metadata": {},
   "source": []
  },
  {
   "cell_type": "markdown",
   "id": "1a52c80f",
   "metadata": {},
   "source": []
  },
  {
   "cell_type": "markdown",
   "id": "36973dd4",
   "metadata": {},
   "source": []
  },
  {
   "cell_type": "markdown",
   "id": "5304d51e",
   "metadata": {},
   "source": []
  },
  {
   "cell_type": "markdown",
   "id": "0db7d17a",
   "metadata": {},
   "source": []
  },
  {
   "cell_type": "markdown",
   "id": "2ebbf28f",
   "metadata": {},
   "source": []
  },
  {
   "cell_type": "markdown",
   "id": "f510cfa8",
   "metadata": {},
   "source": []
  },
  {
   "cell_type": "markdown",
   "id": "36a31363",
   "metadata": {},
   "source": []
  },
  {
   "cell_type": "markdown",
   "id": "d388d67d",
   "metadata": {},
   "source": []
  },
  {
   "cell_type": "markdown",
   "id": "67ec4a3c",
   "metadata": {},
   "source": []
  },
  {
   "cell_type": "markdown",
   "id": "c7f66aec",
   "metadata": {},
   "source": []
  },
  {
   "cell_type": "markdown",
   "id": "43c5cb4e",
   "metadata": {},
   "source": []
  },
  {
   "cell_type": "markdown",
   "id": "ad04cd01",
   "metadata": {},
   "source": []
  },
  {
   "cell_type": "markdown",
   "id": "0128eb58",
   "metadata": {},
   "source": []
  },
  {
   "cell_type": "markdown",
   "id": "b1c34df3",
   "metadata": {},
   "source": []
  },
  {
   "cell_type": "markdown",
   "id": "0148f0f7",
   "metadata": {},
   "source": []
  },
  {
   "cell_type": "markdown",
   "id": "0d75606b",
   "metadata": {},
   "source": []
  },
  {
   "cell_type": "markdown",
   "id": "bbb41c62",
   "metadata": {},
   "source": []
  },
  {
   "cell_type": "markdown",
   "id": "4ba39b9c",
   "metadata": {},
   "source": []
  },
  {
   "cell_type": "markdown",
   "id": "b0000ee4",
   "metadata": {},
   "source": []
  },
  {
   "cell_type": "markdown",
   "id": "af8d679a",
   "metadata": {},
   "source": []
  },
  {
   "cell_type": "markdown",
   "id": "f59a6321",
   "metadata": {},
   "source": []
  },
  {
   "cell_type": "markdown",
   "id": "c01a340f",
   "metadata": {},
   "source": []
  },
  {
   "cell_type": "markdown",
   "id": "9bf8d3c7",
   "metadata": {},
   "source": []
  },
  {
   "cell_type": "markdown",
   "id": "94f83cb4",
   "metadata": {},
   "source": []
  },
  {
   "cell_type": "markdown",
   "id": "d46988c6",
   "metadata": {},
   "source": []
  },
  {
   "cell_type": "markdown",
   "id": "a3dcfb9c",
   "metadata": {},
   "source": []
  },
  {
   "cell_type": "markdown",
   "id": "0d19f759",
   "metadata": {},
   "source": []
  },
  {
   "cell_type": "markdown",
   "id": "10aee0c4",
   "metadata": {},
   "source": []
  },
  {
   "cell_type": "markdown",
   "id": "e56a962e",
   "metadata": {},
   "source": []
  },
  {
   "cell_type": "markdown",
   "id": "c88e485b",
   "metadata": {},
   "source": []
  },
  {
   "cell_type": "markdown",
   "id": "30491d43",
   "metadata": {},
   "source": []
  },
  {
   "cell_type": "markdown",
   "id": "99c4795f",
   "metadata": {},
   "source": []
  },
  {
   "cell_type": "markdown",
   "id": "fb2cdc70",
   "metadata": {},
   "source": []
  },
  {
   "cell_type": "markdown",
   "id": "7a0114c2",
   "metadata": {},
   "source": []
  },
  {
   "cell_type": "markdown",
   "id": "361f3ffd",
   "metadata": {},
   "source": []
  },
  {
   "cell_type": "markdown",
   "id": "089b3da8",
   "metadata": {},
   "source": []
  }
 ],
 "metadata": {
  "kernelspec": {
   "display_name": "Python 3 (ipykernel)",
   "language": "python",
   "name": "python3"
  },
  "language_info": {
   "codemirror_mode": {
    "name": "ipython",
    "version": 3
   },
   "file_extension": ".py",
   "mimetype": "text/x-python",
   "name": "python",
   "nbconvert_exporter": "python",
   "pygments_lexer": "ipython3",
   "version": "3.9.13"
  }
 },
 "nbformat": 4,
 "nbformat_minor": 5
}
