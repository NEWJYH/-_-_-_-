{
 "cells": [
  {
   "cell_type": "markdown",
   "id": "75897aef",
   "metadata": {},
   "source": [
    "셸 정렬(shell sort)은 단순 삽입 정렬의 장점은 살리고 단점은 보완하여 더 빠르게 정렬하는 알고리즘"
   ]
  },
  {
   "cell_type": "markdown",
   "id": "b4ecb595",
   "metadata": {},
   "source": [
    "## 단순 삽입 정렬의 문제"
   ]
  },
  {
   "cell_type": "markdown",
   "id": "d809dcf5",
   "metadata": {},
   "source": [
    "```\n",
    "\n",
    "|1|2|3|4|5|0|6|\n",
    "\n",
    "\n",
    "```\n",
    "\n",
    "두 번째 원소부터 주목하여 2,3,4,5를 순서대로 선택하며 정렬\n",
    "\n",
    "여섯 번째 원소인 0을 삽입 정렬하려면 총 6번에 걸쳐 원소를 이동(대입)해야 함"
   ]
  },
  {
   "cell_type": "markdown",
   "id": "9d768921",
   "metadata": {},
   "source": [
    "```\n",
    "         v v\n",
    "|1|2|3|4|5|0|6|\n",
    "\n",
    "       v v\n",
    "|1|2|3|4|0|5|6|\n",
    "\n",
    "     v v\n",
    "|1|2|3|0|4|5|6|\n",
    "\n",
    "   v v\n",
    "|1|2|0|3|4|5|6|\n",
    "\n",
    "\n",
    " v v\n",
    "|1|0|2|3|4|5|6|\n",
    "\n",
    "\n",
    " \n",
    "|0|1|2|3|4|5|6|\n",
    "\n",
    "```"
   ]
  },
  {
   "cell_type": "markdown",
   "id": "77eb913b",
   "metadata": {},
   "source": [
    "단순 삽입 정렬\n",
    "\n",
    "- 장점 : 이미 정렬을 마쳤거나 정렬이 거의 끝나가는 상태에서는 속도가 아주 빠름\n",
    "- 단점 : 삽입할 위치가 멀리 떨어져 있으면 이동 횟수가 많아짐"
   ]
  },
  {
   "cell_type": "markdown",
   "id": "6d6b8653",
   "metadata": {},
   "source": [
    "## 셸 정렬 알아보기"
   ]
  },
  {
   "cell_type": "markdown",
   "id": "30f48653",
   "metadata": {},
   "source": [
    "단순 삽입 정렬의 장점을 살리면서 단점을 보완 한 것이 도널드L.셸이 고안한 셸정렬 알고리즘\n",
    "\n",
    "- 먼저 정렬할 배열의 원소를 그룹으로 나눠 각 그룹별로 정렬을 수행\n",
    "- 정렬된 그룹을 합치는 작업을 반복하여 원소의 이동 횟수를 줄이는 방법\n",
    "- 퀵 정렬 알고리즘이 고안되기 전까지 가장 빠른 알고리즘\n"
   ]
  },
  {
   "cell_type": "markdown",
   "id": "8d23f0a1",
   "metadata": {},
   "source": [
    "\n",
    "```\n",
    "\n",
    "|8|1|4|2|7|6|3|5|\n",
    "\n",
    "```"
   ]
  },
  {
   "cell_type": "markdown",
   "id": "a3b5c785",
   "metadata": {},
   "source": [
    "- 먼저 4칸씩 떨어진 원소를 꺼내어 \n",
    "  (8, 7), (1, 6), (4, 3) (2, 5)의 4개의 그룹으로 나누고 그룹별로 각각 정렬\n",
    "  \n",
    "- 8,7은 7,8로 1,6은 1,6 4,3은 3,4 2,5는 2,5로 정렬\n",
    "\n",
    "\n",
    "\n",
    "```\n",
    " v       v\n",
    "|8|1|4|2|7|6|3|5|\n",
    "\n",
    "   v       v\n",
    "|7|1|4|2|8|6|3|5|\n",
    "\n",
    "     v       v\n",
    "|7|1|4|2|8|6|3|5|\n",
    "\n",
    "       v       v\n",
    "|7|1|3|2|8|6|4|5|\n",
    "\n",
    "\n",
    "|7|1|3|2|8|6|4|5|  \n",
    "```\n",
    "- 이처럼 서로 4칸 떨어진 원소를 정렬하는 방법을 '4-정렬'이라고 함\n",
    "\n",
    "- 아직 정렬을 마치진 않았지만 정렬의 거의 마친 상태에 가까워짐\n"
   ]
  },
  {
   "cell_type": "markdown",
   "id": "ed30d010",
   "metadata": {},
   "source": [
    "- 이어서 2칸 떨어진 원소를 모두 꺼내 (7,3,8,4), (1,2,6,5)의 두 그룹으로 나누고 '2-정렬'을 수행\n",
    "\n",
    "```\n",
    "\n",
    " v   v   v   v\n",
    "|7|1|3|2|8|6|4|5|  \n",
    "\n",
    "\n",
    "|3|1|4|2|7|6|8|5|  \n",
    "\n",
    "   v   v   v   v\n",
    "|3|1|4|2|7|6|8|5|  \n",
    "\n",
    "\n",
    "|3|1|4|2|7|5|8|6|  \n",
    "\n",
    "```\n",
    "\n",
    "- 이렇게 해서 얻은 배열은 좀 더 정렬된 상태에 가까워짐\n",
    "\n",
    "- 마지막으로 '1-정렬'을 적용하여 1칸 떨어진 배열, 즉 배열 전체에 적용하면 정렬이 완료"
   ]
  },
  {
   "cell_type": "markdown",
   "id": "3a3ae584",
   "metadata": {},
   "source": [
    "셸 정령 과정에서 수행하는 각각의 정렬을 h-정렬이라고 함\n",
    "\n",
    "h값을 4,2,1 로 감소 시키면서 정렬을 총 7번 수행하여 정렬을 완료\n",
    "\n",
    "- 2개 원소에서 4-정렬을 수행(4개 그룹, 4번)\n",
    "\n",
    "- 4개 원소에서 2-정렬을 수행(2개 그룹, 2번)\n",
    "\n",
    "- 8개 원소에서 1-정렬을 수행(1개 그룹, 1번)\n",
    "\n",
    "총 7번 정렬"
   ]
  },
  {
   "cell_type": "markdown",
   "id": "7f6ab469",
   "metadata": {},
   "source": [
    "- 셸 정렬은 단순 삽입 정렬의 장점을 살리고 단점을 보완하기 위해 사용\n",
    "\n",
    "- 정렬 횟수는 늘어나지만 전체적으로 원소의 이동 횟수가 줄어들어 효율적"
   ]
  },
  {
   "cell_type": "code",
   "execution_count": 2,
   "id": "a4541917",
   "metadata": {},
   "outputs": [
    {
     "name": "stdout",
     "output_type": "stream",
     "text": [
      "셸 정렬을 수행합니다.\n",
      "원소 수를 입력하세요. : 8\n",
      "x[0] : 8\n",
      "x[1] : 1\n",
      "x[2] : 4\n",
      "x[3] : 2\n",
      "x[4] : 7\n",
      "x[5] : 6\n",
      "x[6] : 3\n",
      "x[7] : 5\n",
      "오름차순으로 정렬했습니다.\n",
      "x[0] = 1\n",
      "x[1] = 2\n",
      "x[2] = 3\n",
      "x[3] = 4\n",
      "x[4] = 5\n",
      "x[5] = 6\n",
      "x[6] = 7\n",
      "x[7] = 8\n"
     ]
    }
   ],
   "source": [
    "# 셸 정렬 알고리즘 구현하기\n",
    "\n",
    "from typing import MutableSequence\n",
    "\n",
    "# 인자로 뮤터블 시퀸스 리스트를 받음\n",
    "def shell_sort(a: MutableSequence) -> None:\n",
    "    \"\"\"셸 정렬\"\"\"\n",
    "    \n",
    "    # 인자로 받아온 리스트의 길이\n",
    "    n = len(a)\n",
    "    # 길이의 절반으로 h를 구성\n",
    "    h = n // 2\n",
    "    \n",
    "    # h가 0보다 클경우 무한 반복\n",
    "    while h > 0:\n",
    "        \n",
    "        # h부터 n까지 반복\n",
    "        for i in range(h, n):\n",
    "        \n",
    "            j = i - h\n",
    "            tmp = a[i]\n",
    "        \n",
    "            while j >= 0 and a[j] > tmp:\n",
    "                a[j + h] = a[j]\n",
    "                j -= h\n",
    "            \n",
    "            a[j + h] = tmp\n",
    "        \n",
    "        h //= 2\n",
    "        \n",
    "        \n",
    "if __name__ == \"__main__\":\n",
    "    print(\"셸 정렬을 수행합니다.\")\n",
    "    num = int(input(\"원소 수를 입력하세요. : \"))\n",
    "    x = [None] * num # 원소 수가 num인 배열을 생성\n",
    "    \n",
    "    for i in range(num):\n",
    "        x[i] = int(input(f'x[{i}] : '))\n",
    "        \n",
    "    shell_sort(x)\n",
    "    \n",
    "    print('오름차순으로 정렬했습니다.')\n",
    "    for i in range(num):\n",
    "        print(f'x[{i}] = {x[i]}')"
   ]
  },
  {
   "cell_type": "markdown",
   "id": "5df8ab99",
   "metadata": {},
   "source": [
    "- 단순 삽입 정렬을 수행하는 과정과 거의 같지만\n",
    "  \n",
    "  다른 점이 있다면 주목하는 원소와 비교하는 원소가 서로 이웃하지 않고 h개 만큼 떨어져 있다는 것\n",
    "  \n",
    "- h의 초깃값은 n // 2로 전체 배열의 절반 값으로 시작  \n",
    "  반복할 때마다 다시 2로 나눈 값으로 업데이트\n",
    "  \n"
   ]
  },
  {
   "cell_type": "markdown",
   "id": "bdf4b9e2",
   "metadata": {},
   "source": [
    "h\n",
    "\n",
    "- 원소수가 8이면 4 -> 2 -> 1\n",
    "- 원소수가 7이면 3 -> 1"
   ]
  },
  {
   "cell_type": "markdown",
   "id": "b6ce0a0a",
   "metadata": {},
   "source": [
    "### h값의 선택\n",
    "\n",
    "h값은 n부터 감소하다가 마지막에는 1이 됨\n",
    "\n",
    "- h 값을 어떤 수열로 감소시키면 효율적인 정렬을 할수 있을지 ? \n",
    "\n",
    "- h값이 서로 배수가 된다면 효율 좋은 정렬을 기대할수 없게 됨\n",
    "\n",
    "- h값은 서로 배수가 되지 않도록 해야 함\n"
   ]
  },
  {
   "cell_type": "code",
   "execution_count": 7,
   "id": "ac8d375f",
   "metadata": {},
   "outputs": [
    {
     "name": "stdout",
     "output_type": "stream",
     "text": [
      "셸 정렬을 수행합니다.\n",
      "원소 수를 입력하세요. : 10\n",
      "x[0] : 10\n",
      "x[1] : 9\n",
      "x[2] : 8\n",
      "x[3] : 7\n",
      "x[4] : 6\n",
      "x[5] : 5\n",
      "x[6] : 4\n",
      "x[7] : 3\n",
      "x[8] : 2\n",
      "x[9] : 1\n",
      "h는 1\n",
      "오름차순으로 정렬했습니다.\n",
      "x[0] = 1\n",
      "x[1] = 2\n",
      "x[2] = 3\n",
      "x[3] = 4\n",
      "x[4] = 5\n",
      "x[5] = 6\n",
      "x[6] = 7\n",
      "x[7] = 8\n",
      "x[8] = 9\n",
      "x[9] = 10\n"
     ]
    }
   ],
   "source": [
    "# 셸 정렬 알고리즘 구현하기\n",
    "\n",
    "from typing import MutableSequence\n",
    "\n",
    "# 인자로 뮤터블 시퀸스 리스트를 받음\n",
    "def shell_sort(a: MutableSequence) -> None:\n",
    "    \"\"\"셸 정렬(h * 3 + 1의 수열 사용)\"\"\"\n",
    "    \n",
    "    # 인자로 받아온 리스트의 길이\n",
    "    n = len(a)\n",
    "    h = 1\n",
    "\n",
    "    while h < n // 9:\n",
    "        h = h * 3 + 1 \n",
    "    \n",
    "    \n",
    "    # h가 0보다 클경우 무한 반복\n",
    "    while h > 0:\n",
    "        print(\"h는\", h)\n",
    "        # h부터 n까지 반복\n",
    "        for i in range(h, n):\n",
    "        \n",
    "            j = i - h\n",
    "            tmp = a[i]\n",
    "        \n",
    "            while j >= 0 and a[j] > tmp:\n",
    "                a[j + h] = a[j]\n",
    "                j -= h\n",
    "            \n",
    "            a[j + h] = tmp\n",
    "        \n",
    "        h //= 2\n",
    "        \n",
    "        \n",
    "if __name__ == \"__main__\":\n",
    "    print(\"셸 정렬을 수행합니다.\")\n",
    "    num = int(input(\"원소 수를 입력하세요. : \"))\n",
    "    x = [None] * num # 원소 수가 num인 배열을 생성\n",
    "    \n",
    "    for i in range(num):\n",
    "        x[i] = int(input(f'x[{i}] : '))\n",
    "        \n",
    "    shell_sort(x)\n",
    "    \n",
    "    print('오름차순으로 정렬했습니다.')\n",
    "    for i in range(num):\n",
    "        print(f'x[{i}] = {x[i]}')"
   ]
  },
  {
   "cell_type": "markdown",
   "id": "dceff239",
   "metadata": {},
   "source": [
    "while 문에서 h의 초깃값을 구함\n",
    "\n",
    "- 1부터 시작해서 h * 3 + 1의 수열을 사용하는 작업을 반복하지만, n // 9를 넘지 않는 최대값을 h에 대입\n"
   ]
  },
  {
   "cell_type": "markdown",
   "id": "3574498e",
   "metadata": {},
   "source": [
    "### 셸 정렬\n",
    "\n",
    "- 시간복잡도는 O(n^1.25)이고 단순 정렬의 시간 복잡도인 O(N^2)보다 매우 빠름\n",
    "\n",
    "- 셸 정렬 알고리즘은 이웃하지 않고 떨어져 있는 원소를 서로 교환하므로 안정적이지 않음"
   ]
  }
 ],
 "metadata": {
  "kernelspec": {
   "display_name": "Python 3 (ipykernel)",
   "language": "python",
   "name": "python3"
  },
  "language_info": {
   "codemirror_mode": {
    "name": "ipython",
    "version": 3
   },
   "file_extension": ".py",
   "mimetype": "text/x-python",
   "name": "python",
   "nbconvert_exporter": "python",
   "pygments_lexer": "ipython3",
   "version": "3.9.13"
  }
 },
 "nbformat": 4,
 "nbformat_minor": 5
}
