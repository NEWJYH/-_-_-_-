{
 "cells": [
  {
   "cell_type": "markdown",
   "id": "24d0289f",
   "metadata": {},
   "source": [
    "# 02-1 기본 ㅁ자료구조"
   ]
  },
  {
   "cell_type": "markdown",
   "id": "b4629260",
   "metadata": {},
   "source": [
    "배열 개념 알아보기"
   ]
  },
  {
   "cell_type": "code",
   "execution_count": 1,
   "id": "6a1d109c",
   "metadata": {},
   "outputs": [
    {
     "name": "stdout",
     "output_type": "stream",
     "text": [
      "학생 그룹 점수의 합계와 평균을 구합니다.\n",
      "1번 학생의 점수를 입력하세요.: 32\n",
      "2번 학생의 점수를 입력하세요.: 68\n",
      "3번 학생의 점수를 입력하세요.: 72\n",
      "4번 학생의 점수를 입력하세요.: 54\n",
      "5번 학생의 점수를 입력하세요.: 92\n",
      "합계는 318점입니다.\n",
      "평균은 63.6점입니다.\n"
     ]
    }
   ],
   "source": [
    "# 학생 5명의 시험 점수를 입력 받아 합계와 평균을 출력하기\n",
    "\n",
    "print('학생 그룹 점수의 합계와 평균을 구합니다.')\n",
    "\n",
    "score1 = int(input('1번 학생의 점수를 입력하세요.: '))\n",
    "score2 = int(input('2번 학생의 점수를 입력하세요.: '))\n",
    "score3 = int(input('3번 학생의 점수를 입력하세요.: '))\n",
    "score4 = int(input('4번 학생의 점수를 입력하세요.: '))\n",
    "score5 = int(input('5번 학생의 점수를 입력하세요.: '))\n",
    "\n",
    "total = 0\n",
    "total += score1\n",
    "total += score2\n",
    "total += score3\n",
    "total += score4\n",
    "total += score5\n",
    "\n",
    "print(f'합계는 {total}점입니다.')\n",
    "print(f'평균은 {total / 5 }점입니다.')"
   ]
  },
  {
   "cell_type": "markdown",
   "id": "1c71f0a9",
   "metadata": {},
   "source": [
    "리스트와 튜플로 알아보기"
   ]
  },
  {
   "cell_type": "code",
   "execution_count": 7,
   "id": "2deff9ca",
   "metadata": {},
   "outputs": [
    {
     "name": "stdout",
     "output_type": "stream",
     "text": [
      "[]\n",
      "[1, 2, 3]\n",
      "['A', 'B', 'C']\n",
      "[]\n",
      "['A', 'B', 'C']\n",
      "[1, 2, 3]\n",
      "[1, 2, 3]\n",
      "[1, 2, 3]\n",
      "[0, 1, 2, 3, 4, 5, 6]\n",
      "[3, 4, 5, 6, 7]\n",
      "[3, 5, 7, 9, 11]\n"
     ]
    }
   ],
   "source": [
    "list01 = []\n",
    "list02 = [1,2,3]\n",
    "list03 = ['A','B','C']\n",
    "list04 = list()\n",
    "list05 = list('ABC')\n",
    "list06 = list([1,2,3])\n",
    "list07 = list((1,2,3))\n",
    "list08 = list({1,2,3}) \n",
    "list09 = list(range(7))\n",
    "list10 = list(range(3,8))\n",
    "list11 = list(range(3,13,2))\n",
    "\n",
    "print(list01)\n",
    "print(list02)\n",
    "print(list03)\n",
    "print(list04)\n",
    "print(list05)\n",
    "print(list06)\n",
    "print(list07)\n",
    "print(list08)\n",
    "print(list09)\n",
    "print(list10)\n",
    "print(list11)"
   ]
  },
  {
   "cell_type": "code",
   "execution_count": 9,
   "id": "cc105b48",
   "metadata": {},
   "outputs": [
    {
     "name": "stdout",
     "output_type": "stream",
     "text": [
      "[None, None, None, None, None]\n"
     ]
    }
   ],
   "source": [
    "list12 = [None] * 5\n",
    "print(list12)"
   ]
  },
  {
   "cell_type": "markdown",
   "id": "7640c438",
   "metadata": {},
   "source": [
    "튜플의 기초"
   ]
  },
  {
   "cell_type": "markdown",
   "id": "f9d7669b",
   "metadata": {},
   "source": [
    "튜플은 이뮤터블(Immutable) 자료형 \n",
    "\n",
    "- 튜플은 원소를 쉼표(,)로 구분하여 나열한 뒤 결합 연산자()로 둘러싸는 방식으로 생성 "
   ]
  },
  {
   "cell_type": "code",
   "execution_count": 10,
   "id": "3b335b08",
   "metadata": {},
   "outputs": [
    {
     "name": "stdout",
     "output_type": "stream",
     "text": [
      "()\n",
      "(1,)\n",
      "(1,)\n"
     ]
    }
   ],
   "source": [
    "tuple01 = () # () 빈 퓨틀\n",
    "tuple02 = 1,\n",
    "tuple03 = (1,)\n",
    "\n",
    "print(tuple01)\n",
    "print(tuple02)\n",
    "print(tuple03)"
   ]
  },
  {
   "cell_type": "code",
   "execution_count": 11,
   "id": "43749309",
   "metadata": {},
   "outputs": [
    {
     "name": "stdout",
     "output_type": "stream",
     "text": [
      "1\n",
      "1\n"
     ]
    }
   ],
   "source": [
    "v01 = 1 # 튜플이 아닌 하나의 값을 가진 int형 변수\n",
    "v02 = (1) # 튜플이 아닌 하나의 값을 가진 int형 변수\n",
    "\n",
    "print(v01)\n",
    "print(v02)"
   ]
  },
  {
   "cell_type": "markdown",
   "id": "d6ca9948",
   "metadata": {},
   "source": [
    "리스트와 튜플 풀어내기\n"
   ]
  },
  {
   "cell_type": "code",
   "execution_count": 12,
   "id": "a3e8236d",
   "metadata": {},
   "outputs": [
    {
     "name": "stdout",
     "output_type": "stream",
     "text": [
      "1\n",
      "2\n",
      "3\n"
     ]
    }
   ],
   "source": [
    "x = [1,2,3]\n",
    "a, b, c = x\n",
    "print(a)\n",
    "print(b)\n",
    "print(c)\n"
   ]
  },
  {
   "cell_type": "markdown",
   "id": "de502434",
   "metadata": {},
   "source": [
    "## 인덱스로 원소에 접근하기"
   ]
  },
  {
   "cell_type": "code",
   "execution_count": 13,
   "id": "538bbe9b",
   "metadata": {},
   "outputs": [
    {
     "data": {
      "text/plain": [
       "33"
      ]
     },
     "execution_count": 13,
     "metadata": {},
     "output_type": "execute_result"
    }
   ],
   "source": [
    "x = [11, 22, 33, 44, 55, 66, 77]\n",
    "x[2]"
   ]
  },
  {
   "cell_type": "code",
   "execution_count": 14,
   "id": "b71d9d99",
   "metadata": {},
   "outputs": [
    {
     "data": {
      "text/plain": [
       "55"
      ]
     },
     "execution_count": 14,
     "metadata": {},
     "output_type": "execute_result"
    }
   ],
   "source": [
    "x[-3]"
   ]
  },
  {
   "cell_type": "markdown",
   "id": "cbdc258c",
   "metadata": {},
   "source": [
    "## 슬라이스식으로 원소에 접근하기"
   ]
  },
  {
   "cell_type": "code",
   "execution_count": 15,
   "id": "f18136f0",
   "metadata": {},
   "outputs": [
    {
     "data": {
      "text/plain": [
       "[11, 22, 33, 44, 55, 66]"
      ]
     },
     "execution_count": 15,
     "metadata": {},
     "output_type": "execute_result"
    }
   ],
   "source": [
    "s = [11, 22, 33, 44, 55, 66, 77]\n",
    "s[0:6]"
   ]
  },
  {
   "cell_type": "code",
   "execution_count": 16,
   "id": "6dc5794c",
   "metadata": {},
   "outputs": [
    {
     "data": {
      "text/plain": [
       "[44, 55]"
      ]
     },
     "execution_count": 16,
     "metadata": {},
     "output_type": "execute_result"
    }
   ],
   "source": [
    "s[-4:-2]"
   ]
  },
  {
   "cell_type": "markdown",
   "id": "38ac03d5",
   "metadata": {},
   "source": [
    "---"
   ]
  },
  {
   "cell_type": "markdown",
   "id": "6465695a",
   "metadata": {},
   "source": [
    "## 자료구조의 개념 알아보기"
   ]
  },
  {
   "cell_type": "markdown",
   "id": "5d47759a",
   "metadata": {},
   "source": [
    "자료구조(data structure)는 노리적인 관계로 이루어진 데이터의 구성\n",
    "\n",
    "- 자료구조 : 데이터 단위와 데이터 자체 사이의 물리적 또는 논리적인 관계 "
   ]
  },
  {
   "cell_type": "markdown",
   "id": "28296799",
   "metadata": {},
   "source": [
    "---"
   ]
  },
  {
   "cell_type": "markdown",
   "id": "07e7988f",
   "metadata": {},
   "source": [
    "\n",
    "---"
   ]
  },
  {
   "cell_type": "markdown",
   "id": "a3f07e05",
   "metadata": {},
   "source": [
    "# 02-2 배열이란?\n"
   ]
  },
  {
   "cell_type": "markdown",
   "id": "8df9ab06",
   "metadata": {},
   "source": [
    "## 배열 원소의 최댓값 구하기"
   ]
  },
  {
   "cell_type": "code",
   "execution_count": 17,
   "id": "b46a3484",
   "metadata": {},
   "outputs": [
    {
     "name": "stdout",
     "output_type": "stream",
     "text": [
      "배열의 최댓값을 구합니다.\n",
      "원소 수를 입력하세요.: 10\n",
      "x[0]값을 입력하세요. :0\n",
      "x[1]값을 입력하세요. :1\n",
      "x[2]값을 입력하세요. :2\n",
      "x[3]값을 입력하세요. :3\n",
      "x[4]값을 입력하세요. :4\n",
      "x[5]값을 입력하세요. :5\n",
      "x[6]값을 입력하세요. :66\n",
      "x[7]값을 입력하세요. :77\n",
      "x[8]값을 입력하세요. :88\n",
      "x[9]값을 입력하세요. :99\n",
      "최대값은 99입니다.\n"
     ]
    }
   ],
   "source": [
    "# 시큌스 원소의 최댓값 출력\n",
    "from typing import Any, Sequence\n",
    "\n",
    "def max_of(a: Sequence) -> Any:\n",
    "    '''시퀸스형 a 원소의 최댓값을 반환'''\n",
    "    maximum = a[0]\n",
    "    for i in range(1, len(a)):\n",
    "        if a[i] > maximum:\n",
    "            maximum = a[i]\n",
    "    return maximum\n",
    "\n",
    "\n",
    "if __name__ == '__main__':\n",
    "    print('배열의 최댓값을 구합니다.')\n",
    "    num = int(input(\"원소 수를 입력하세요.: \"))\n",
    "    x = [None] * num\n",
    "    \n",
    "    for i in range(num):\n",
    "        x[i] = int(input(f'x[{i}]값을 입력하세요. :'))\n",
    "        \n",
    "    print(f\"최대값은 {max_of(x)}입니다.\")"
   ]
  },
  {
   "cell_type": "markdown",
   "id": "aa24d128",
   "metadata": {},
   "source": [
    "## 주석과 자료형 힌트\n",
    "\n",
    "from typing import Any, Sequence\n",
    "\n",
    "- Any : 제약이 없는 임의의 자료형을 의미\n",
    "- Sequence : 시퀸스형을 의미 \n",
    "\n",
    "- 시퀸스형에는 List, Bytearry, Str, tuple, byte형이 있음\n",
    "\n",
    "\n",
    "def max_of(a: Sequence) -> Any:\n",
    "\n",
    "- 건네 받은 매개변수 a의 자료형은 Sequence입니다.\n",
    "- 반환하는 것은 읨의의 자료형인 Any입니다.\n",
    "\n",
    "#### max_of() 함수의 특성은 다음과 같이 정리할수 있음\n",
    "- 함수 안에서 배열 a의 원솟값을 변경하지 않습니다.\n",
    "- 호출하는 쪽이 넘겨주는 실제 인수의 자료형은 뮤터블인 리스트, 이뮤터블인 튜플, 문자열 등\n",
    "  시퀸스 자료형이라면 무엇이든 상관없습니다.\n",
    "  \n",
    "- 인수의 원소를 비교연산자 > 로 값을 비교할 수 있다면 (int, float형)이 섞여 있어도 됩니다.\n",
    "- 최대값의 원소가 int형 원소이면 int형 값을 반환하고, float형 원소이면 float형 값을 반환합니다.\n"
   ]
  },
  {
   "cell_type": "markdown",
   "id": "e5b55a37",
   "metadata": {},
   "source": [
    "---\n",
    "\n",
    "## 배열 원소를 역순으로 정렬하기"
   ]
  },
  {
   "cell_type": "code",
   "execution_count": 20,
   "id": "a21fca98",
   "metadata": {},
   "outputs": [
    {
     "name": "stdout",
     "output_type": "stream",
     "text": [
      "배열 원소를 역순으로 정렬합니다.\n",
      "원소 수를 입력하세요.: 7\n",
      "x[0]값을 입력하세요.: 2\n",
      "x[1]값을 입력하세요.: 5\n",
      "x[2]값을 입력하세요.: 1\n",
      "x[3]값을 입력하세요.: 3\n",
      "x[4]값을 입력하세요.: 9\n",
      "x[5]값을 입력하세요.: 6\n",
      "x[6]값을 입력하세요.: 7\n",
      "배열 원소를 역순으로 정렬했습니다.\n",
      "x[0] = 7\n",
      "x[1] = 6\n",
      "x[2] = 9\n",
      "x[3] = 3\n",
      "x[4] = 1\n",
      "x[5] = 5\n",
      "x[6] = 2\n"
     ]
    }
   ],
   "source": [
    "# 뮤터블 시퀸스 원소를 역순으로 정렬하기\n",
    "\n",
    "from typing import Any, MutableSequence\n",
    "\n",
    "\n",
    "def reverse_array(a:MutableSequence) -> None:\n",
    "    \"\"\"뮤터블 시퀸스 a의 원소를 역순으로 정렬\"\"\"\n",
    "    n = len(a)\n",
    "    for i in range(n //2):\n",
    "        a[i], a[n -i -1] = a[n -i -1], a[i]\n",
    "        \n",
    "if __name__ == \"__main__\":\n",
    "    print(\"배열 원소를 역순으로 정렬합니다.\")\n",
    "    nx = int(input(\"원소 수를 입력하세요.: \"))\n",
    "    x = [None] * nx # 원소 수가 nx인 리스트를 생성\n",
    "    \n",
    "    for i in range(nx):\n",
    "        x[i] = int(input(f'x[{i}]값을 입력하세요.: '))\n",
    "        \n",
    "    reverse_array(x) # x를 역순으로 정렬\n",
    "    \n",
    "    print(\"배열 원소를 역순으로 정렬했습니다.\")\n",
    "    for i in range(nx):\n",
    "        print(f'x[{i}] = {x[i]}')"
   ]
  },
  {
   "cell_type": "markdown",
   "id": "633e63ee",
   "metadata": {},
   "source": [
    "---"
   ]
  },
  {
   "cell_type": "markdown",
   "id": "69cc1eab",
   "metadata": {},
   "source": [
    "## 기수 변환하기(n진수 구하기)"
   ]
  },
  {
   "cell_type": "code",
   "execution_count": 21,
   "id": "fe28bf9d",
   "metadata": {},
   "outputs": [],
   "source": [
    "# 10진수 정수값을 입력받아 2 ~ 36진수로 변환하여 출력하기\n",
    "\n",
    "def card_conv(x:int, r:int) -> str:\n",
    "    \"\"\"정수값 x를 r진수로 변환한 뒤 그 수를 나타내는 문자열을 반환\"\"\"\n",
    "    \n",
    "    d = '' # 변환후 문자열\n",
    "    dchar = '0123456789ABCDEFGHIJKLMNOPQRSTUVWXYZ'\n",
    "    \n",
    "    while x > 0:\n",
    "        d += dchar[x % r] # 해당하는 문자를 꺼내 결합\n",
    "        x //= r\n",
    "        \n",
    "    return d[::-1] # 역순으로 반환"
   ]
  },
  {
   "cell_type": "code",
   "execution_count": 24,
   "id": "8f21fd00",
   "metadata": {},
   "outputs": [
    {
     "name": "stdout",
     "output_type": "stream",
     "text": [
      "10진수를 n진수로 변환합니다.\n",
      "변환할 값으로 음이 아닌 정수를 입력하세요.: 15\n",
      "어떤 진수로 변환할까요?: 32\n",
      "32진수로는 F입니다.\n",
      "한 번 더 변환할까요?(Y ... 예/ N ... 아니오): y\n",
      "변환할 값으로 음이 아닌 정수를 입력하세요.: 15972984\n",
      "어떤 진수로 변환할까요?: 2\n",
      "2진수로는 111100111011101001111000입니다.\n",
      "한 번 더 변환할까요?(Y ... 예/ N ... 아니오): n\n"
     ]
    }
   ],
   "source": [
    "if __name__ == \"__main__\":\n",
    "    print(\"10진수를 n진수로 변환합니다.\")\n",
    "    \n",
    "    while True:\n",
    "        while True: # 음이 아닌 정수를 입력받음\n",
    "            no = int(input(\"변환할 값으로 음이 아닌 정수를 입력하세요.: \"))\n",
    "            if no > 0:\n",
    "                break\n",
    "\n",
    "        while True: # 2 ~ 36진수의 정숫값을 입력받음\n",
    "            cd = int(input('어떤 진수로 변환할까요?: '))\n",
    "            if 2<= cd <= 36:\n",
    "                break\n",
    "                \n",
    "        print(f'{cd}진수로는 {card_conv(no, cd)}입니다.')\n",
    "        retry = input(\"한 번 더 변환할까요?(Y ... 예/ N ... 아니오): \")\n",
    "        if retry.upper()  == \"N\":\n",
    "            break"
   ]
  },
  {
   "cell_type": "markdown",
   "id": "79a61860",
   "metadata": {},
   "source": [
    "---"
   ]
  },
  {
   "cell_type": "markdown",
   "id": "d3ed9548",
   "metadata": {},
   "source": [
    "## 소수 나열하기"
   ]
  },
  {
   "cell_type": "code",
   "execution_count": 31,
   "id": "136cb6d9",
   "metadata": {},
   "outputs": [
    {
     "name": "stdout",
     "output_type": "stream",
     "text": [
      "2\n",
      "3\n",
      "5\n",
      "7\n",
      "11\n",
      "13\n",
      "17\n",
      "19\n",
      "23\n",
      "29\n",
      "31\n",
      "37\n",
      "41\n",
      "43\n",
      "47\n",
      "53\n",
      "59\n",
      "61\n",
      "67\n",
      "71\n",
      "73\n",
      "79\n",
      "83\n",
      "89\n",
      "97\n",
      "101\n",
      "103\n",
      "107\n",
      "109\n",
      "113\n",
      "127\n",
      "131\n",
      "137\n",
      "139\n",
      "149\n",
      "151\n",
      "157\n",
      "163\n",
      "167\n",
      "173\n",
      "179\n",
      "181\n",
      "191\n",
      "193\n",
      "197\n",
      "199\n",
      "211\n",
      "223\n",
      "227\n",
      "229\n",
      "233\n",
      "239\n",
      "241\n",
      "251\n",
      "257\n",
      "263\n",
      "269\n",
      "271\n",
      "277\n",
      "281\n",
      "283\n",
      "293\n",
      "307\n",
      "311\n",
      "313\n",
      "317\n",
      "331\n",
      "337\n",
      "347\n",
      "349\n",
      "353\n",
      "359\n",
      "367\n",
      "373\n",
      "379\n",
      "383\n",
      "389\n",
      "397\n",
      "401\n",
      "409\n",
      "419\n",
      "421\n",
      "431\n",
      "433\n",
      "439\n",
      "443\n",
      "449\n",
      "457\n",
      "461\n",
      "463\n",
      "467\n",
      "479\n",
      "487\n",
      "491\n",
      "499\n",
      "503\n",
      "509\n",
      "521\n",
      "523\n",
      "541\n",
      "547\n",
      "557\n",
      "563\n",
      "569\n",
      "571\n",
      "577\n",
      "587\n",
      "593\n",
      "599\n",
      "601\n",
      "607\n",
      "613\n",
      "617\n",
      "619\n",
      "631\n",
      "641\n",
      "643\n",
      "647\n",
      "653\n",
      "659\n",
      "661\n",
      "673\n",
      "677\n",
      "683\n",
      "691\n",
      "701\n",
      "709\n",
      "719\n",
      "727\n",
      "733\n",
      "739\n",
      "743\n",
      "751\n",
      "757\n",
      "761\n",
      "769\n",
      "773\n",
      "787\n",
      "797\n",
      "809\n",
      "811\n",
      "821\n",
      "823\n",
      "827\n",
      "829\n",
      "839\n",
      "853\n",
      "857\n",
      "859\n",
      "863\n",
      "877\n",
      "881\n",
      "883\n",
      "887\n",
      "907\n",
      "911\n",
      "919\n",
      "929\n",
      "937\n",
      "941\n",
      "947\n",
      "953\n",
      "967\n",
      "971\n",
      "977\n",
      "983\n",
      "991\n",
      "997\n",
      "나눗셈을 실행한 횟수 : 78022\n"
     ]
    }
   ],
   "source": [
    "# 1000 이하의 소수를 나열하기\n",
    "\n",
    "counter = 0\n",
    "\n",
    "for n in range(2, 1001):\n",
    "    for i in range(2, n):\n",
    "        counter += 1\n",
    "        if n % i == 0: # 나누어 떨어지면 소수가 아님 \n",
    "            break      # 반복은 더 이상 불필요 중단\n",
    "    else:              # 끝까지 나누어 떨어지지 않으면 다음을 수행\n",
    "        print(n)       # 소수만 출력됨 \n",
    "        \n",
    "        \n",
    "print(f'나눗셈을 실행한 횟수 : {counter}')"
   ]
  },
  {
   "cell_type": "code",
   "execution_count": 32,
   "id": "ecd484a1",
   "metadata": {},
   "outputs": [
    {
     "name": "stdout",
     "output_type": "stream",
     "text": [
      "2\n",
      "3\n",
      "5\n",
      "7\n",
      "11\n",
      "13\n",
      "17\n",
      "19\n",
      "23\n",
      "29\n",
      "31\n",
      "37\n",
      "41\n",
      "43\n",
      "47\n",
      "53\n",
      "59\n",
      "61\n",
      "67\n",
      "71\n",
      "73\n",
      "79\n",
      "83\n",
      "89\n",
      "97\n",
      "101\n",
      "103\n",
      "107\n",
      "109\n",
      "113\n",
      "127\n",
      "131\n",
      "137\n",
      "139\n",
      "149\n",
      "151\n",
      "157\n",
      "163\n",
      "167\n",
      "173\n",
      "179\n",
      "181\n",
      "191\n",
      "193\n",
      "197\n",
      "199\n",
      "211\n",
      "223\n",
      "227\n",
      "229\n",
      "233\n",
      "239\n",
      "241\n",
      "251\n",
      "257\n",
      "263\n",
      "269\n",
      "271\n",
      "277\n",
      "281\n",
      "283\n",
      "293\n",
      "307\n",
      "311\n",
      "313\n",
      "317\n",
      "331\n",
      "337\n",
      "347\n",
      "349\n",
      "353\n",
      "359\n",
      "367\n",
      "373\n",
      "379\n",
      "383\n",
      "389\n",
      "397\n",
      "401\n",
      "409\n",
      "419\n",
      "421\n",
      "431\n",
      "433\n",
      "439\n",
      "443\n",
      "449\n",
      "457\n",
      "461\n",
      "463\n",
      "467\n",
      "479\n",
      "487\n",
      "491\n",
      "499\n",
      "503\n",
      "509\n",
      "521\n",
      "523\n",
      "541\n",
      "547\n",
      "557\n",
      "563\n",
      "569\n",
      "571\n",
      "577\n",
      "587\n",
      "593\n",
      "599\n",
      "601\n",
      "607\n",
      "613\n",
      "617\n",
      "619\n",
      "631\n",
      "641\n",
      "643\n",
      "647\n",
      "653\n",
      "659\n",
      "661\n",
      "673\n",
      "677\n",
      "683\n",
      "691\n",
      "701\n",
      "709\n",
      "719\n",
      "727\n",
      "733\n",
      "739\n",
      "743\n",
      "751\n",
      "757\n",
      "761\n",
      "769\n",
      "773\n",
      "787\n",
      "797\n",
      "809\n",
      "811\n",
      "821\n",
      "823\n",
      "827\n",
      "829\n",
      "839\n",
      "853\n",
      "857\n",
      "859\n",
      "863\n",
      "877\n",
      "881\n",
      "883\n",
      "887\n",
      "907\n",
      "911\n",
      "919\n",
      "929\n",
      "937\n",
      "941\n",
      "947\n",
      "953\n",
      "967\n",
      "971\n",
      "977\n",
      "983\n",
      "991\n",
      "997\n",
      "나눗셈을 실행한 횟수: 14622\n"
     ]
    }
   ],
   "source": [
    "# 알고리즘 개선하기 1 \n",
    "\n",
    "counter = 0            # 나눗셈 횟수를 카운트\n",
    "ptr = 0                # 이미 찾은 소수의 개수\n",
    "prime = [None] * 500   # 소수를 저장하는 배열\n",
    "\n",
    "prime[ptr] = 2 # 2는 소수임으로 초깃값으로 지정\n",
    "ptr += 1\n",
    "\n",
    "for n in range(3, 1001, 2): # 홀수만을 대상으로 설정\n",
    "    for i in range(1, ptr): # 이미  찾은 소수로 나눔 \n",
    "        counter += 1\n",
    "        if n % prime[i] == 0: # 나누어 떨어지면 소수가 아님 \n",
    "            break             # 반복 중단\n",
    "    else:\n",
    "        prime[ptr] = n # 소수 배열에 등록\n",
    "        ptr += 1\n",
    "        \n",
    "        \n",
    "for i in range(ptr): # ptr의 소수를 출력\n",
    "    print(prime[i])\n",
    "    \n",
    "print(f\"나눗셈을 실행한 횟수: {counter}\")        \n",
    "        \n",
    "        "
   ]
  }
 ],
 "metadata": {
  "kernelspec": {
   "display_name": "Python 3 (ipykernel)",
   "language": "python",
   "name": "python3"
  },
  "language_info": {
   "codemirror_mode": {
    "name": "ipython",
    "version": 3
   },
   "file_extension": ".py",
   "mimetype": "text/x-python",
   "name": "python",
   "nbconvert_exporter": "python",
   "pygments_lexer": "ipython3",
   "version": "3.9.13"
  }
 },
 "nbformat": 4,
 "nbformat_minor": 5
}
