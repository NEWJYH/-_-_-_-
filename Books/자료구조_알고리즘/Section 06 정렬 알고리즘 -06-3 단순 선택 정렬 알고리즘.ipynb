{
 "cells": [
  {
   "cell_type": "markdown",
   "id": "99fdef79",
   "metadata": {},
   "source": [
    "단순 선택 정렬(straight selection sort)은 \n",
    "\n",
    "가장 작은 원소부터 선택해 알맞은 위치로 옮기는 작업을 반복하며 정렬하는 알고리즘"
   ]
  },
  {
   "cell_type": "markdown",
   "id": "c35214a8",
   "metadata": {},
   "source": [
    "## 단순 선택 정렬 알아보기"
   ]
  },
  {
   "cell_type": "markdown",
   "id": "d43a4476",
   "metadata": {},
   "source": [
    "- 가장 작은 원소부터 정렬하므로 가장 작은 원소 1에 주목\n",
    "\n",
    "```\n",
    "         v\n",
    "|6|4|8|3|1|9|7|\n",
    "\n",
    "```\n",
    "\n",
    "- 1은 배열의 맨 앞에 위치해야 하므로 맨 앞의 원소 6과 교환\n",
    "```\n",
    "         v\n",
    "|1|4|8|3|6|9|7|\n",
    "\n",
    "```\n",
    "- 가장 작은 원소인 1이 맨 앞에 위치\n",
    "\n",
    "- 두 번째로 작은 원소인 3을 주목\n",
    "\n",
    "\n",
    "```\n",
    "       v\n",
    "|1|4|8|3|6|9|7|\n",
    "\n",
    "```\n",
    "\n",
    "- 원소 3과 맨 앞에서 두 번쨰 원소인 4를 교환하면 다음과 같이 두 번쨰 원소까지 \n",
    "  정렬이 완료됨\n",
    "\n",
    "```\n",
    "       \n",
    "|1|3|8|4|6|9|7|\n",
    " - -\n",
    "```\n",
    "\n",
    "- 다음으로는 세번째 작은 원소인 4를 주목\n",
    "\n",
    "```\n",
    "       v       \n",
    "|1|3|8|4|6|9|7|\n",
    " - -\n",
    "```\n",
    "\n",
    "- 원소 4와 맨 앞에서 세 번째 원소인 8을 교환\n",
    "\n",
    "```\n",
    "              \n",
    "|1|3|4|8|6|9|7|\n",
    " - - -\n",
    "```\n",
    "\n",
    "- 아직 정렬하지 않은 범위에서 값이 가장 작은 원소를 선택\n",
    "- 정렬하지 않은 부분의 맨 앞 원소와 교환하는 작업을 반복\n"
   ]
  },
  {
   "cell_type": "markdown",
   "id": "cd0c08e4",
   "metadata": {},
   "source": [
    "단순 선택 정렬에서 교환 과정\n",
    "\n",
    "- 1. 아직 정렬하지 않은 부분에서 값이 가장 작은 원소 a[min]을 선택\n",
    "\n",
    "- 2. a[min]과 아직 정렬하지 않은 부분에서 맨 앞에 있는 원소를 교환\n",
    "\n"
   ]
  },
  {
   "cell_type": "markdown",
   "id": "20d72702",
   "metadata": {},
   "source": [
    "- 이 과정을 n - 1 번 반복하면 정렬하지 않은 부분이 없어지면서 전체 정렬을 완료\n"
   ]
  },
  {
   "cell_type": "markdown",
   "id": "11eb7f42",
   "metadata": {},
   "source": [
    "```\n",
    "for i in range(n - 1):\n",
    "    min # a[i], ... a[n-1]에서 키 값이 가장 작은 원소의 인덱스\n",
    "    a[i] 와 a[min]의 값을 교환\n",
    "    \n",
    "```"
   ]
  },
  {
   "cell_type": "code",
   "execution_count": 1,
   "id": "74c94b56",
   "metadata": {},
   "outputs": [],
   "source": [
    "# 단순 선택 정렬 알고리즘 구현하기\n",
    "\n",
    "from typing import MutableSequence\n",
    "\n",
    "def selection_sort(a: MutableSequence) -> None:\n",
    "    \"\"\"단순 선택 정렬\"\"\"\n",
    "    n = len(a)\n",
    "    \n",
    "    for i in range(n - 1):\n",
    "        min = i # 정렬할 부분에서 가장 작은 원소의 인덱스\n",
    "        for j in range(i+1, n):\n",
    "            if a[j] < a[min]:\n",
    "                min = j\n",
    "        a[i], a[min] = a[min] , a[i] # 정렬할 부분에서 맨 앞의 원소와 가장 작은 원소를 교환\n",
    "        \n",
    "        "
   ]
  },
  {
   "cell_type": "markdown",
   "id": "e6741c93",
   "metadata": {},
   "source": [
    "- 단순 선택 정렬 알고리즘의 원솟값을 비교하는 횟수는 (n^2 - n) / 2\n",
    "\n",
    "- 이 알고리즘은 서로 이웃하지 않는 떨어져 있는 원소를 교환하므로 안정적이지 않음\n",
    "\n",
    "- 중복된 값으로 정렬이 필요 없는 데이터의 위치를 바꾸었으므로 안정적이지 않음"
   ]
  },
  {
   "cell_type": "code",
   "execution_count": 3,
   "id": "a4a28dc4",
   "metadata": {},
   "outputs": [
    {
     "name": "stdout",
     "output_type": "stream",
     "text": [
      "단순 선택 정렬을 수행합니다.\n",
      "원소 수를 입력하세요.: 5\n",
      "x[0] : 3\n",
      "x[1] : 4\n",
      "x[2] : 2\n",
      "x[3] : 3\n",
      "x[4] : 1\n",
      "오름차순으로 정렬했습니다.\n",
      "x[0] = 1\n",
      "x[1] = 2\n",
      "x[2] = 3\n",
      "x[3] = 3\n",
      "x[4] = 4\n"
     ]
    }
   ],
   "source": [
    "from typing import MutableSequence\n",
    "\n",
    "def selection_sort(a: MutableSequence) -> None:\n",
    "    \"\"\"단순 선택 정렬\"\"\"\n",
    "    n = len(a)\n",
    "    for i in range(n - 1):\n",
    "        min = i  # 정렬 할 부분에서 가장 작은 원소의 인덱스\n",
    "        for j in range(i + 1, n):\n",
    "            if a[j] < a[min]:\n",
    "                min = j\n",
    "        a[i], a[min] = a[min], a[i]  # 정렬 할 부분에서 맨 앞의 원소와 가장 작은 원소를 교환 \n",
    "\n",
    "if __name__ == '__main__':\n",
    "    print('단순 선택 정렬을 수행합니다.')\n",
    "    num = int(input('원소 수를 입력하세요.: '))\n",
    "    x = [None] * num  # 원소 수가 num인 배열을 생성\n",
    "\n",
    "    for i in range(num):\n",
    "        x[i] = int(input(f'x[{i}] : '))\n",
    "\n",
    "    selection_sort(x)  # 배열 x를 단순 선택 정렬\n",
    "\n",
    "    print('오름차순으로 정렬했습니다.')\n",
    "    for i in range(num):\n",
    "        print(f'x[{i}] = {x[i]}')"
   ]
  }
 ],
 "metadata": {
  "kernelspec": {
   "display_name": "Python 3 (ipykernel)",
   "language": "python",
   "name": "python3"
  },
  "language_info": {
   "codemirror_mode": {
    "name": "ipython",
    "version": 3
   },
   "file_extension": ".py",
   "mimetype": "text/x-python",
   "name": "python",
   "nbconvert_exporter": "python",
   "pygments_lexer": "ipython3",
   "version": "3.9.13"
  }
 },
 "nbformat": 4,
 "nbformat_minor": 5
}
