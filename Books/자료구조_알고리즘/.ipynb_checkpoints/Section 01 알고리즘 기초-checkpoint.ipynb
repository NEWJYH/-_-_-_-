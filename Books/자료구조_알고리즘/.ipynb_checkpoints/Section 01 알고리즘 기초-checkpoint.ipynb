{
 "cells": [
  {
   "cell_type": "markdown",
   "id": "c19bb8da",
   "metadata": {},
   "source": [
    "# 01-1 알고리즘이란?\n"
   ]
  },
  {
   "cell_type": "markdown",
   "id": "5bcd5713",
   "metadata": {},
   "source": [
    "세 정수의 최댓값 구하기"
   ]
  },
  {
   "cell_type": "code",
   "execution_count": 1,
   "id": "158a9d36",
   "metadata": {},
   "outputs": [
    {
     "name": "stdout",
     "output_type": "stream",
     "text": [
      "세 정수의 최댓값을 구합니다.\n",
      "정수 a의 값을 입력하세요. : 6\n",
      "정수 b의 값을 입력하세요. : 5\n",
      "정수 c의 값을 입력하세요. : 3\n",
      "최대값은 6입니다.\n"
     ]
    }
   ],
   "source": [
    "print(\"세 정수의 최댓값을 구합니다.\")\n",
    "a = int(input(\"정수 a의 값을 입력하세요. : \"))\n",
    "b = int(input(\"정수 b의 값을 입력하세요. : \"))\n",
    "c = int(input(\"정수 c의 값을 입력하세요. : \"))\n",
    "\n",
    "maximum = a \n",
    "if b > maximum: maximum = b\n",
    "if c > maximum: maximum = c\n",
    "    \n",
    "print(f\"최대값은 {maximum}입니다.\")"
   ]
  },
  {
   "cell_type": "markdown",
   "id": "4c77d110",
   "metadata": {},
   "source": [
    "문자열과 숫자 입력받기"
   ]
  },
  {
   "cell_type": "code",
   "execution_count": 3,
   "id": "6ce0a611",
   "metadata": {},
   "outputs": [
    {
     "name": "stdout",
     "output_type": "stream",
     "text": [
      "이름을 입력하세요 :\n",
      "ㅎ\n",
      "안녕하세요? ㅎ 님 \n"
     ]
    }
   ],
   "source": [
    "# 이름을 입력 받아 인사하기\n",
    "print(\"이름을 입력하세요 : \",end=\"\")\n",
    "name = input()\n",
    "print(f\"안녕하세요? {name}님 \")"
   ]
  },
  {
   "cell_type": "markdown",
   "id": "013b569c",
   "metadata": {},
   "source": [
    "## 알고리즘 : 어떠한 문제를 해결하기 위해 정해 놓은 일련의 절차"
   ]
  },
  {
   "cell_type": "markdown",
   "id": "9e21fc5d",
   "metadata": {},
   "source": [
    "세 정수를 입력받아 중앙값 구하기"
   ]
  },
  {
   "cell_type": "code",
   "execution_count": 4,
   "id": "c40a6db7",
   "metadata": {},
   "outputs": [
    {
     "name": "stdout",
     "output_type": "stream",
     "text": [
      "세 정수의 중앙값을 구합니다.\n",
      "정수 a의 값을 입력하세요. : 1\n",
      "정수 b의 값을 입력하세요. : 3\n",
      "정수 c의 값을 입력하세요. : 2\n",
      "중앙값은 2입니다.\n"
     ]
    }
   ],
   "source": [
    "def med3(a,b,c):\n",
    "    \"\"\"a,b,c의 중앙값을 구하여 반환\"\"\"\n",
    "    if a >= b:\n",
    "        if b >= c:\n",
    "            return b\n",
    "        elif a <= c:\n",
    "            return a\n",
    "        else:\n",
    "            return c\n",
    "        \n",
    "    elif a > c:\n",
    "        return a\n",
    "    elif b > c:\n",
    "        return c\n",
    "    else:\n",
    "        return b\n",
    "    \n",
    "    \n",
    "print('세 정수의 중앙값을 구합니다.')\n",
    "\n",
    "a = int(input(\"정수 a의 값을 입력하세요. : \"))\n",
    "b = int(input(\"정수 b의 값을 입력하세요. : \"))\n",
    "c = int(input(\"정수 c의 값을 입력하세요. : \"))\n",
    "\n",
    "\n",
    "print(f\"중앙값은 {med3(a,b,c)}입니다.\")"
   ]
  },
  {
   "cell_type": "markdown",
   "id": "790661d4",
   "metadata": {},
   "source": [
    "세 정수를 입력받아 중앙값 구하기 2"
   ]
  },
  {
   "cell_type": "code",
   "execution_count": 5,
   "id": "7934bbb5",
   "metadata": {},
   "outputs": [
    {
     "name": "stdout",
     "output_type": "stream",
     "text": [
      "세 정수의 중앙값을 구합니다.\n",
      "정수 a의 값을 입력하세요. : 1\n",
      "정수 b의 값을 입력하세요. : 3\n",
      "정수 c의 값을 입력하세요. : 2\n",
      "중앙값은 2입니다.\n"
     ]
    }
   ],
   "source": [
    "def med3(a, b, c):\n",
    "    '''a,b,c의 중앙값을 구하여 반환(다른 방법)'''\n",
    "    if (b >= a and c <= a) or (b <=a and c>= a):\n",
    "        return a \n",
    "    elif (a > b and c < b) or (a < b and c > b):\n",
    "        return b\n",
    "    return c\n",
    "\n",
    "print('세 정수의 중앙값을 구합니다.')\n",
    "\n",
    "a = int(input(\"정수 a의 값을 입력하세요. : \"))\n",
    "b = int(input(\"정수 b의 값을 입력하세요. : \"))\n",
    "c = int(input(\"정수 c의 값을 입력하세요. : \"))\n",
    "\n",
    "\n",
    "print(f\"중앙값은 {med3(a,b,c)}입니다.\")"
   ]
  },
  {
   "cell_type": "markdown",
   "id": "25b16c70",
   "metadata": {},
   "source": [
    "---"
   ]
  },
  {
   "cell_type": "markdown",
   "id": "13be34d6",
   "metadata": {},
   "source": [
    "# 01- 2 반복하는 알고리즘"
   ]
  },
  {
   "cell_type": "markdown",
   "id": "eed8d44c",
   "metadata": {},
   "source": [
    "1부터 n까지 정수의 합 구하기"
   ]
  },
  {
   "cell_type": "code",
   "execution_count": 6,
   "id": "e250ddcc",
   "metadata": {},
   "outputs": [
    {
     "name": "stdout",
     "output_type": "stream",
     "text": [
      "1부터 n까지 정수의 합을 구합니다.\n",
      "n값을 입력하세요.: 5\n",
      "1부터 5까지 정수의 합은 15입니다.\n"
     ]
    }
   ],
   "source": [
    "# 1부터 n까지 정수의 합 구하기 1(while)\n",
    "\n",
    "print(\"1부터 n까지 정수의 합을 구합니다.\")\n",
    "n = int(input(\"n값을 입력하세요.: \"))\n",
    "sum = 0\n",
    "i = 1\n",
    "\n",
    "while i <= n:\n",
    "    sum += i\n",
    "    i += 1\n",
    "    \n",
    "print(f\"1부터 {n}까지 정수의 합은 {sum}입니다.\")"
   ]
  },
  {
   "cell_type": "code",
   "execution_count": 7,
   "id": "9c7e50fa",
   "metadata": {},
   "outputs": [
    {
     "name": "stdout",
     "output_type": "stream",
     "text": [
      "1부터 n까지 정수의 합을 구합니다.\n",
      "n의 값을 입력하세요. : 5\n",
      "1부터 5까지 정수의 합은 15입니다.\n"
     ]
    }
   ],
   "source": [
    "#  1부터 n까지 정수의 합 구하기2 (for문)\n",
    "print(\"1부터 n까지 정수의 합을 구합니다.\")\n",
    "n = int(input(\"n의 값을 입력하세요. : \"))\n",
    "\n",
    "sum = 0\n",
    "for i in range(1, n+1):\n",
    "    sum += i \n",
    "    \n",
    "print(f\"1부터 {n}까지 정수의 합은 {sum}입니다.\")"
   ]
  },
  {
   "cell_type": "code",
   "execution_count": 9,
   "id": "a0d8b719",
   "metadata": {},
   "outputs": [
    {
     "name": "stdout",
     "output_type": "stream",
     "text": [
      "1부터 n까지 정수의 합을 구합니다.\n",
      "n의 값을 입력하세요. : 5\n",
      "1부터 5까지 정수의 합은 15입니다.\n"
     ]
    }
   ],
   "source": [
    "# 가우스 덧셈 \n",
    "# 1부터 n까지 정수의 합은 수학식 n * (n+1) / 2 로도 구할수 있음 이를 가우스(gauss)의 덧셈이라고 함\n",
    "\n",
    "print(\"1부터 n까지 정수의 합을 구합니다.\")\n",
    "n = int(input(\"n의 값을 입력하세요. : \"))\n",
    "sum = n * (n + 1) // 2\n",
    "print(f\"1부터 {n}까지 정수의 합은 {sum}입니다.\")"
   ]
  },
  {
   "cell_type": "markdown",
   "id": "c9b6b9e9",
   "metadata": {},
   "source": [
    "# 이터러블 객체 : 반복할수 있는 객체  (list, str, tuple)"
   ]
  },
  {
   "cell_type": "markdown",
   "id": "0de5ce48",
   "metadata": {},
   "source": [
    "연속하는 정수의 합을 구하기 위해 값 정렬하기"
   ]
  },
  {
   "cell_type": "code",
   "execution_count": 10,
   "id": "4a1100da",
   "metadata": {},
   "outputs": [
    {
     "name": "stdout",
     "output_type": "stream",
     "text": [
      "a부터 b까지 정수의 합을 구합니다.\n",
      "a의 값을 입력하세요. : 3\n",
      "b의 값을 입력하세요. : 8\n",
      "3부터 8까지 정수의 합은 33입니다.\n"
     ]
    }
   ],
   "source": [
    "# a 부터 b까지 정수의 합 구하기(for 문)\n",
    "\n",
    "\n",
    "print(\"a부터 b까지 정수의 합을 구합니다.\")\n",
    "a = int(input(\"a의 값을 입력하세요. : \"))\n",
    "b = int(input(\"b의 값을 입력하세요. : \"))\n",
    "\n",
    "if a > b:\n",
    "    a, b = b, a # a와 b를 오름차순으로 정렬\n",
    "\n",
    "sum = 0\n",
    "for i in range(a, b+1):\n",
    "    sum += i \n",
    "    \n",
    "print(f\"{a}부터 {b}까지 정수의 합은 {sum}입니다.\")"
   ]
  },
  {
   "cell_type": "markdown",
   "id": "d7b8a384",
   "metadata": {},
   "source": [
    "---"
   ]
  },
  {
   "cell_type": "markdown",
   "id": "17bbac97",
   "metadata": {},
   "source": [
    "반복 과정에서 조건 판단하기 1"
   ]
  },
  {
   "cell_type": "code",
   "execution_count": 14,
   "id": "199da464",
   "metadata": {},
   "outputs": [
    {
     "name": "stdout",
     "output_type": "stream",
     "text": [
      "a부터 b까지 정수의 합을 구합니다.\n",
      "정수 a를 입력하세요.: 3\n",
      "정수 b를 입력하세요.: 7\n",
      "3 + 4 + 5 + 6 + 7 = 25\n"
     ]
    }
   ],
   "source": [
    "# a부터 b까지 정수의 합 구하기 1\n",
    "\n",
    "print('a부터 b까지 정수의 합을 구합니다.')\n",
    "a = int(input('정수 a를 입력하세요.: '))\n",
    "b = int(input('정수 b를 입력하세요.: '))\n",
    "\n",
    "if a > b :\n",
    "    a, b = b, a\n",
    "    \n",
    "sum = 0\n",
    "for i in range(a, b + 1):\n",
    "    if i < b: # i가 b보다 작으면 합을 구하는 과정 출력\n",
    "        print(f\"{i} + \", end=\"\")\n",
    "    else: # i가 b보다 크거나 같으면 최종값 출력을 위해 i = 는 출력\n",
    "        print(f\"{i} = \", end=\"\")\n",
    "    sum += i\n",
    "    \n",
    "print(sum)"
   ]
  },
  {
   "cell_type": "code",
   "execution_count": 15,
   "id": "2c53e39b",
   "metadata": {},
   "outputs": [
    {
     "name": "stdout",
     "output_type": "stream",
     "text": [
      "a부터 b까지 정수의 합을 구합니다.\n",
      "정수 a를 입력하세요. : 1\n",
      "정수 b를 입력하세요. : 5\n",
      "1 + 2 + 3 + 4 + 5 = 15\n"
     ]
    }
   ],
   "source": [
    "# a부터 b까지 정수의 합 구하기2\n",
    "\n",
    "print(\"a부터 b까지 정수의 합을 구합니다.\")\n",
    "a = int(input('정수 a를 입력하세요. : '))\n",
    "b = int(input('정수 b를 입력하세요. : '))\n",
    "\n",
    "if a > b:\n",
    "    a, b = b, a \n",
    "    \n",
    "sum = 0\n",
    "\n",
    "for i in range(a, b):\n",
    "    print(f\"{i} + \", end=\"\")\n",
    "    sum += i \n",
    "    \n",
    "    \n",
    "print(f\"{b} = \",end=\"\")\n",
    "sum += b\n",
    "\n",
    "print(sum)"
   ]
  },
  {
   "cell_type": "markdown",
   "id": "1ea54752",
   "metadata": {},
   "source": [
    "반복하는 과정에서 조건 판단하기 2"
   ]
  },
  {
   "cell_type": "code",
   "execution_count": 16,
   "id": "7aa921e7",
   "metadata": {},
   "outputs": [
    {
     "name": "stdout",
     "output_type": "stream",
     "text": [
      "+와 -를 번갈아 출력합니다.\n",
      "몇 개를 출력할까요?: 5\n",
      "+-+-+\n"
     ]
    }
   ],
   "source": [
    "# +와 -를 번갈아 출력하기 1\n",
    "\n",
    "print(\"+와 -를 번갈아 출력합니다.\")\n",
    "n = int(input(\"몇 개를 출력할까요?: \"))\n",
    "\n",
    "for i in range(n):\n",
    "    if i % 2:\n",
    "        print(\"-\", end=\"\")\n",
    "    else:\n",
    "        print(\"+\", end=\"\")\n",
    "        \n",
    "print()"
   ]
  },
  {
   "cell_type": "code",
   "execution_count": 18,
   "id": "def6a207",
   "metadata": {},
   "outputs": [
    {
     "name": "stdout",
     "output_type": "stream",
     "text": [
      "+와 -를 번갈아 출력합니다.\n",
      "몇 개를 출력할까요?: 12\n",
      "+-+-+-+-+-+-\n"
     ]
    }
   ],
   "source": [
    "# +와 -를 번갈아 출력하기 2\n",
    "print(\"+와 -를 번갈아 출력합니다.\")\n",
    "n = int(input(\"몇 개를 출력할까요?: \"))\n",
    "\n",
    "for _ in range(n // 2):\n",
    "    print(\"+-\", end=\"\")\n",
    "    \n",
    "if n % 2:\n",
    "    print(\"+\", end=\"\")\n",
    "    \n",
    "print()"
   ]
  },
  {
   "cell_type": "markdown",
   "id": "56a2e0c3",
   "metadata": {},
   "source": [
    "반복 과정에서 조건 판단하기 3"
   ]
  },
  {
   "cell_type": "code",
   "execution_count": 22,
   "id": "f72db634",
   "metadata": {},
   "outputs": [
    {
     "name": "stdout",
     "output_type": "stream",
     "text": [
      "*를 출력합니다.\n",
      "몇 개를 출력할까요?: 15\n",
      "몇 개마다 줄바꿈할까요?: 2\n",
      "**\n",
      "**\n",
      "**\n",
      "**\n",
      "**\n",
      "**\n",
      "**\n",
      "*\n"
     ]
    }
   ],
   "source": [
    "# *를 출력하되 w개마다 줄바꿈하기 1 \n",
    "\n",
    "print(\"*를 출력합니다.\")\n",
    "n = int(input(\"몇 개를 출력할까요?: \"))\n",
    "w = int(input(\"몇 개마다 줄바꿈할까요?: \"))\n",
    "\n",
    "for i in range(n): # n번 반복\n",
    "    print(\"*\", end=\"\")\n",
    "    if i % w == w -1: # n번 판단\n",
    "        print() # 줄바꿈\n",
    "        \n",
    "        \n",
    "if n % w: # 1번 판단\n",
    "    print() # 줄바꿈"
   ]
  },
  {
   "cell_type": "code",
   "execution_count": 23,
   "id": "8f3872ad",
   "metadata": {},
   "outputs": [
    {
     "name": "stdout",
     "output_type": "stream",
     "text": [
      "*를 출력합니다.\n",
      "몇 개를 출력할까요?: 15\n",
      "몇 개마다 줄바꿈할까요?: 4\n",
      "****\n",
      "****\n",
      "****\n",
      "***\n"
     ]
    }
   ],
   "source": [
    "# *를 n개 출력하되 w 개마다 줄바꿈하기 2\n",
    "\n",
    "print(\"*를 출력합니다.\")\n",
    "n = int(input(\"몇 개를 출력할까요?: \"))\n",
    "w = int(input(\"몇 개마다 줄바꿈할까요?: \"))\n",
    "\n",
    "for _ in range(n // w): # n // w 번 반복\n",
    "    print(\"*\"*w) # \n",
    "    \n",
    "rest = n % w\n",
    "if rest :\n",
    "    print(\"*\"*rest)"
   ]
  },
  {
   "cell_type": "markdown",
   "id": "8ecf04f8",
   "metadata": {},
   "source": [
    "양수만 입력받기"
   ]
  },
  {
   "cell_type": "code",
   "execution_count": 25,
   "id": "c136f429",
   "metadata": {},
   "outputs": [
    {
     "name": "stdout",
     "output_type": "stream",
     "text": [
      "1부터 n까지 정수의 합을 구합니다.\n",
      "n값을 입력하세요.: -6\n",
      "n값을 입력하세요.: 0\n",
      "n값을 입력하세요.: 10\n",
      "1부터 10까지 정수의 합은 55입니다.\n"
     ]
    }
   ],
   "source": [
    "# 1부터 n까지 정수의 합 구하기(n값은 양수만 입력받음)\n",
    "\n",
    "print(\"1부터 n까지 정수의 합을 구합니다.\")\n",
    "\n",
    "while True:\n",
    "    n = int(input('n값을 입력하세요.: '))\n",
    "    if n > 0:\n",
    "        break # n 이 0 보다 커질때까지 반복 \n",
    "        \n",
    "sum = 0\n",
    "i = 1\n",
    "\n",
    "for i in range(1, n+1):\n",
    "    sum += i\n",
    "    i+= 1\n",
    "    \n",
    "print(f\"1부터 {n}까지 정수의 합은 {sum}입니다.\")"
   ]
  },
  {
   "cell_type": "markdown",
   "id": "a9c55af3",
   "metadata": {},
   "source": [
    "직사각형 넓이로 변의 길이 구하기"
   ]
  },
  {
   "cell_type": "code",
   "execution_count": 26,
   "id": "22b91d6c",
   "metadata": {},
   "outputs": [
    {
     "name": "stdout",
     "output_type": "stream",
     "text": [
      "직사각형의 넓이를 입력하세요.: 32\n",
      "1 x 32\n",
      "2 x 16\n",
      "4 x 8\n"
     ]
    }
   ],
   "source": [
    "# 가로, 세로 길이가 정수이고 넓이가 area인 직사각형에서 변의 길이 나열하기\n",
    "\n",
    "area = int(input(\"직사각형의 넓이를 입력하세요.: \"))\n",
    "\n",
    "for i in range(1, area + 1): # 1부터 사각형의 넓이 계산\n",
    "    if i * i > area : break\n",
    "    if area % i : continue \n",
    "    print(f\"{i} x {area // i }\")        \n",
    "    "
   ]
  },
  {
   "cell_type": "code",
   "execution_count": 32,
   "id": "69d1b1f7",
   "metadata": {},
   "outputs": [
    {
     "name": "stdout",
     "output_type": "stream",
     "text": [
      "난수의 개수를 입력하세요.: 100000\n",
      "28 40 24 62 70 30 61 41 83 52 27 79 85 54 40 77 43 65 72 84 87 20 21 20 59 49 20 66 20 45 49 52 37 19 22 32 18 20 85 69 94 84 82 51 26 23 44 58 64 69 39 46 39 10 54 13 \n",
      "프로그램을 중단합니다.\n"
     ]
    }
   ],
   "source": [
    "# 10 ~ 99 사이의 난수 n개 생성하기 (13이 나오면 중단)\n",
    "\n",
    "import random\n",
    "\n",
    "n = int(input(\"난수의 개수를 입력하세요.: \"))\n",
    "\n",
    "for _ in range(n):\n",
    "    r = random.randint(10, 99)\n",
    "    print(r, end=\" \")\n",
    "    if r == 13:\n",
    "        print('\\n프로그램을 중단합니다.')\n",
    "        break\n",
    "    \n",
    "else:\n",
    "    print(\"\\n난수 생성을 종료합니다.\")"
   ]
  },
  {
   "cell_type": "markdown",
   "id": "39f0d840",
   "metadata": {},
   "source": [
    "반복문 건너뛰기와 여러 범위 스캔하기"
   ]
  },
  {
   "cell_type": "code",
   "execution_count": 33,
   "id": "182e88f8",
   "metadata": {},
   "outputs": [
    {
     "name": "stdout",
     "output_type": "stream",
     "text": [
      "1 2 3 4 5 6 7 9 10 11 12 \n"
     ]
    }
   ],
   "source": [
    "# 1 ~ 12까지 8을 건너뛰고 출력하기 1\n",
    "\n",
    "for i in range(1, 13):\n",
    "    if i == 8:continue\n",
    "    print(i, end=\" \")\n",
    "    \n",
    "print()"
   ]
  },
  {
   "cell_type": "code",
   "execution_count": 36,
   "id": "9455166e",
   "metadata": {},
   "outputs": [
    {
     "name": "stdout",
     "output_type": "stream",
     "text": [
      "1 2 3 4 5 6 7 9 10 11 12 \n"
     ]
    }
   ],
   "source": [
    "# 1부터 12까지 8을 건너뛰고 출력하기 2\n",
    "\n",
    "for i in list(range(1, 8)) + list(range(9,13)):\n",
    "    print(i, end=\" \")\n",
    "    \n",
    "print()"
   ]
  },
  {
   "cell_type": "markdown",
   "id": "59c3e253",
   "metadata": {},
   "source": [
    "비교 연산자를 연속으로 사용하는 방법과 드모르간의 법칙\n"
   ]
  },
  {
   "cell_type": "code",
   "execution_count": 37,
   "id": "cc41b86f",
   "metadata": {},
   "outputs": [
    {
     "name": "stdout",
     "output_type": "stream",
     "text": [
      "2자리 양수를 입력하세요.\n",
      "값을 입력하세요.: 9\n",
      "값을 입력하세요.: 55\n",
      "입력받은 양수는 55입니다.\n"
     ]
    }
   ],
   "source": [
    "# 2자리 양수(10~99)입력받기\n",
    "\n",
    "print(\"2자리 양수를 입력하세요.\")\n",
    "\n",
    "while True:\n",
    "    no = int(input(\"값을 입력하세요.: \"))\n",
    "    if no >= 10 and no <= 99:\n",
    "        break\n",
    "        \n",
    "print(f\"입력받은 양수는 {no}입니다.\")"
   ]
  },
  {
   "cell_type": "markdown",
   "id": "80b98798",
   "metadata": {},
   "source": [
    "비교 연산자를 연속으로 사용한 방법"
   ]
  },
  {
   "cell_type": "code",
   "execution_count": 38,
   "id": "08a1fa26",
   "metadata": {},
   "outputs": [
    {
     "name": "stdout",
     "output_type": "stream",
     "text": [
      "2자리 양수를 입력하세요.\n",
      "값을 입력하세요.: 55\n",
      "입력받은 양수는 55입니다.\n"
     ]
    }
   ],
   "source": [
    "# 2자리 양수(10~99)입력받기\n",
    "\n",
    "print(\"2자리 양수를 입력하세요.\")\n",
    "\n",
    "while True:\n",
    "    no = int(input(\"값을 입력하세요.: \"))\n",
    "    if 10<= no <= 99: # no>= 10 and no <= 99와 같음\n",
    "        break\n",
    "        \n",
    "print(f\"입력받은 양수는 {no}입니다.\")"
   ]
  },
  {
   "cell_type": "markdown",
   "id": "697b8c88",
   "metadata": {},
   "source": [
    "드모르간의 법칙을 사용한 방법"
   ]
  },
  {
   "cell_type": "code",
   "execution_count": 40,
   "id": "e9fecdc5",
   "metadata": {},
   "outputs": [
    {
     "name": "stdout",
     "output_type": "stream",
     "text": [
      "2자리 양수를 입력하세요.\n",
      "값을 입력하세요.: 15\n",
      "입력받은 양수는 15입니다.\n"
     ]
    }
   ],
   "source": [
    "# 2자리 양수(10~99)입력받기\n",
    "\n",
    "print(\"2자리 양수를 입력하세요.\")\n",
    "\n",
    "while True:\n",
    "    no = int(input(\"값을 입력하세요.: \"))\n",
    "    if not(no < 10 or no > 99): # no >= 10 and no <= 99 와 같음\n",
    "        break\n",
    "        \n",
    "print(f\"입력받은 양수는 {no}입니다.\")"
   ]
  },
  {
   "cell_type": "markdown",
   "id": "bc4901e2",
   "metadata": {},
   "source": [
    "드모르간의 법칙 \n",
    ">각 조건을 부정하고 논리곱을 논리합으로, 논리합을 논리 곱으로 바꾸고 다시 전체를 부정하면 원래의 조건과 같다.\n",
    "\n",
    "no >= 10 and no <= 99 \n",
    "\n",
    "- 각 조건을 부정\n",
    "    - no < 10 \n",
    "    - no > 99\n",
    "    \n",
    "- 논리곱을 논리합 논리합을 논리 곱으로\n",
    "    - no < 10 or no > 99\n",
    "    \n",
    "- 전체를 부정하면 원래의 조건과 같다\n",
    "    - not(no < 10 or no > 99)"
   ]
  },
  {
   "cell_type": "markdown",
   "id": "d0af152d",
   "metadata": {},
   "source": [
    "### 용어 정리 \n",
    "\n",
    "### 구조적 프로그래밍이란?\n",
    "\n",
    "입력과 출력으로 이루어진 구성 요소를 계층으로 배치하여 프로그램을 구성하는 방법을 구조적 프로그래밍(structured programming)이라고 함\n",
    "- 구조적 프로그래밍은 순차, 선택, 반복이라는 세종류의 제어 흐름을 사용"
   ]
  },
  {
   "cell_type": "markdown",
   "id": "5b11eef5",
   "metadata": {},
   "source": [
    "다중 루프 알아보기"
   ]
  },
  {
   "cell_type": "code",
   "execution_count": 41,
   "id": "e1bd6228",
   "metadata": {},
   "outputs": [
    {
     "name": "stdout",
     "output_type": "stream",
     "text": [
      "---------------------------\n",
      "  1  2  3  4  5  6  7  8  9\n",
      "  2  4  6  8 10 12 14 16 18\n",
      "  3  6  9 12 15 18 21 24 27\n",
      "  4  8 12 16 20 24 28 32 36\n",
      "  5 10 15 20 25 30 35 40 45\n",
      "  6 12 18 24 30 36 42 48 54\n",
      "  7 14 21 28 35 42 49 56 63\n",
      "  8 16 24 32 40 48 56 64 72\n",
      "  9 18 27 36 45 54 63 72 81\n",
      "---------------------------\n"
     ]
    }
   ],
   "source": [
    "# 구구단 곱셈표 출력하기\n",
    "\n",
    "print('-' * 27)\n",
    "\n",
    "for i in range(1, 10): # 행 루프\n",
    "    for j in range(1, 10): # 열 루프\n",
    "        print(f\"{i*j:3}\", end=\"\")\n",
    "    print() # 행 변경\n",
    "    \n",
    "print('-' * 27)\n"
   ]
  },
  {
   "cell_type": "markdown",
   "id": "45a0ae5d",
   "metadata": {},
   "source": [
    "직각 이등변 삼각형 삼각형으로 출력하기"
   ]
  },
  {
   "cell_type": "code",
   "execution_count": 42,
   "id": "9ca98f0d",
   "metadata": {},
   "outputs": [
    {
     "name": "stdout",
     "output_type": "stream",
     "text": [
      "왼쪽 아래가 직각인 이등변 삼각형을 출력합니다.\n",
      "짧은 변의 길이를 입력하세요: 5\n",
      "*\n",
      "**\n",
      "***\n",
      "****\n",
      "*****\n"
     ]
    }
   ],
   "source": [
    "# 왼쪽 아래가 직각인 이등변 삼각형 * 출력하기\n",
    "\n",
    "print(\"왼쪽 아래가 직각인 이등변 삼각형을 출력합니다.\")\n",
    "n = int(input('짧은 변의 길이를 입력하세요: '))\n",
    "\n",
    "for i in range(n): # 행\n",
    "    for j in range(i+1): # 열\n",
    "        print(\"*\", end='')\n",
    "    print() # 행 변경\n",
    "    "
   ]
  },
  {
   "cell_type": "code",
   "execution_count": 44,
   "id": "b16160dd",
   "metadata": {},
   "outputs": [
    {
     "name": "stdout",
     "output_type": "stream",
     "text": [
      "오른쪽 아래가 직각인 이등변 삼각형을 출력합니다.\n",
      "짧은 변의 길이를 입력하세요.: 3\n",
      "  *\n",
      " **\n",
      "***\n"
     ]
    }
   ],
   "source": [
    "# 오른쪽 아래가 직각인 이등변 삼각형으로 * 출력하기\n",
    "\n",
    "print(\"오른쪽 아래가 직각인 이등변 삼각형을 출력합니다.\")\n",
    "n = int(input(\"짧은 변의 길이를 입력하세요.: \"))\n",
    "\n",
    "for i in range(n):\n",
    "    for _ in range(n - i - 1):\n",
    "        print(\" \",end=\"\") # 공백을 출력\n",
    "    for _ in range(i + 1):\n",
    "        print(\"*\", end='')\n",
    "    print()"
   ]
  },
  {
   "cell_type": "code",
   "execution_count": 45,
   "id": "787dfe5e",
   "metadata": {},
   "outputs": [
    {
     "name": "stdout",
     "output_type": "stream",
     "text": [
      "id(1) = 139881553951024\n",
      "id(n) = 139881553951024\n",
      "id(x) = 139881553951024\n"
     ]
    }
   ],
   "source": [
    "# 함수 내부*외부에서 정의한 변수와 객체의 식별 번호를 출력하기\n",
    "\n",
    "n = 1 # 전역 변수(함수 내부*외부에서 사용)\n",
    "\n",
    "def put_id():\n",
    "    x = 1 # 지역 변수(함수 내부에서만 사용)\n",
    "    print(f\"id(x) = {id(x)}\")\n",
    "    \n",
    "print(f\"id(1) = {id(1)}\")\n",
    "print(f\"id(n) = {id(n)}\")\n",
    "\n",
    "put_id()"
   ]
  },
  {
   "cell_type": "code",
   "execution_count": 46,
   "id": "23593482",
   "metadata": {},
   "outputs": [
    {
     "name": "stdout",
     "output_type": "stream",
     "text": [
      "i =   1 id(i) = 139881553951024\n",
      "i =   2 id(i) = 139881553951056\n",
      "i =   3 id(i) = 139881553951088\n",
      "i =   4 id(i) = 139881553951120\n",
      "i =   5 id(i) = 139881553951152\n",
      "i =   6 id(i) = 139881553951184\n",
      "i =   7 id(i) = 139881553951216\n",
      "i =   8 id(i) = 139881553951248\n",
      "i =   9 id(i) = 139881553951280\n",
      "i =  10 id(i) = 139881553951312\n",
      "i =  11 id(i) = 139881553951344\n",
      "i =  12 id(i) = 139881553951376\n",
      "i =  13 id(i) = 139881553951408\n",
      "i =  14 id(i) = 139881553951440\n",
      "i =  15 id(i) = 139881553951472\n",
      "i =  16 id(i) = 139881553951504\n",
      "i =  17 id(i) = 139881553951536\n",
      "i =  18 id(i) = 139881553951568\n",
      "i =  19 id(i) = 139881553951600\n",
      "i =  20 id(i) = 139881553951632\n",
      "i =  21 id(i) = 139881553951664\n",
      "i =  22 id(i) = 139881553951696\n",
      "i =  23 id(i) = 139881553951728\n",
      "i =  24 id(i) = 139881553951760\n",
      "i =  25 id(i) = 139881553951792\n",
      "i =  26 id(i) = 139881553951824\n",
      "i =  27 id(i) = 139881553951856\n",
      "i =  28 id(i) = 139881553951888\n",
      "i =  29 id(i) = 139881553951920\n",
      "i =  30 id(i) = 139881553951952\n",
      "i =  31 id(i) = 139881553951984\n",
      "i =  32 id(i) = 139881553952016\n",
      "i =  33 id(i) = 139881553952048\n",
      "i =  34 id(i) = 139881553952080\n",
      "i =  35 id(i) = 139881553952112\n",
      "i =  36 id(i) = 139881553952144\n",
      "i =  37 id(i) = 139881553952176\n",
      "i =  38 id(i) = 139881553952208\n",
      "i =  39 id(i) = 139881553952240\n",
      "i =  40 id(i) = 139881553952272\n",
      "i =  41 id(i) = 139881553952304\n",
      "i =  42 id(i) = 139881553952336\n",
      "i =  43 id(i) = 139881553952368\n",
      "i =  44 id(i) = 139881553952400\n",
      "i =  45 id(i) = 139881553952432\n",
      "i =  46 id(i) = 139881553952464\n",
      "i =  47 id(i) = 139881553952496\n",
      "i =  48 id(i) = 139881553952528\n",
      "i =  49 id(i) = 139881553952560\n",
      "i =  50 id(i) = 139881553952592\n",
      "i =  51 id(i) = 139881553952624\n",
      "i =  52 id(i) = 139881553952656\n",
      "i =  53 id(i) = 139881553952688\n",
      "i =  54 id(i) = 139881553952720\n",
      "i =  55 id(i) = 139881554141232\n",
      "i =  56 id(i) = 139881554141264\n",
      "i =  57 id(i) = 139881554141296\n",
      "i =  58 id(i) = 139881554141328\n",
      "i =  59 id(i) = 139881554141360\n",
      "i =  60 id(i) = 139881554141392\n",
      "i =  61 id(i) = 139881554141424\n",
      "i =  62 id(i) = 139881554141456\n",
      "i =  63 id(i) = 139881554141488\n",
      "i =  64 id(i) = 139881554141520\n",
      "i =  65 id(i) = 139881554141552\n",
      "i =  66 id(i) = 139881554141584\n",
      "i =  67 id(i) = 139881554141616\n",
      "i =  68 id(i) = 139881554141648\n",
      "i =  69 id(i) = 139881554141680\n",
      "i =  70 id(i) = 139881554141712\n",
      "i =  71 id(i) = 139881554141744\n",
      "i =  72 id(i) = 139881554141776\n",
      "i =  73 id(i) = 139881554141808\n",
      "i =  74 id(i) = 139881554141840\n",
      "i =  75 id(i) = 139881554141872\n",
      "i =  76 id(i) = 139881554141904\n",
      "i =  77 id(i) = 139881554141936\n",
      "i =  78 id(i) = 139881554141968\n",
      "i =  79 id(i) = 139881554142000\n",
      "i =  80 id(i) = 139881554142032\n",
      "i =  81 id(i) = 139881554142064\n",
      "i =  82 id(i) = 139881554142096\n",
      "i =  83 id(i) = 139881554142128\n",
      "i =  84 id(i) = 139881554142160\n",
      "i =  85 id(i) = 139881554142192\n",
      "i =  86 id(i) = 139881554142224\n",
      "i =  87 id(i) = 139881554142256\n",
      "i =  88 id(i) = 139881554142288\n",
      "i =  89 id(i) = 139881554142320\n",
      "i =  90 id(i) = 139881554142352\n",
      "i =  91 id(i) = 139881554142384\n",
      "i =  92 id(i) = 139881554142416\n",
      "i =  93 id(i) = 139881554142448\n",
      "i =  94 id(i) = 139881554142480\n",
      "i =  95 id(i) = 139881554142512\n",
      "i =  96 id(i) = 139881554142544\n",
      "i =  97 id(i) = 139881554142576\n",
      "i =  98 id(i) = 139881554142608\n",
      "i =  99 id(i) = 139881554142640\n",
      "i = 100 id(i) = 139881554142672\n"
     ]
    }
   ],
   "source": [
    "# 1부터 100까지 반복하여 출력하기\n",
    "\n",
    "for i in range(1, 101):\n",
    "    print(f\"i = {i:3} id(i) = {id(i)}\")"
   ]
  },
  {
   "cell_type": "markdown",
   "id": "4a8dab46",
   "metadata": {},
   "source": [
    "# 파이썬의 변수 알아보기\n",
    "\n",
    "- 변수는 객체를 참조하는 객체에 연결된 이름에 불과합니다.\n",
    "- 모든 객체는 메모리를 차지하고, 자료형뿐만 아니라 식별 번호(identity)를 가진다."
   ]
  }
 ],
 "metadata": {
  "kernelspec": {
   "display_name": "Python 3 (ipykernel)",
   "language": "python",
   "name": "python3"
  },
  "language_info": {
   "codemirror_mode": {
    "name": "ipython",
    "version": 3
   },
   "file_extension": ".py",
   "mimetype": "text/x-python",
   "name": "python",
   "nbconvert_exporter": "python",
   "pygments_lexer": "ipython3",
   "version": "3.9.13"
  }
 },
 "nbformat": 4,
 "nbformat_minor": 5
}
