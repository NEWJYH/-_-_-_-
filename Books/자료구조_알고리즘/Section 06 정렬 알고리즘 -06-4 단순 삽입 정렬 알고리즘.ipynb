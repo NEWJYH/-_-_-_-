{
 "cells": [
  {
   "cell_type": "markdown",
   "id": "4beaf858",
   "metadata": {},
   "source": [
    "단순 삽입 정렬(straight insertion sort)은 \n",
    "\n",
    "주목한 원소보다 더 앞쪽에서 알맞은 위치로 삽입하며 정렬하는 알고리즘\n",
    "\n",
    "단순 선택 정렬과 비슷해 보이지만 값이 가장 작은 원소를 선택하지 않는다는 점이 다름"
   ]
  },
  {
   "cell_type": "markdown",
   "id": "1d042748",
   "metadata": {},
   "source": [
    "## 단순 삽입 정렬 알아보기\n",
    "\n",
    "- 단순 삽입 정렬은 카드를 한 줄로 늘어놓을 때 사용하는 방법과 비슷한 알고리즘\n",
    "\n",
    "\n",
    "```\n",
    "   v\n",
    "|6|4|1|7|3|9|8|\n",
    "\n",
    "```\n",
    "\n",
    "- 단순 삽입 정렬은 두 번째 원소인 4부터 주목하여 진행\n",
    "\n",
    "- 4는 6보다 앞쪽에 위치해야 하므로 맨 앞에 삽입\n",
    "\n",
    "```\n",
    "   \n",
    "|4|6|1|7|3|9|8|\n",
    "\n",
    "```\n",
    "\n",
    "- 다음으로는 세 번째 원소인 1에 주목\n",
    "\n",
    "```\n",
    "     v   \n",
    "|4|6|1|7|3|9|8|\n",
    " - -\n",
    "```\n",
    "\n",
    "- 1은 4보다 앞쪽에 위치해야 하므로 맨 앞에 삽입\n",
    "\n",
    "- 이 상태에서 4, 6을 오른쪽으로 옮기면 다음과 같음\n",
    "\n",
    "```\n",
    "        \n",
    "|1|4|6|7|3|9|8|\n",
    " - - - \n",
    "```\n",
    "\n",
    "- 그 이후에도 계속해서 같은 작업을 수행\n",
    "\n",
    "\n",
    "아직 정렬되지 않은 부분의 맨 앞 원소를 정렬된 부분의 알맞은 위치에 삽입"
   ]
  },
  {
   "cell_type": "markdown",
   "id": "bc1ccc8f",
   "metadata": {},
   "source": [
    "```\n",
    "   v\n",
    "|6|4|1|7|3|9|8|\n",
    " -  \n",
    "\n",
    "     v\n",
    "|4|6|1|7|3|9|8|\n",
    " - - \n",
    "\n",
    "       v\n",
    "|1|4|6|7|3|9|8|\n",
    " - - -\n",
    "\n",
    "         v\n",
    "|1|4|6|7|3|9|8|\n",
    " - - - -\n",
    "\n",
    "           v\n",
    "|1|3|4|6|7|9|8|\n",
    " - - - - -\n",
    "\n",
    "\n",
    "             v\n",
    "|1|3|4|6|7|9|8|\n",
    " - - - - - -\n",
    "\n",
    "             \n",
    "|1|3|4|6|7|8|9|\n",
    " - - - - - - -\n",
    "\n",
    "\n",
    "```"
   ]
  },
  {
   "cell_type": "markdown",
   "id": "a8231de2",
   "metadata": {},
   "source": [
    "알고리즘의 개요\n",
    "\n",
    "\n",
    "```\n",
    "\n",
    "for i in range(1, n):\n",
    "    tmp <- a[i]를 넣습니다.\n",
    "    tmp를 a[0], .... a[i-1]의 알맞은 위치에 삽입합니다.\n",
    "\n",
    "\n",
    "```"
   ]
  },
  {
   "cell_type": "markdown",
   "id": "82871e9c",
   "metadata": {},
   "source": [
    "- 종료 조건 1 : 정렬된 배열의 왼쪽 끝에 도달한 경우\n",
    "\n",
    "- 종료 조건 2 : tmp보다 작거나 키 값이 같은 원소 a[j-1]을 발견할 경우"
   ]
  },
  {
   "cell_type": "markdown",
   "id": "177b8177",
   "metadata": {},
   "source": [
    "이때 드모르간 법칙을 적용하면 다음 2가지 조건이 모두 성립할 때까지 스캔 작업을 반복\n",
    "\n",
    "- 계속 조건 1 : j 가 0보다 큰 경우\n",
    "- 계속 조건 2 : a[j-1]의 값이 tmp보다 큰 경우\n"
   ]
  },
  {
   "cell_type": "code",
   "execution_count": 4,
   "id": "49d1b6b6",
   "metadata": {},
   "outputs": [
    {
     "name": "stdout",
     "output_type": "stream",
     "text": [
      "단순 삽입 정렬을 수행합니다.\n",
      "원소 수를 입력하세요. : 7\n",
      "x[0]:6\n",
      "x[1]:4\n",
      "x[2]:3\n",
      "x[3]:7\n",
      "x[4]:1\n",
      "x[5]:9\n",
      "x[6]:8\n",
      "오름 차순으로 정렬했습니다.\n",
      "x[0] = 1\n",
      "x[1] = 6\n",
      "x[2] = 4\n",
      "x[3] = 7\n",
      "x[4] = 3\n",
      "x[5] = 8\n",
      "x[6] = 9\n"
     ]
    }
   ],
   "source": [
    "# 단순 삽입 정렬 알고리즘 구현하기\n",
    "from typing import MutableSequence\n",
    "\n",
    "def insertion_sort(a: MutableSequence) -> None:\n",
    "    \"\"\"단순 삽입 정렬\"\"\"\n",
    "    \n",
    "    n = len(a)\n",
    "    \n",
    "    for i in range(1, n):\n",
    "        j = i\n",
    "        tmp = a[i]\n",
    "        while j > 0 and a[j-1] > tmp:\n",
    "            a[i] = a[j - 1]\n",
    "            j -= 1\n",
    "        a[j] = tmp\n",
    "        \n",
    "if __name__ == \"__main__\":\n",
    "    print('단순 삽입 정렬을 수행합니다.')\n",
    "    num = int(input(\"원소 수를 입력하세요. : \"))\n",
    "    x = [None] * num # 원소 수가 num 인 배열 생성\n",
    "    \n",
    "    for i in range(num):\n",
    "        x[i] = int(input(f\"x[{i}]:\"))\n",
    "        \n",
    "    insertion_sort(x) # 배열 x를 단순 삽입 정렬\n",
    "    \n",
    "    print(\"오름 차순으로 정렬했습니다.\")\n",
    "    \n",
    "    for i in range(num):\n",
    "        print(f\"x[{i}] = {x[i]}\")"
   ]
  },
  {
   "cell_type": "markdown",
   "id": "f30e8a1d",
   "metadata": {},
   "source": [
    " - 이 알고리즘은 서로 떨어져 있는 원소를 비교하지 않으므로 안정적이라고 할 수 있음\n",
    " \n",
    " - 원소의 비교 횟수와 교환 횟수는 모두 n^2/2 번"
   ]
  },
  {
   "cell_type": "markdown",
   "id": "0c84d97d",
   "metadata": {},
   "source": [
    "### 단순 정렬 알고리즘의 시간 복잡도\n",
    "\n",
    "- 지금 까지 단순 정렬(버블, 선택, 삽입) 알고리즘의 시간 복잡도는 \n",
    "  모두 O(n^2)으로 프로그램의 효율이 좋지 않음\n",
    " "
   ]
  },
  {
   "cell_type": "markdown",
   "id": "960e4c71",
   "metadata": {},
   "source": [
    "### 이진 삽입 정렬\n",
    "\n",
    "- 단순 삽입 정렬은 배열 원소 수가 많아지면 원소 삽입에 필요한 비교 교환 비용이 커짐\n",
    "\n",
    "- 그러나 이진 검색법을 사용하여 삽입 정렬을 하면 \n",
    "\n",
    "  이진 정렬을 마친 배열을 제외하고 원소를 삽입해야 할 위치를 검사하므로\n",
    "  \n",
    "  비용을 줄일수 있음\n",
    "  \n",
    "  "
   ]
  },
  {
   "cell_type": "code",
   "execution_count": 5,
   "id": "d79823aa",
   "metadata": {},
   "outputs": [
    {
     "name": "stdout",
     "output_type": "stream",
     "text": [
      "이진 삽입 정렬을 수행합니다.\n",
      "원소 수를 입력하세요.: 7\n",
      "x[0]: 6\n",
      "x[1]: 4\n",
      "x[2]: 3\n",
      "x[3]: 7\n",
      "x[4]: 1\n",
      "x[5]: 9\n",
      "x[6]: 8\n",
      "오름차순으로 정렬했습니다.\n",
      "x[0] = 1\n",
      "x[1] = 3\n",
      "x[2] = 4\n",
      "x[3] = 6\n",
      "x[4] = 7\n",
      "x[5] = 8\n",
      "x[6] = 9\n"
     ]
    }
   ],
   "source": [
    "from typing import MutableSequence\n",
    "\n",
    "def binary_insertion_sort(a: MutableSequence) -> None:\n",
    "    \"\"\"이진 삽입 정렬\"\"\"\n",
    "    n = len(a)\n",
    "    for i in range(1, n):\n",
    "        key = a[i]\n",
    "        pl = 0      # 검색 범위의 맨 앞 원소 인덱스\n",
    "        pr = i - 1  # 검색 범위의 맨 끝 원소 인덱스\n",
    "\n",
    "        while True:\n",
    "            pc = (pl + pr) // 2  # 검색 범위의 중앙 원소 인덱스\n",
    "            if a[pc] == key:     # 검색 성공\n",
    "                break\n",
    "            elif a[pc] < key:\n",
    "                pl = pc + 1\n",
    "            else:\n",
    "                pr = pc - 1\n",
    "            if pl > pr:\n",
    "                break\n",
    "    \n",
    "        pd = pc + 1 if pl <= pr else pr + 1  # 삽입할 위치의 인덱스\n",
    "\n",
    "        for j in range(i, pd, -1):\n",
    "            a[j] = a[j - 1]\n",
    "        a[pd] = key\n",
    "\n",
    "if __name__ == \"__main__\":\n",
    "    print(\"이진 삽입 정렬을 수행합니다.\")\n",
    "    num = int(input(\"원소 수를 입력하세요.: \"))\n",
    "    x = [None] * num          # 원소 수가 num인 배열을 생성\n",
    "\n",
    "    for i in range(num):\n",
    "        x[i] = int(input(f\"x[{i}]: \"))\n",
    "\n",
    "    binary_insertion_sort(x)  # 배열 x를 이진 삽입 정렬\n",
    "\n",
    "    print(\"오름차순으로 정렬했습니다.\")\n",
    "    for i in range(num):\n",
    "        print(f\"x[{i}] = {x[i]}\")"
   ]
  },
  {
   "cell_type": "markdown",
   "id": "c84c1e07",
   "metadata": {},
   "source": [
    "단순 삽입 정렬 알고리즘은 파이썬 표준 라이브러리에서 bisect 모듈의 insort() 함수로 제공\n",
    "\n",
    "- 이미 정렬이 끝난 배열의 상태를 유지하면서 원소를 삽입\n",
    "\n",
    "- 이 함수를 사용하면 이진 삽입 정렬을 간결하게 구현할 수 있음"
   ]
  },
  {
   "cell_type": "code",
   "execution_count": 6,
   "id": "c618cc42",
   "metadata": {},
   "outputs": [
    {
     "name": "stdout",
     "output_type": "stream",
     "text": [
      "이진 삽입 정렬을 수행합니다.\n",
      "원소 수를 입력하세요.: 7\n",
      "x[0]: 6\n",
      "x[1]: 4\n",
      "x[2]: 3\n",
      "x[3]: 7\n",
      "x[4]: 1\n",
      "x[5]: 9\n",
      "x[6]: 8\n",
      "오름차순으로 정렬했습니다.\n",
      "x[0] = 1\n",
      "x[1] = 3\n",
      "x[2] = 4\n",
      "x[3] = 6\n",
      "x[4] = 7\n",
      "x[5] = 8\n",
      "x[6] = 9\n"
     ]
    }
   ],
   "source": [
    "# 이진 삽입 정렬 알고리즘 구현(bisect.insort 사용)\n",
    "\n",
    "from typing import MutableSequence\n",
    "import bisect\n",
    "\n",
    "def binary_insertion_sort(a: MutableSequence) -> None:\n",
    "    \"\"\"이진 삽입 정렬(bisect.insort을 사용)\"\"\"\n",
    "    for i in range(1, len(a)):\n",
    "        bisect.insort(a, a.pop(i), 0, i)\n",
    "\n",
    "if __name__ == '__main__':\n",
    "    print('이진 삽입 정렬을 수행합니다.')\n",
    "    num = int(input('원소 수를 입력하세요.: '))\n",
    "    x = [None] * num            # 원소 수가 num인 배열을 생성\n",
    "\n",
    "    for i in range(num):\n",
    "        x[i] = int(input(f'x[{i}]: '))\n",
    "\n",
    "    binary_insertion_sort(x)    # 배열 x를 이진 삽입 정렬\n",
    "\n",
    "    print('오름차순으로 정렬했습니다.')\n",
    "    for i in range(num):\n",
    "        print(f'x[{i}] = {x[i]}')\n"
   ]
  }
 ],
 "metadata": {
  "kernelspec": {
   "display_name": "Python 3 (ipykernel)",
   "language": "python",
   "name": "python3"
  },
  "language_info": {
   "codemirror_mode": {
    "name": "ipython",
    "version": 3
   },
   "file_extension": ".py",
   "mimetype": "text/x-python",
   "name": "python",
   "nbconvert_exporter": "python",
   "pygments_lexer": "ipython3",
   "version": "3.9.13"
  }
 },
 "nbformat": 4,
 "nbformat_minor": 5
}
