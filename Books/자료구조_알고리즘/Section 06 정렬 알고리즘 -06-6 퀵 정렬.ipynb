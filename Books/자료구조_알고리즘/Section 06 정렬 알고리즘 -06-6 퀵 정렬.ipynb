{
 "cells": [
  {
   "cell_type": "markdown",
   "id": "5cbe7950",
   "metadata": {},
   "source": [
    "# 퀵 정렬"
   ]
  },
  {
   "cell_type": "markdown",
   "id": "a60c3656",
   "metadata": {},
   "source": [
    "퀵 정렬(quck sort)은 가장 빠른 정렬 알고리즘으로 알려져 있으며 널리 사용됨"
   ]
  },
  {
   "cell_type": "markdown",
   "id": "9f68a363",
   "metadata": {},
   "source": [
    "## 퀵 정렬 알아보기"
   ]
  },
  {
   "cell_type": "markdown",
   "id": "6c6a8b31",
   "metadata": {},
   "source": [
    "- 일반적으로 사용되는 아주 빠른 정렬 알고리즘\n"
   ]
  },
  {
   "cell_type": "markdown",
   "id": "c2eadcf2",
   "metadata": {},
   "source": [
    " - 그룹을 나누는 기준을 피벗(pivot)이라고 함 "
   ]
  },
  {
   "cell_type": "markdown",
   "id": "b22bca0f",
   "metadata": {},
   "source": [
    "### 학생 그룹을 키 순서로 정렬하는 과정"
   ]
  },
  {
   "cell_type": "markdown",
   "id": "4203c427",
   "metadata": {},
   "source": [
    "- 키가 168cm인 학생 A를 선택하여 이 학생을 기준으로 \n",
    "\n",
    "  168cm 미만인 그룹과 168이상인 그룹으로 나눔\n",
    "  \n",
    "- 이때 기준이 되는 학생 A의 키를 피벗(pivot)이라고 함\n",
    "\n",
    "\n",
    "- 각 그룹을에서 피벗을 선택하여 나누기를 반복하며\n",
    "\n",
    "  모든 그룹이 1명씩 남으면 정렬이 완료"
   ]
  },
  {
   "cell_type": "markdown",
   "id": "325c62be",
   "metadata": {},
   "source": [
    "```\n",
    "             v\n",
    "175 170 160 168 165 170 155 150\n",
    "\n",
    "키가 168cm 미만        키가 168cm 이상\n",
    "         v                 v\n",
    "160 165 155 150       175 170 168 170\n",
    "\n",
    "155 이하    155 초과        170 이하       170이상\n",
    " v              v              v             v\n",
    "155 150    160 165        170 168        170 175\n",
    "\n",
    "\n",
    "150  155     160 165      168  170     170   175\n",
    "```"
   ]
  },
  {
   "cell_type": "markdown",
   "id": "335d8a7b",
   "metadata": {},
   "source": [
    "## 배열을 두 그룹으로 나누기\n",
    "\n",
    "- 배열을 두 그룹으로 나누는 순서를 살펴봄\n",
    "\n",
    "```\n",
    "           pl       x       pr\n",
    "           |5|7|1|4|6|2|3|9|8|\n",
    "\n",
    "```\n",
    "\n",
    "- 배열에서 6을 피벗으로 선택하여 그룹을 나눔\n",
    "\n",
    "- 피벗을 x 왼쪽 끝 원소의 인덱스를 pl, 오른쪽 끝 원소의 인덱스를 pr\n",
    "\n",
    "\n",
    "- 그룹을 나누려면 피벗 이하인 원소를 배열 왼쪽(맨 앞쪽)으로,\n",
    "  \n",
    "  피벗 이상인 원소를 배열 오른쪽(맨 뒤쪽)으로 이동시켜야 함\n"
   ]
  },
  {
   "cell_type": "markdown",
   "id": "77dfc09b",
   "metadata": {},
   "source": [
    "다음과 같이 수행\n",
    "\n",
    "- a[pl] >= x 가 성립하는 원소를 찾을 때까지 pl을 오른쪽 방향으로 스캔\n",
    "- a[pr] <= x 가 성립하는 원소를 찾을 때까지 pr을 왼쪽 방향으로 스캔\n",
    "\n"
   ]
  },
  {
   "cell_type": "markdown",
   "id": "7759c276",
   "metadata": {},
   "source": [
    "- 이 과정을 거치면 pl(왼쪽 커서)과 pr(오른쪽 커서)는 다음 그림의 위치에서 정지\n",
    "\n",
    "- pl은 피벗 이상인 원소에, pr은 피벗 이하인 원소에 위치\n",
    "\n",
    "- 여기서 pl과 pr가 위치하는 원소 a[pl]과 a[pr]의 값을 교환\n",
    "\n",
    "- 그러면 피벗 이하인 값은 왼쪽으로 이동하고, 피벗 이상인 값을 오른쪽으로 이동\n",
    "\n",
    "\n",
    "```\n",
    "pl은 왼쪽 끝부터 이동\n",
    "pr은 오른쪽 끝부터 이동\n",
    "\n",
    "\n",
    "             pl     x   pr\n",
    "           |5|7|1|4|6|2|3|9|8|\n",
    "\n",
    "\n",
    "             pl     x   pr\n",
    "           |5|3|1|4|6|2|7|9|8|\n",
    "\n",
    "```\n",
    "\n",
    "- 다시 스캔을 계속하면 pl과 pr은 다음 그림의 위치에서 정지하고, \n",
    "\n",
    "  원소a[pl] a[pr]의 값을 교환\n",
    "  \n",
    "```\n",
    "                   pl pr\n",
    "           |5|3|1|4|6|2|7|9|8|\n",
    "                    -\n",
    "\n",
    "\n",
    "                   \n",
    "           |5|3|1|4|2|6|7|9|8|\n",
    "                    -\n",
    "\n",
    "```\n",
    "\n",
    "- 다시 스캔을 계속하면 다음 그림처럼 pl과 pr가 서로 교차\n",
    "\n",
    "```\n",
    "                   pr pl\n",
    "           |5|3|1|4|2|6|7|9|8|\n",
    "\n",
    "\n",
    "```\n",
    "\n"
   ]
  },
  {
   "cell_type": "markdown",
   "id": "decc6a76",
   "metadata": {},
   "source": [
    "pl과 pr가 교차하면 이로써 그룹을 나누는 과정이 끝남\n",
    "\n",
    "배열은 다음과 같이 두 그룹으로 나뉨\n",
    "\n",
    "- 피벗 이하인 그룹\n",
    "\n",
    "- 피벗 이상인 그룹\n",
    "\n",
    "\n",
    "또 그룹을 나누는 작업이 끝난 다음 pl > pr+1 일 때에 한해서 다음과 같은 그룹이 만들어짐\n",
    "\n",
    "- 피벗과 일치하는 그룹 "
   ]
  },
  {
   "cell_type": "markdown",
   "id": "c8cd3fb7",
   "metadata": {},
   "source": [
    "```\n",
    "           pl       x       pr\n",
    "           |1|8|7|4|5|2|6|3|9|                     a\n",
    "\n",
    "\n",
    "             pl     x     pr\n",
    "           |1|8|7|4|5|2|6|3|9|   교환               b\n",
    "\n",
    "\n",
    "                pl  x pr\n",
    "           |1|3|7|4|5|2|6|8|9|   교환               c\n",
    "\n",
    "                    pr\n",
    "                    pl\n",
    "           |1|3|2|4|5|7|6|8|9|                     d\n",
    "                    -\n",
    "                    \n",
    "            피벗 이하  피벗과 일치  피벗 이상 \n",
    "           |1|3|2|4|     5       |7|6|8|9|         e\n",
    "                         -\n",
    "          왼쪽 그룹  가운데 그룹  오른쪽 그룹\n",
    "                 \n",
    "```"
   ]
  },
  {
   "cell_type": "markdown",
   "id": "cd394001",
   "metadata": {},
   "source": [
    "- 그림 d에서 pl과 pr 모두 피벗과 같은 위치(a[4])에 있음\n",
    "\n",
    "- 이때에도 같은 원소인 pl(a[4])과 pr(a[4])를 교환\n",
    "\n",
    "- 같은 원소를 교환하므로 의미가 없어 보이지만 이 시도는 최대 1번\n",
    "    - 같은 원소를 교환하지 않으면 원소를 교환할 때마다 매번 pl과 pr가 같은 위치에 있는지\n",
    "      체크해야 함\n",
    "    - 매번 체크하는 횟수보다 1번만 같은 원소를 교환하는 것이 비용이 적게 듬\n",
    "    \n",
    "\n",
    "- 계속해서  스캔하면 그림 e 처럼 pl과 pr가 교차하면서 나누는 과정을 완료\n",
    "\n",
    "\n",
    "\n",
    "- 피벗과 일치하는 그룹이 만들어지는 경우는 \n",
    "\n",
    "  배열 나누기가 완료되어 pl > pr + 1이 성립할 때뿐"
   ]
  },
  {
   "cell_type": "code",
   "execution_count": 1,
   "id": "153efb14",
   "metadata": {},
   "outputs": [
    {
     "name": "stdout",
     "output_type": "stream",
     "text": [
      "배열을 나눕니다.\n",
      "원소 수를 입력하세요.: 9\n",
      "x[0] : 1\n",
      "x[1] : 8\n",
      "x[2] : 7\n",
      "x[3] : 4\n",
      "x[4] : 5\n",
      "x[5] : 2\n",
      "x[6] : 6\n",
      "x[7] : 3\n",
      "x[8] : 9\n",
      "피벗은 5입니다.\n",
      "피벗 이하인 그룹입니다.\n",
      "1 3 2 4 5\n",
      "피벗과 일치하는 그룹입니다.\n",
      "5\n",
      "피벗 이상인 그룹입니다.\n",
      "[5, 7, 6, 8, 9]\n"
     ]
    }
   ],
   "source": [
    "# 배열을 두 그룹으로 나누기\n",
    "\n",
    "from typing import MutableSequence\n",
    "\n",
    "def partition(a: MutableSequence) -> None:\n",
    "    \"\"\"배열을 나누어 출력\"\"\"\n",
    "    n = len(a)\n",
    "    pl = 0        # 왼쪽 커서\n",
    "    pr = n - 1    # 오른쪽 커서\n",
    "    x = a[n // 2]  # 피벗(가운데 원소)\n",
    "    \n",
    "    while pl <= pr:\n",
    "        while a[pl] < x : pl += 1\n",
    "        while a[pr] > x : pr -= 1\n",
    "        if pl <= pr:\n",
    "            a[pl], a[pr] = a[pr], a[pl]\n",
    "            pl += 1\n",
    "            pr -= 1\n",
    "            \n",
    "    print(f'피벗은 {x}입니다.')\n",
    "    print(f\"피벗 이하인 그룹입니다.\")\n",
    "    print(*a[0:pl]) # a[0] ~ a[pl -1]\n",
    "    \n",
    "    if pl > pr + 1:\n",
    "        print(\"피벗과 일치하는 그룹입니다.\")\n",
    "        print(*a[pr+1:pl]) # a[pr+1] ~ a[pl - 1]\n",
    "    \n",
    "    print(\"피벗 이상인 그룹입니다.\")\n",
    "    print(a[pr+1:n]) # a[pr+1] ~ a[n-1]\n",
    "    \n",
    "    \n",
    "if __name__ == \"__main__\":\n",
    "    print(\"배열을 나눕니다.\")\n",
    "    num = int(input(\"원소 수를 입력하세요.: \"))\n",
    "    x = [None] * num # 원소 수가 num인 배열을 생성\n",
    "    \n",
    "    for i in range(num):\n",
    "        x[i] = int(input(f\"x[{i}] : \"))\n",
    "        \n",
    "    partition(x)"
   ]
  },
  {
   "cell_type": "markdown",
   "id": "7fb267d0",
   "metadata": {},
   "source": [
    " - 배열 가운데 있는 원소를 피벗으로 선택\n",
    " \n",
    " - 피벗은 어떤 값으로 선택하느냐에 따라 배열을 나누는 것과 \n",
    " \n",
    "   정렬하는 성능(performance)에 영향을 미침\n",
    "   "
   ]
  },
  {
   "cell_type": "markdown",
   "id": "f15ad39d",
   "metadata": {},
   "source": [
    "## 퀵 정렬 만들기"
   ]
  },
  {
   "cell_type": "markdown",
   "id": "5da33fff",
   "metadata": {},
   "source": [
    "- 지금까지 알아본 배열을 두 그룹으로 나누는 것을 조금 더 발전시키면 퀵 정렬 알고리즘이 됨"
   ]
  },
  {
   "cell_type": "markdown",
   "id": "593da11b",
   "metadata": {},
   "source": [
    "```\n",
    "\n",
    " pl      v       pr\n",
    "|5|8|4|2|6|1|3|9|7|\n",
    "\n",
    "\n",
    "|5|3|4|2|1|6|8|9|7|\n",
    "        pr pl   \n",
    "\n",
    "     v                    v\n",
    "|5|3|4|2|1|            |6|8|9|7|\n",
    "\n",
    "                 \n",
    "|1|3|2|4|5|            |6|7|9|8|\n",
    "     prpl                 prpl\n",
    "\n",
    "```\n",
    "\n",
    "- 원소 수가 1개인 그룹은 더 이상 나눌 필요가 없으므로 \n",
    "\n",
    "  원소 수가 2개 이상인 그룹만 다음과 같이 반복해서 나눔\n",
    "  \n",
    "  "
   ]
  },
  {
   "cell_type": "markdown",
   "id": "9c53956e",
   "metadata": {},
   "source": [
    "- pr가 a[0]보다 오른쪽에 위치하면(left < pr) 왼쪽 그룹을 나눔\n",
    "- pl가 a[8]보다 왼쪽에 위치하면(pl < right) 오른쪽 그룹을 나눔"
   ]
  },
  {
   "cell_type": "code",
   "execution_count": 4,
   "id": "859d77f9",
   "metadata": {},
   "outputs": [
    {
     "name": "stdout",
     "output_type": "stream",
     "text": [
      "퀵 정렬을 수행합니다.\n",
      "원소 수를 입력하세요.: 9\n",
      "x[0]: 5\n",
      "x[1]: 8\n",
      "x[2]: 4\n",
      "x[3]: 2\n",
      "x[4]: 6\n",
      "x[5]: 1\n",
      "x[6]: 3\n",
      "x[7]: 9\n",
      "x[8]: 7\n",
      "a[0] ~ a[8] [5, 8, 4, 2, 6, 1, 3, 9, 7]\n",
      "a[0] ~ a[4] [5, 3, 4, 2, 1]\n",
      "a[0] ~ a[2] [1, 3, 2]\n",
      "a[0] ~ a[1] [1, 2]\n",
      "a[3] ~ a[4] [4, 5]\n",
      "a[5] ~ a[8] [6, 8, 9, 7]\n",
      "a[5] ~ a[6] [6, 7]\n",
      "a[7] ~ a[8] [9, 8]\n",
      "오름차순으로 정렬했습니다.\n",
      "x[0] = 1\n",
      "x[1] = 2\n",
      "x[2] = 3\n",
      "x[3] = 4\n",
      "x[4] = 5\n",
      "x[5] = 6\n",
      "x[6] = 7\n",
      "x[7] = 8\n",
      "x[8] = 9\n"
     ]
    }
   ],
   "source": [
    "# 퀵 정렬 알고리즘\n",
    "\n",
    "from typing import MutableSequence\n",
    "\n",
    "def qsort(a: MutableSequence, left: int, right: int) -> None:\n",
    "    \"\"\"a[left] ~ a[right]를 퀵 정렬\"\"\"\n",
    "    pl = left # 왼쪽 커서\n",
    "    pr = right # 오른쪽 커서\n",
    "    x = a[(left + right) // 2] # 피벗(가운데 원소)\n",
    "    \n",
    "    \n",
    "    print(f'a[{left}] ~ a[{right}]', a[left:right+1]) \n",
    "    \n",
    "    while pl <= pr:\n",
    "        while a[pl] < x : pl += 1\n",
    "        while a[pr] > x : pr -= 1\n",
    "        \n",
    "        if pl <= pr:\n",
    "            a[pl], a[pr] = a[pr], a[pl]\n",
    "            pl += 1\n",
    "            pr -= 1\n",
    "            \n",
    "    \n",
    "    if left < pr  : qsort(a, left, pr)\n",
    "    if pl < right : qsort(a, pl, right)\n",
    "        \n",
    "        \n",
    "def quick_sort(a: MutableSequence) -> None:\n",
    "    qsort(a, 0, len(a) - 1)\n",
    "    \n",
    "    \n",
    "if __name__ == \"__main__\":\n",
    "    print(\"퀵 정렬을 수행합니다.\")\n",
    "    num = int(input(\"원소 수를 입력하세요.: \"))\n",
    "    x = [None] * num    # 원소 수가 num인 배열을 생성\n",
    "    \n",
    "    for i in range(num):\n",
    "        x[i] = int(input(f\"x[{i}]: \"))\n",
    "        \n",
    "    quick_sort(x) # 배열 x를 퀵 정렬\n",
    "    \n",
    "    print('오름차순으로 정렬했습니다.')\n",
    "    \n",
    "    for i in range(num):\n",
    "        print(f'x[{i}] = {x[i]}')"
   ]
  },
  {
   "cell_type": "markdown",
   "id": "da902220",
   "metadata": {},
   "source": [
    "- 서로 이웃하지 않는 원소를 교환하므로 안정적이지 않은 알고리즘"
   ]
  },
  {
   "cell_type": "markdown",
   "id": "07028fe5",
   "metadata": {},
   "source": [
    "## 비재귀적인 퀵 정렬 만들기"
   ]
  },
  {
   "cell_type": "code",
   "execution_count": 6,
   "id": "b2179c0f",
   "metadata": {},
   "outputs": [],
   "source": [
    "from typing import Any\n",
    "from collections import deque\n",
    "\n",
    "class Stack:\n",
    "    \"\"\"고정 길이 스택 클래스(Collections.deque를 사용)\"\"\"\n",
    "    \n",
    "    def __init__(self, maxlen: int = 256) -> None:\n",
    "        \"\"\"스택 초기화\"\"\"\n",
    "        self.capacity = maxlen\n",
    "        self.__stk = deque([], maxlen)\n",
    "        \n",
    "    def __len__(self) -> int:\n",
    "        \"\"\"스택에 쌓여 있는 데이터 개수를 반환\"\"\"\n",
    "        return len(self.__stk)\n",
    "    \n",
    "    def is_empty(self) -> bool:\n",
    "        \"\"\"스택이 비어있는지 확인\"\"\"\n",
    "        return not self.__stk\n",
    "    \n",
    "    def is_full(self) -> bool:\n",
    "        \"\"\"스택이 가득 차 있는지 판단\"\"\"\n",
    "        return len(self.__stk) == self.__stk.maxlen\n",
    "    \n",
    "    def push(self, value:Any)-> None:\n",
    "        \"\"\"스택에 value를 푸시\"\"\"\n",
    "        self.__stk.append(value)\n",
    "    \n",
    "    def pop(self) -> Any:\n",
    "        \"\"\"스택에 데이터를 팝\"\"\"\n",
    "        return self.__stk.pop()\n",
    "    \n",
    "    def peek(self) -> Any:\n",
    "        \"\"\"스택에서 데이터를 피크\"\"\"\n",
    "        return self.__stk[-1]\n",
    "    \n",
    "    def clear(self) -> None:\n",
    "        \"\"\"스택을 비움\"\"\"\n",
    "        self.__stk.clear()\n",
    "        \n",
    "    def find(self, value: Any) -> Any:\n",
    "        \"\"\"스택에서 value를 찾아 인덱스를 반환(찾지 못하면 -1을 반환)\"\"\"\n",
    "        try:\n",
    "            return self.__stk.index(value)\n",
    "        except ValueError:\n",
    "            return -1\n",
    "        \n",
    "    def count(self, value:Any)->int:\n",
    "        \"\"\"스택에 포함되어 있는 value의 개수를 반환\"\"\"\n",
    "        return self.__stk.count(value)\n",
    "    \n",
    "    def __contains__(self, value: Any) -> bool:\n",
    "        \"\"\"스택에 value가 포함되어 있는지 판단\"\"\"\n",
    "        return self.count(value)\n",
    "    \n",
    "    def dump(self)-> int:\n",
    "        \"\"\"스택 안에 있는 모든 데이터를 나열(바닥부터 꼭대기 순으로 출력)\"\"\"\n",
    "        print(list(self.__stk))"
   ]
  },
  {
   "cell_type": "code",
   "execution_count": 7,
   "id": "ad0979c5",
   "metadata": {},
   "outputs": [
    {
     "name": "stdout",
     "output_type": "stream",
     "text": [
      "퀵 정렬을 수행합니다.\n",
      "원소 수를 입력하세요.: 9\n",
      "x[0]: 5\n",
      "x[1]: 8\n",
      "x[2]: 4\n",
      "x[3]: 2\n",
      "x[4]: 6\n",
      "x[5]: 1\n",
      "x[6]: 3\n",
      "x[7]: 9\n",
      "x[8]: 7\n",
      "오름차순으로 정렬했습니다.\n",
      "x[0] = 1\n",
      "x[1] = 2\n",
      "x[2] = 3\n",
      "x[3] = 4\n",
      "x[4] = 5\n",
      "x[5] = 6\n",
      "x[6] = 7\n",
      "x[7] = 8\n",
      "x[8] = 9\n"
     ]
    }
   ],
   "source": [
    "# 비재귀적인 퀵 정렬 구현하기\n",
    "\n",
    "from typing import MutableSequence\n",
    "\n",
    "def qsort(a: MutableSequence, left: int, right: int) -> None:\n",
    "    \"\"\"a[left] ~ a[right]를 퀵 정렬(비재귀적인 퀵 정렬)\"\"\"\n",
    "    range = Stack(right - left + 1) # 스택 생성\n",
    "    \n",
    "    \n",
    "    range.push((left, right))\n",
    "    \n",
    "    while not range.is_empty():\n",
    "        pl, pr = left, right = range.pop() # 왼쪽, 오른쪽 커서를 꺼냄\n",
    "        x = a[(left+right) // 2] # 피벗(가운데 원소)\n",
    "        \n",
    "        while pl <= pr:\n",
    "            while a[pl] < x: pl += 1\n",
    "            while a[pr] > x: pr -= 1\n",
    "            if pl <= pr:\n",
    "                a[pl], a[pr] = a[pr], a[pl]\n",
    "                pl += 1\n",
    "                pr -= 1\n",
    "                \n",
    "        if left < pr: range.push((left, pr)) # 왼쪽 그룹의 커서를 저장\n",
    "        if pl < right: range.push((pl, right)) # 오른쪽 그룹의 커서를 저장\n",
    "            \n",
    "            \n",
    "            \n",
    "def quick_sort(a: MutableSequence) -> None:\n",
    "    qsort(a, 0, len(a) - 1)\n",
    "    \n",
    "    \n",
    "if __name__ == \"__main__\":\n",
    "    print(\"퀵 정렬을 수행합니다.\")\n",
    "    num = int(input(\"원소 수를 입력하세요.: \"))\n",
    "    x = [None] * num    # 원소 수가 num인 배열을 생성\n",
    "    \n",
    "    for i in range(num):\n",
    "        x[i] = int(input(f\"x[{i}]: \"))\n",
    "        \n",
    "    quick_sort(x) # 배열 x를 퀵 정렬\n",
    "    \n",
    "    print('오름차순으로 정렬했습니다.')\n",
    "    \n",
    "    for i in range(num):\n",
    "        print(f'x[{i}] = {x[i]}')"
   ]
  },
  {
   "cell_type": "markdown",
   "id": "b3b49902",
   "metadata": {},
   "source": [
    "### 스택의 크기 "
   ]
  },
  {
   "cell_type": "markdown",
   "id": "d96bac62",
   "metadata": {},
   "source": []
  },
  {
   "cell_type": "markdown",
   "id": "668625ef",
   "metadata": {},
   "source": []
  },
  {
   "cell_type": "markdown",
   "id": "074bc7e8",
   "metadata": {},
   "source": []
  },
  {
   "cell_type": "markdown",
   "id": "c2ab11dc",
   "metadata": {},
   "source": []
  },
  {
   "cell_type": "markdown",
   "id": "a4ddf124",
   "metadata": {},
   "source": []
  },
  {
   "cell_type": "markdown",
   "id": "be1fe5aa",
   "metadata": {},
   "source": []
  },
  {
   "cell_type": "markdown",
   "id": "d1d9490d",
   "metadata": {},
   "source": []
  },
  {
   "cell_type": "markdown",
   "id": "5e657c75",
   "metadata": {},
   "source": []
  },
  {
   "cell_type": "markdown",
   "id": "fc7584d2",
   "metadata": {},
   "source": []
  },
  {
   "cell_type": "markdown",
   "id": "655c13ca",
   "metadata": {},
   "source": []
  },
  {
   "cell_type": "markdown",
   "id": "8ce655a1",
   "metadata": {},
   "source": []
  },
  {
   "cell_type": "markdown",
   "id": "14f446a3",
   "metadata": {},
   "source": []
  },
  {
   "cell_type": "markdown",
   "id": "02f50a42",
   "metadata": {},
   "source": []
  },
  {
   "cell_type": "markdown",
   "id": "04ba970b",
   "metadata": {},
   "source": []
  },
  {
   "cell_type": "markdown",
   "id": "7ce109a3",
   "metadata": {},
   "source": []
  },
  {
   "cell_type": "markdown",
   "id": "2121582f",
   "metadata": {},
   "source": []
  },
  {
   "cell_type": "markdown",
   "id": "c258a3be",
   "metadata": {},
   "source": []
  },
  {
   "cell_type": "markdown",
   "id": "66f0e668",
   "metadata": {},
   "source": []
  },
  {
   "cell_type": "markdown",
   "id": "e045a507",
   "metadata": {},
   "source": []
  },
  {
   "cell_type": "markdown",
   "id": "e3f25a45",
   "metadata": {},
   "source": []
  },
  {
   "cell_type": "markdown",
   "id": "10ee96ef",
   "metadata": {},
   "source": []
  },
  {
   "cell_type": "markdown",
   "id": "db8d938d",
   "metadata": {},
   "source": []
  },
  {
   "cell_type": "markdown",
   "id": "c789aae3",
   "metadata": {},
   "source": []
  },
  {
   "cell_type": "markdown",
   "id": "35bdc5f0",
   "metadata": {},
   "source": []
  },
  {
   "cell_type": "markdown",
   "id": "df5e9cc0",
   "metadata": {},
   "source": []
  },
  {
   "cell_type": "markdown",
   "id": "59b87b02",
   "metadata": {},
   "source": []
  },
  {
   "cell_type": "markdown",
   "id": "ddf74c59",
   "metadata": {},
   "source": []
  },
  {
   "cell_type": "markdown",
   "id": "648060a4",
   "metadata": {},
   "source": []
  },
  {
   "cell_type": "markdown",
   "id": "a3f108ed",
   "metadata": {},
   "source": []
  },
  {
   "cell_type": "markdown",
   "id": "12cc2d22",
   "metadata": {},
   "source": []
  },
  {
   "cell_type": "markdown",
   "id": "481d176a",
   "metadata": {},
   "source": []
  },
  {
   "cell_type": "markdown",
   "id": "1350af35",
   "metadata": {},
   "source": []
  },
  {
   "cell_type": "markdown",
   "id": "186ad736",
   "metadata": {},
   "source": []
  },
  {
   "cell_type": "markdown",
   "id": "e7f34df4",
   "metadata": {},
   "source": []
  },
  {
   "cell_type": "markdown",
   "id": "d31b511a",
   "metadata": {},
   "source": []
  },
  {
   "cell_type": "markdown",
   "id": "5944a40f",
   "metadata": {},
   "source": []
  },
  {
   "cell_type": "markdown",
   "id": "14623adb",
   "metadata": {},
   "source": []
  }
 ],
 "metadata": {
  "kernelspec": {
   "display_name": "Python 3 (ipykernel)",
   "language": "python",
   "name": "python3"
  },
  "language_info": {
   "codemirror_mode": {
    "name": "ipython",
    "version": 3
   },
   "file_extension": ".py",
   "mimetype": "text/x-python",
   "name": "python",
   "nbconvert_exporter": "python",
   "pygments_lexer": "ipython3",
   "version": "3.9.13"
  }
 },
 "nbformat": 4,
 "nbformat_minor": 5
}
