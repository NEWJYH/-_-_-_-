{
 "cells": [
  {
   "cell_type": "markdown",
   "id": "44756149",
   "metadata": {},
   "source": [
    "# 7.1 트리 순회 알고리즘의 종류\n"
   ]
  },
  {
   "cell_type": "markdown",
   "id": "b40a5587",
   "metadata": {},
   "source": [
    "- 1. 전위 순회(Pre-Order Traverse)\n",
    "\n",
    "- 2. 중위 순회(In-Order Traverse)\n",
    "\n",
    "- 3. 후위 순회(Post-Order Traverse)\n",
    "\n",
    "- 4. 단계 순회(Level-Order Traverse)"
   ]
  },
  {
   "attachments": {
    "image.png": {
     "image/png": "[encoded data removed]"
    }
   },
   "cell_type": "markdown",
   "id": "f9d501aa",
   "metadata": {},
   "source": [
    "![image.png](attachment:image.png)"
   ]
  },
  {
   "cell_type": "markdown",
   "id": "e6d4b4dd",
   "metadata": {},
   "source": [
    "## 1. 전위 순회(Pre-Order Traverse)"
   ]
  },
  {
   "cell_type": "markdown",
   "id": "80cbe4a1",
   "metadata": {},
   "source": [
    " - 전위 순회는 루트 노드를 먼저 탐색하고 이진 트리에서 왼쪽에 있는 노드부터 방문한다는 의미\n",
    "\n",
    "방문 순서\n",
    " - A -> B -> C -> D -> E -> F -> G 순서로 방문\n",
    " "
   ]
  },
  {
   "cell_type": "markdown",
   "id": "f88a75c0",
   "metadata": {},
   "source": [
    "## 2. 중위 순회(In-Order Traverse)\n",
    " - 왼쪽 자식노드를 탐색하고, 루트 노드를 탐색 하고, 오른쪽 자식노드를 탐색하는 방식\n",
    "\n",
    "방문 순서\n",
    "- C -> B -> D -> A -> F -> E -> G 순서로 방문\n"
   ]
  },
  {
   "cell_type": "markdown",
   "id": "38163e42",
   "metadata": {},
   "source": [
    "## 3. 후위 순회(Post-Order Traverse)\n",
    "\n",
    "- 왼쪽 자식노드를 탐색하고, 오른쪽 자식 노드를 탐색하고, 루트 노드를 탐색하는 방식\n",
    "\n",
    "방문 순서\n",
    "- C -> D -> B -> F -> G -> E -> A"
   ]
  },
  {
   "cell_type": "markdown",
   "id": "96bee9c1",
   "metadata": {},
   "source": [
    "## 4. 단계 순위 순회(Level-Order Traverse)\n",
    "\n",
    "- 위에서부터 차례대로 방문하는 순서\n",
    "\n",
    "방문 순서\n",
    "\n",
    "- A -> B -> E -> C -> D -> F -> G"
   ]
  },
  {
   "cell_type": "markdown",
   "id": "510a5466",
   "metadata": {},
   "source": [
    "---"
   ]
  },
  {
   "cell_type": "markdown",
   "id": "48bdf52e",
   "metadata": {},
   "source": [
    "### 트리 구조에서 사용할 노드에 대한 자료형"
   ]
  },
  {
   "cell_type": "code",
   "execution_count": 1,
   "id": "bbe5edc1",
   "metadata": {},
   "outputs": [],
   "source": [
    "class Node:\n",
    "    def __init__(self, data):\n",
    "        self.data = data\n",
    "        self.left = None\n",
    "        self.right = None"
   ]
  },
  {
   "cell_type": "markdown",
   "id": "b8756a93",
   "metadata": {},
   "source": [
    "```\n",
    "                                          A\n",
    "                                          \n",
    "                                       B     C\n",
    "                                     \n",
    "                                   D    E   F    G\n",
    "```"
   ]
  },
  {
   "cell_type": "markdown",
   "id": "ea0b9a5b",
   "metadata": {},
   "source": [
    "### 노드 생성하고 위의 그림과 같은 이진트리의 형태를 갖도록 초기화 하는 방법은 다음과 같음 "
   ]
  },
  {
   "cell_type": "code",
   "execution_count": 2,
   "id": "e6b30be1",
   "metadata": {},
   "outputs": [],
   "source": [
    "def init_tree():\n",
    "    global root\n",
    "    \n",
    "    new_node = Node(\"A\")\n",
    "    root = new_node\n",
    "    new_node = Node(\"B\")\n",
    "    root.left = new_node\n",
    "    new_node = Node(\"C\")\n",
    "    root.right = new_node\n",
    "    new_node_1 = Node(\"D\")\n",
    "    new_node_2 = Node(\"E\")\n",
    "    node = root.left\n",
    "    node.left = new_node_1\n",
    "    node.right = new_node_2\n",
    "    \n",
    "    new_node_1 = Node(\"F\")\n",
    "    new_node_2 = Node(\"G\")\n",
    "    node = root.right\n",
    "    node.left = new_node_1\n",
    "    node.right = new_node_2"
   ]
  },
  {
   "cell_type": "markdown",
   "id": "40c14d82",
   "metadata": {},
   "source": [
    "# 7.2 전위순회(Pre-order Traverse) 알고리즘"
   ]
  },
  {
   "cell_type": "markdown",
   "id": "daaa9e9b",
   "metadata": {},
   "source": [
    "- 트리 구조를 순회하기 위해 반드시 지켜야 할 기본적인 규칙 \"노드는 오직 한번만 방문한다\"\n",
    "\n",
    "- 트리 구조에서 트리 구조를 순회하는 방법에는 \n",
    "  가운데 노드를 먼저 방문하고 \n",
    "  그 다음에는 왼쪽 노드를 방문하고 \n",
    "  그 다음 나서 오른쪽 노드를 방문 하는 방법\n",
    "```\n",
    "                                          A\n",
    "                                          \n",
    "                                       B     C\n",
    "                                     \n",
    "                                   D    E   F    G\n",
    "```\n",
    "\n",
    "A -> B -> D -> E -> C -> F -> G"
   ]
  },
  {
   "cell_type": "code",
   "execution_count": 3,
   "id": "4e858bf3",
   "metadata": {},
   "outputs": [],
   "source": [
    "def preorder_traverse(node):\n",
    "    if node == None: return\n",
    "    print(node.data, end= ' -> ')\n",
    "    preorder_traverse(node.left)\n",
    "    preorder_traverse(node.right)\n"
   ]
  },
  {
   "cell_type": "markdown",
   "id": "8afd49bb",
   "metadata": {},
   "source": [
    "- 위 호출을 보면 이진 트리를 순회하기 위해 재귀 호출을 사용한다는 것을 알 수 있음\n",
    "\n",
    "- 먼저 매개 변수로 받은 node가 트리의 끝인지 아닌지를 체크해야 한다.\n",
    "  if node == None: 이 True이면 현재 트리의 끝이라는 것을 의미하므로 preorder_traverse()함수를 리턴한다.\n",
    "  \n",
    "- 만약 node가 None이 아니라면 현재 노드인 node의 data항목을 출력한다.\n",
    " - 그리고 나서 재귀 호출 방법으로 현재 노드인 node의 왼쪽 노드에 해당하는 node.left를 파라미터로 사용하여 재귀 호출\n",
    " - 다시 오른쪽 노드에 해당하는 node.right를 호출하여 재귀 호출\n",
    " \n",
    "- 이 preoder_traverse()함수를 재귀적으로 호출하는 것이 바로 트리에서 노드를 순회하는 방법에 해당\n"
   ]
  },
  {
   "cell_type": "markdown",
   "id": "520ff134",
   "metadata": {},
   "source": [
    "결과 \n",
    "- A -> B-> D -> E -> C -> F -> G "
   ]
  },
  {
   "cell_type": "code",
   "execution_count": 5,
   "id": "23f2f7db",
   "metadata": {},
   "outputs": [
    {
     "name": "stdout",
     "output_type": "stream",
     "text": [
      "전위순회\n",
      "A -> B -> D -> E -> C -> F -> G -> "
     ]
    }
   ],
   "source": [
    "class Node:\n",
    "    def __init__(self, data):\n",
    "        self.data = data\n",
    "        self.left = None\n",
    "        self.right = None\n",
    "        \n",
    "def init_tree():\n",
    "    global root\n",
    "    \n",
    "    new_node = Node(\"A\")\n",
    "    root = new_node\n",
    "    new_node = Node(\"B\")\n",
    "    root.left = new_node\n",
    "    new_node = Node(\"C\")\n",
    "    root.right = new_node\n",
    "    new_node_1 = Node(\"D\")\n",
    "    new_node_2 = Node(\"E\")\n",
    "    node = root.left\n",
    "    node.left = new_node_1\n",
    "    node.right = new_node_2\n",
    "    \n",
    "    new_node_1 = Node(\"F\")\n",
    "    new_node_2 = Node(\"G\")\n",
    "    node = root.right\n",
    "    node.left = new_node_1\n",
    "    node.right = new_node_2\n",
    "    \n",
    "    \n",
    "def preorder_traverse(node):\n",
    "    if node == None: return\n",
    "    print(node.data, end= ' -> ')\n",
    "    preorder_traverse(node.left)\n",
    "    preorder_traverse(node.right)\n",
    "    \n",
    "if __name__ == \"__main__\":\n",
    "    init_tree()\n",
    "    print(\"전위순회\")\n",
    "    preorder_traverse(root)"
   ]
  },
  {
   "cell_type": "markdown",
   "id": "04b1ec87",
   "metadata": {},
   "source": [
    "# 7.3 중위 순회(In-Order Traverse) 알고리즘"
   ]
  },
  {
   "cell_type": "markdown",
   "id": "836367a0",
   "metadata": {},
   "source": [
    "- 중위 순회 알고리즘은 \"왼쪽 자식 노드를 방문하고 그 다음 부모노드를 방문한 후 다시 오른쪽 자식 노드를 방문\" 하는 알고리즘\n",
    "\n",
    "```\n",
    "                                          A\n",
    "                                          \n",
    "                                       B     C\n",
    "                                     \n",
    "                                   D    E   F    G\n",
    "```\n",
    "\n",
    "D -> B -> E -> A -> F -> C -> G"
   ]
  },
  {
   "cell_type": "code",
   "execution_count": null,
   "id": "bf5163bf",
   "metadata": {},
   "outputs": [],
   "source": [
    "def inorder_traverse(node):\n",
    "    if node == None: return\n",
    "    inorder_traverse(node.left)\n",
    "    print(node.data, end=\" -> \")\n",
    "    inorder_traverse(node.right)\n",
    "    "
   ]
  },
  {
   "cell_type": "code",
   "execution_count": 6,
   "id": "396b2a0d",
   "metadata": {},
   "outputs": [
    {
     "name": "stdout",
     "output_type": "stream",
     "text": [
      "중위순회\n",
      "D -> B -> E -> A -> F -> C -> G -> "
     ]
    }
   ],
   "source": [
    "class Node:\n",
    "    def __init__(self, data):\n",
    "        self.data = data\n",
    "        self.left = None\n",
    "        self.right = None\n",
    "        \n",
    "def init_tree():\n",
    "    global root\n",
    "    \n",
    "    new_node = Node(\"A\")\n",
    "    root = new_node\n",
    "    new_node = Node(\"B\")\n",
    "    root.left = new_node\n",
    "    new_node = Node(\"C\")\n",
    "    root.right = new_node\n",
    "    new_node_1 = Node(\"D\")\n",
    "    new_node_2 = Node(\"E\")\n",
    "    node = root.left\n",
    "    node.left = new_node_1\n",
    "    node.right = new_node_2\n",
    "    \n",
    "    new_node_1 = Node(\"F\")\n",
    "    new_node_2 = Node(\"G\")\n",
    "    node = root.right\n",
    "    node.left = new_node_1\n",
    "    node.right = new_node_2\n",
    "\n",
    "def inorder_traverse(node):\n",
    "    if node == None: return\n",
    "    inorder_traverse(node.left)\n",
    "    print(node.data, end=\" -> \")\n",
    "    inorder_traverse(node.right)\n",
    "\n",
    "    \n",
    "if __name__ == \"__main__\":\n",
    "    init_tree()\n",
    "    print(\"중위순회\")\n",
    "    inorder_traverse(root)"
   ]
  },
  {
   "cell_type": "markdown",
   "id": "410267ad",
   "metadata": {},
   "source": [
    "# 후위 순회(Post-order Traverse) 알고리즘"
   ]
  },
  {
   "cell_type": "markdown",
   "id": "22ab9504",
   "metadata": {},
   "source": [
    "- 중위순회 알고리즘은 \"왼쪽 자식 노드를 방문하고 다음 부모노드를 방문한후 다시 오른쪽 자식 노드를 방문\"\n",
    "\n",
    "\n",
    "- 후위 순위 알고리즘은 왼쪽 자식노드를 방문하고 다음 오른쪽 자식 노드를 방문한 후\n",
    "  \n",
    "  마지막으로 부모노드를 방문하는 알고리즘\n",
    "  \n",
    "```\n",
    "                                          A\n",
    "                                          \n",
    "                                       B     C\n",
    "                                     \n",
    "                                   D    E   F    G\n",
    "```\n",
    "\n",
    "D -> E -> B -> F -> G -> C -> A "
   ]
  },
  {
   "cell_type": "code",
   "execution_count": 7,
   "id": "30debaa5",
   "metadata": {},
   "outputs": [],
   "source": [
    "def postorder_traverse(node):\n",
    "    if node == None: return\n",
    "    postorder_traverse(node.left)\n",
    "    postorder_traverse(node.right)\n",
    "    print(node.data, end=\" -> \")"
   ]
  },
  {
   "cell_type": "code",
   "execution_count": 8,
   "id": "0b87cadf",
   "metadata": {},
   "outputs": [
    {
     "name": "stdout",
     "output_type": "stream",
     "text": [
      "후위순회\n",
      "D -> E -> B -> F -> G -> C -> A -> "
     ]
    }
   ],
   "source": [
    "class Node:\n",
    "    def __init__(self, data):\n",
    "        self.data = data\n",
    "        self.left = None\n",
    "        self.right = None\n",
    "        \n",
    "def init_tree():\n",
    "    global root\n",
    "    \n",
    "    new_node = Node(\"A\")\n",
    "    root = new_node\n",
    "    new_node = Node(\"B\")\n",
    "    root.left = new_node\n",
    "    new_node = Node(\"C\")\n",
    "    root.right = new_node\n",
    "    new_node_1 = Node(\"D\")\n",
    "    new_node_2 = Node(\"E\")\n",
    "    node = root.left\n",
    "    node.left = new_node_1\n",
    "    node.right = new_node_2\n",
    "    \n",
    "    new_node_1 = Node(\"F\")\n",
    "    new_node_2 = Node(\"G\")\n",
    "    node = root.right\n",
    "    node.left = new_node_1\n",
    "    node.right = new_node_2\n",
    "\n",
    "def postorder_traverse(node):\n",
    "    if node == None: return\n",
    "    postorder_traverse(node.left)\n",
    "    postorder_traverse(node.right)\n",
    "    print(node.data, end=\" -> \")\n",
    "    \n",
    "if __name__ == \"__main__\":\n",
    "    init_tree()\n",
    "    print(\"후위순회\")\n",
    "    postorder_traverse(root)"
   ]
  },
  {
   "cell_type": "markdown",
   "id": "4e07dd13",
   "metadata": {},
   "source": [
    "# 7.5 단계 순회(Level-order-Traverse)알고리즘\n",
    "\n",
    "- 단계 순회 알고리즘은 루트 노드부터 단계 순서대로 왼쪽부터 오른쪽으로 방문하는 순회 알고리즘\n",
    "\n",
    "```\n",
    "                                          A\n",
    "                                          \n",
    "                                       B     C\n",
    "                                     \n",
    "                                   D    E   F    G\n",
    "```\n",
    "\n",
    "A -> B -> C -> D -> E -> F -> G\n",
    "\n",
    "- 단계 순회 알고리즘의 경우는 스택을 사용하기 어렵고, 큐를 사용하는 것이 더 바람직함"
   ]
  },
  {
   "cell_type": "code",
   "execution_count": 10,
   "id": "b3b8d817",
   "metadata": {},
   "outputs": [],
   "source": [
    "levelq = []\n",
    "\n",
    "def levelorder_traverse(node):\n",
    "    global levelq\n",
    "    levelg.append(node)\n",
    "    \n",
    "    \n",
    "    while len(levelq) != 0:\n",
    "        # visit\n",
    "        visit_node = levelq.pop(0)\n",
    "        print(visit_node.data, end =\" -> \")\n",
    "        # childput\n",
    "        if visit_node.left != None:\n",
    "            levelq.append(visit_node.left)\n",
    "        if visit_node.right != None:\n",
    "            levelq.append(visit_node.right)\n",
    "            "
   ]
  },
  {
   "cell_type": "markdown",
   "id": "5c5a2da3",
   "metadata": {},
   "source": [
    " - 매개변수로 받은 현재 노드를 큐인 levelq에 저장\n",
    " - 큐의 크기가 0이 아니라면 큐에서 항목을 하나씩 가져와서 그 항목의 데이터를 출력\n",
    " \n",
    " - 현재 방문한 노드를  visit_node라고하고, visit_node의 왼쪽 노드가 존재한다면 큐에 visit_node의 왼쪽 노드를 삽입하고,\n",
    " \n",
    "   오른쪽 노드가 존재하는지를 검사\n",
    "   \n",
    " - 오른쪽 노드가 존재하면 큐에 저장하고 반복문인 while문을 계속 실행\n"
   ]
  },
  {
   "cell_type": "code",
   "execution_count": 14,
   "id": "fe72dcf0",
   "metadata": {},
   "outputs": [
    {
     "name": "stdout",
     "output_type": "stream",
     "text": [
      "전위 순회\n",
      "A -> B -> D -> E -> C -> F -> G -> \n",
      "중위 순회\n",
      "D -> B -> E -> A -> F -> C -> G -> \n",
      "후위 순회\n",
      "D -> E -> B -> F -> G -> C -> A -> \n",
      "단계 순회\n",
      "A -> B -> C -> D -> E -> F -> G -> \n"
     ]
    }
   ],
   "source": [
    "class Node:\n",
    "    def __init__(self, data):\n",
    "        self.data = data\n",
    "        self.left = None\n",
    "        self.right = None\n",
    "        \n",
    "def init_tree():\n",
    "    global root\n",
    "    \n",
    "    new_node = Node(\"A\")\n",
    "    root = new_node\n",
    "    new_node = Node(\"B\")\n",
    "    root.left = new_node\n",
    "    new_node = Node(\"C\")\n",
    "    root.right = new_node\n",
    "    new_node_1 = Node(\"D\")\n",
    "    new_node_2 = Node(\"E\")\n",
    "    node = root.left\n",
    "    node.left = new_node_1\n",
    "    node.right = new_node_2\n",
    "    \n",
    "    new_node_1 = Node(\"F\")\n",
    "    new_node_2 = Node(\"G\")\n",
    "    node = root.right\n",
    "    node.left = new_node_1\n",
    "    node.right = new_node_2\n",
    "\n",
    "# 전위 순회\n",
    "def preorder_traverse(node):\n",
    "    if node == None: return\n",
    "    print(node.data, end= ' -> ')\n",
    "    preorder_traverse(node.left)\n",
    "    preorder_traverse(node.right)\n",
    "\n",
    "# 중위 순회    \n",
    "def inorder_traverse(node):\n",
    "    if node == None: return\n",
    "    inorder_traverse(node.left)\n",
    "    print(node.data, end=\" -> \")\n",
    "    inorder_traverse(node.right)\n",
    "    \n",
    "    \n",
    "# 후위 순회    \n",
    "def postorder_traverse(node):\n",
    "    if node == None: return\n",
    "    postorder_traverse(node.left)\n",
    "    postorder_traverse(node.right)\n",
    "    print(node.data, end=\" -> \")\n",
    "    \n",
    "levelq = []\n",
    "\n",
    "def levelorder_traverse(node):\n",
    "    global levelq\n",
    "    levelq.append(node)\n",
    "    \n",
    "    \n",
    "    while len(levelq) != 0:\n",
    "        # visit\n",
    "        visit_node = levelq.pop(0)\n",
    "        print(visit_node.data, end =\" -> \")\n",
    "        # childput\n",
    "        if visit_node.left != None:\n",
    "            levelq.append(visit_node.left)\n",
    "        if visit_node.right != None:\n",
    "            levelq.append(visit_node.right)\n",
    "            \n",
    "    \n",
    "    \n",
    "    \n",
    "    \n",
    "if __name__ == \"__main__\":\n",
    "    init_tree()\n",
    "    print(\"전위 순회\")\n",
    "    preorder_traverse(root)\n",
    "    print()\n",
    "    \n",
    "    print(\"중위 순회\")\n",
    "    inorder_traverse(root)\n",
    "    print()\n",
    "    \n",
    "    print(\"후위 순회\")\n",
    "    postorder_traverse(root)\n",
    "    print()\n",
    "    \n",
    "    print(\"단계 순회\")\n",
    "    levelorder_traverse(root)\n",
    "    print()\n",
    "    "
   ]
  },
  {
   "cell_type": "markdown",
   "id": "02271b64",
   "metadata": {},
   "source": [
    "---"
   ]
  }
 ],
 "metadata": {
  "kernelspec": {
   "display_name": "Python 3 (ipykernel)",
   "language": "python",
   "name": "python3"
  },
  "language_info": {
   "codemirror_mode": {
    "name": "ipython",
    "version": 3
   },
   "file_extension": ".py",
   "mimetype": "text/x-python",
   "name": "python",
   "nbconvert_exporter": "python",
   "pygments_lexer": "ipython3",
   "version": "3.9.13"
  }
 },
 "nbformat": 4,
 "nbformat_minor": 5
}
