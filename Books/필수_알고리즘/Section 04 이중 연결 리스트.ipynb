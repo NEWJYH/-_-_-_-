{
 "cells": [
  {
   "cell_type": "markdown",
   "id": "c90ae060",
   "metadata": {},
   "source": [
    "# 4.1 이중 연결 리스트"
   ]
  },
  {
   "cell_type": "markdown",
   "id": "e37ea6e4",
   "metadata": {},
   "source": [
    "## 4.1.1 이중 연결 리스트의 개념"
   ]
  },
  {
   "attachments": {
    "image.png": {
     "image/png": "[encoded data removed]"
    }
   },
   "cell_type": "markdown",
   "id": "6dfdb713",
   "metadata": {},
   "source": [
    "![image.png](attachment:image.png)"
   ]
  },
  {
   "cell_type": "markdown",
   "id": "e505f8c2",
   "metadata": {},
   "source": [
    "이중 연결리스트와 원형 연결리스트의 경우에 노드를 선언하는 프로그램의 코드가 어떻게 바뀌는가? \n",
    "\n",
    "링크가 하나 더 추가된었다는 점을 제외하고는 그다지 바뀐 부분이 없음"
   ]
  },
  {
   "cell_type": "code",
   "execution_count": 1,
   "id": "c2a2e660",
   "metadata": {},
   "outputs": [
    {
     "name": "stdout",
     "output_type": "stream",
     "text": [
      "연결리스트 초기화 후\n",
      "A\n",
      "B\n",
      "D\n",
      "E\n"
     ]
    }
   ],
   "source": [
    "class Node:\n",
    "    def __init__(self, data, next=None, prev=None):\n",
    "        self.data = data\n",
    "        self.next = next\n",
    "        self.prev = prev\n",
    "        \n",
    "def init_list():\n",
    "    global node_A\n",
    "    node_A = Node(\"A\")\n",
    "    node_B = Node(\"B\")    \n",
    "    node_D = Node(\"D\")    \n",
    "    node_E = Node(\"E\") \n",
    "    node_A.next = node_B\n",
    "    node_B.next = node_D\n",
    "    node_B.prev = node_A\n",
    "    node_D.next = node_E\n",
    "    node_D.prev = node_B\n",
    "    node_E.prev = node_D\n",
    "    \n",
    "    \n",
    "def print_list():\n",
    "    global node_A\n",
    "    node = node_A\n",
    "    while node:\n",
    "        print(node.data)\n",
    "        node = node.next\n",
    "        \n",
    "if __name__ == \"__main__\":\n",
    "    print(\"연결리스트 초기화 후\")\n",
    "    init_list()\n",
    "    print_list()"
   ]
  },
  {
   "cell_type": "markdown",
   "id": "eeb8cfcf",
   "metadata": {},
   "source": [
    "## 4.1.2 이중 연결 리스트의 삽입 알고리즘"
   ]
  },
  {
   "cell_type": "markdown",
   "id": "bf171ae3",
   "metadata": {},
   "source": [
    "### 삽입 순서는 단일 연결 리스트의 삽입과 동일"
   ]
  },
  {
   "cell_type": "code",
   "execution_count": 2,
   "id": "b5217774",
   "metadata": {},
   "outputs": [
    {
     "name": "stdout",
     "output_type": "stream",
     "text": [
      "연결리스트 초기화 후\n",
      "A\n",
      "B\n",
      "D\n",
      "E\n",
      "노드 C의 추가 후\n",
      "A\n",
      "B\n",
      "C\n",
      "D\n",
      "E\n"
     ]
    }
   ],
   "source": [
    "class Node:\n",
    "    def __init__(self, data, next=None, prev=None):\n",
    "        self.data = data\n",
    "        self.next = next\n",
    "        self.prev = prev\n",
    "        \n",
    "def init_list():\n",
    "    global node_A\n",
    "    node_A = Node(\"A\")\n",
    "    node_B = Node(\"B\")    \n",
    "    node_D = Node(\"D\")    \n",
    "    node_E = Node(\"E\") \n",
    "    node_A.next = node_B\n",
    "    node_B.next = node_D\n",
    "    node_B.prev = node_A\n",
    "    node_D.next = node_E\n",
    "    node_D.prev = node_B\n",
    "    node_E.prev = node_D\n",
    "    \n",
    "\n",
    "    \n",
    "    \n",
    "def insert_node(data):\n",
    "    global node_A\n",
    "    new_node = Node(data)\n",
    "    node_P = node_A\n",
    "    node_T = node_A\n",
    "    \n",
    "    # 노드 순회\n",
    "    while node_T.data <= data: # 삽입될 데이터보다 작거나 같을 경우\n",
    "        # 앞쪽 포인터를 한칸 이동\n",
    "        node_P = node_T\n",
    "        # 뒤쪽 포인터를 한칸이동\n",
    "        node_T = node_T.next\n",
    "    # 반복문 밖으로 나온다면 ? : 삽입될 데이터가 더 크다는 것 \n",
    "    #  p = B - \" \" - T = D\n",
    "    # C 삽입 \n",
    "    new_node.next = node_T\n",
    "    node_P.next = new_node\n",
    "    new_node.prev = node_P\n",
    "    node_T.prev = new_node\n",
    "    \n",
    "    \n",
    "    \n",
    "def print_list():\n",
    "    global node_A\n",
    "    node = node_A\n",
    "    while node:\n",
    "        print(node.data)\n",
    "        node = node.next\n",
    "        \n",
    "if __name__ == \"__main__\":\n",
    "    print(\"연결리스트 초기화 후\")\n",
    "    init_list()\n",
    "    print_list()\n",
    "    \n",
    "    print(\"노드 C의 추가 후\")\n",
    "    insert_node('C')\n",
    "    print_list()"
   ]
  },
  {
   "cell_type": "markdown",
   "id": "bc000e1d",
   "metadata": {},
   "source": [
    "## 4.1.3 이중 연결 리스트의 삭제 알고리즘"
   ]
  },
  {
   "cell_type": "markdown",
   "id": "3f76049a",
   "metadata": {},
   "source": [
    "기본적인 알고리즘은 단일 연결 리스트의 경우와 다르지 않으며 단순히 prev링크에 대해서만 몇가지 고려해주면 됨"
   ]
  },
  {
   "cell_type": "code",
   "execution_count": 42,
   "id": "cf53d0e2",
   "metadata": {},
   "outputs": [
    {
     "name": "stdout",
     "output_type": "stream",
     "text": [
      "연결리스트 초기화 후\n",
      "A\n",
      "B\n",
      "D\n",
      "E\n",
      "노드 C의 추가 후\n",
      "A\n",
      "B\n",
      "C\n",
      "D\n",
      "E\n",
      "노드 E의 삭제 후\n",
      "A\n",
      "B\n",
      "C\n",
      "D\n"
     ]
    }
   ],
   "source": [
    "class Node:\n",
    "    def __init__(self, data, next=None, prev=None):\n",
    "        self.data = data\n",
    "        self.next = next\n",
    "        self.prev = prev\n",
    "        \n",
    "def init_list():\n",
    "    global node_A\n",
    "    node_A = Node(\"A\")\n",
    "    node_B = Node(\"B\")    \n",
    "    node_D = Node(\"D\")    \n",
    "    node_E = Node(\"E\") \n",
    "    node_A.next = node_B\n",
    "    node_B.next = node_D\n",
    "    node_B.prev = node_A\n",
    "    node_D.next = node_E\n",
    "    node_D.prev = node_B\n",
    "    node_E.prev = node_D\n",
    "    \n",
    "\n",
    "    \n",
    "    \n",
    "def insert_node(data):\n",
    "    global node_A\n",
    "    new_node = Node(data)\n",
    "    node_P = node_A\n",
    "    node_T = node_A\n",
    "    \n",
    "    while node_T.data <= data: \n",
    "        node_P = node_T\n",
    "        node_T = node_T.next\n",
    "\n",
    "    new_node.next = node_T\n",
    "    node_P.next = new_node\n",
    "    new_node.prev = node_P\n",
    "    node_T.prev = new_node\n",
    "    \n",
    "    \n",
    "def delete_node(del_data):\n",
    "    global node_A\n",
    "    # A\n",
    "    pre_node = node_A \n",
    "    # B\n",
    "    next_node = pre_node.next\n",
    "    # C\n",
    "    next_next_node = next_node.next\n",
    "    \n",
    "    \n",
    "    # 노드 첫번째가 지울 노드라면? \n",
    "    if pre_node.data == del_data:\n",
    "        node_A = next_node\n",
    "        del pre_node\n",
    "        return \n",
    "    \n",
    "    # 다음 노드가 있다면 반복 한다.\n",
    "    while next_node:\n",
    "        if next_node.data == del_data:\n",
    "            pre_node.next = next_next_node\n",
    "            if next_next_node :\n",
    "                next_next_node.prev = pre_node\n",
    "            del next_node\n",
    "            break\n",
    "        else:\n",
    "            # 다음 노드가 삭제할 데이터가 아니라면?\n",
    "            pre_node = next_node\n",
    "            next_node = next_node.next\n",
    "            next_next_node = next_node.next\n",
    "    \n",
    "    \n",
    "def print_list():\n",
    "    global node_A\n",
    "    node = node_A\n",
    "    while node:\n",
    "        print(node.data)\n",
    "        node = node.next\n",
    "        \n",
    "if __name__ == \"__main__\":\n",
    "    print(\"연결리스트 초기화 후\")\n",
    "    init_list()\n",
    "    print_list()\n",
    "    \n",
    "    print(\"노드 C의 추가 후\")\n",
    "    insert_node('C')\n",
    "    print_list()\n",
    "    \n",
    "    print(\"노드 E의 삭제 후\")\n",
    "    delete_node('E')\n",
    "    print_list()"
   ]
  },
  {
   "cell_type": "markdown",
   "id": "cc15a67e",
   "metadata": {},
   "source": [
    "---"
   ]
  },
  {
   "cell_type": "markdown",
   "id": "983bd1f7",
   "metadata": {},
   "source": [
    "# 4.2 정리"
   ]
  },
  {
   "cell_type": "markdown",
   "id": "c6aede15",
   "metadata": {},
   "source": [
    "연결 리스트는 간단하게 링크가 하나만 존재하는 단일 연결 리스트와 링그가 2개 존재하는 이중 연결리스트가 존재\n",
    "\n",
    "이중 연결 리스트의 장점은 한 방향으로만 탐색이 가능한 단일 연결 리스트에 비해, 언제 어디에서도 양쪽 방향으로 탐색이 가능\n",
    "\n",
    "전체 탐색 시간을 줄일 수 있다는 장점 \n",
    "\n",
    "새로운 노드의 삽입과 삭제를 할 때 코드가 복잡해진다는 단점"
   ]
  }
 ],
 "metadata": {
  "kernelspec": {
   "display_name": "Python 3 (ipykernel)",
   "language": "python",
   "name": "python3"
  },
  "language_info": {
   "codemirror_mode": {
    "name": "ipython",
    "version": 3
   },
   "file_extension": ".py",
   "mimetype": "text/x-python",
   "name": "python",
   "nbconvert_exporter": "python",
   "pygments_lexer": "ipython3",
   "version": "3.9.13"
  }
 },
 "nbformat": 4,
 "nbformat_minor": 5
}
