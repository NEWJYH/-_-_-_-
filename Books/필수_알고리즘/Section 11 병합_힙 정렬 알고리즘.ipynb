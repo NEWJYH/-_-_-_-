{
 "cells": [
  {
   "cell_type": "markdown",
   "id": "2a1a6053",
   "metadata": {},
   "source": [
    "# 11.1 병합 정렬 알고리즘(Merge Sort Algorithm)"
   ]
  },
  {
   "cell_type": "markdown",
   "id": "6518bb0d",
   "metadata": {},
   "source": [
    "- 병합 정렬 알고리즘은 이미 정렬되어 있는 데이터들을 하나로 합쳐서 정렬하는 방법\n",
    "\n",
    "- 파일에 정렬되어 있는 데이터들을 하나로 합쳐서 정렬하는 경우에도 종종 사용되는 정렬 알고리즘"
   ]
  },
  {
   "cell_type": "markdown",
   "id": "e9b08087",
   "metadata": {},
   "source": [
    "병합 정렬 알고리즘의 특징\n",
    "\n",
    "- 이미 정렬되어 있는 데이터의 그룹 혹은 묶음들을 하나로 합칠 때 사용하는 방법"
   ]
  },
  {
   "cell_type": "markdown",
   "id": "2efa0aa3",
   "metadata": {},
   "source": []
  },
  {
   "cell_type": "markdown",
   "id": "5f8247b2",
   "metadata": {},
   "source": []
  },
  {
   "cell_type": "markdown",
   "id": "5a295399",
   "metadata": {},
   "source": []
  },
  {
   "cell_type": "markdown",
   "id": "b250b8de",
   "metadata": {},
   "source": []
  },
  {
   "cell_type": "markdown",
   "id": "029b59ec",
   "metadata": {},
   "source": []
  },
  {
   "cell_type": "markdown",
   "id": "a56c9c4e",
   "metadata": {},
   "source": []
  },
  {
   "cell_type": "markdown",
   "id": "9f74ea31",
   "metadata": {},
   "source": []
  },
  {
   "cell_type": "markdown",
   "id": "a12d7438",
   "metadata": {},
   "source": []
  },
  {
   "cell_type": "markdown",
   "id": "f323a652",
   "metadata": {},
   "source": []
  },
  {
   "cell_type": "markdown",
   "id": "0b5ae7c9",
   "metadata": {},
   "source": []
  },
  {
   "cell_type": "markdown",
   "id": "8b74d49a",
   "metadata": {},
   "source": []
  },
  {
   "cell_type": "markdown",
   "id": "16bd12b5",
   "metadata": {},
   "source": []
  },
  {
   "cell_type": "markdown",
   "id": "19460a03",
   "metadata": {},
   "source": []
  },
  {
   "cell_type": "markdown",
   "id": "12367d4d",
   "metadata": {},
   "source": []
  },
  {
   "cell_type": "markdown",
   "id": "f0c59d8d",
   "metadata": {},
   "source": []
  },
  {
   "cell_type": "markdown",
   "id": "abb3064f",
   "metadata": {},
   "source": []
  },
  {
   "cell_type": "markdown",
   "id": "2821478a",
   "metadata": {},
   "source": []
  },
  {
   "cell_type": "markdown",
   "id": "4998d266",
   "metadata": {},
   "source": []
  },
  {
   "cell_type": "markdown",
   "id": "0eb9f514",
   "metadata": {},
   "source": []
  },
  {
   "cell_type": "markdown",
   "id": "a0a9221e",
   "metadata": {},
   "source": []
  },
  {
   "cell_type": "markdown",
   "id": "77184201",
   "metadata": {},
   "source": []
  },
  {
   "cell_type": "markdown",
   "id": "97aa3235",
   "metadata": {},
   "source": []
  },
  {
   "cell_type": "markdown",
   "id": "f6422023",
   "metadata": {},
   "source": []
  },
  {
   "cell_type": "markdown",
   "id": "63fa8583",
   "metadata": {},
   "source": []
  },
  {
   "cell_type": "markdown",
   "id": "71c54ba5",
   "metadata": {},
   "source": []
  },
  {
   "cell_type": "markdown",
   "id": "18b8b178",
   "metadata": {},
   "source": []
  },
  {
   "cell_type": "markdown",
   "id": "89454bef",
   "metadata": {},
   "source": []
  },
  {
   "cell_type": "markdown",
   "id": "762c2ecd",
   "metadata": {},
   "source": []
  },
  {
   "cell_type": "markdown",
   "id": "81c2ade2",
   "metadata": {},
   "source": []
  },
  {
   "cell_type": "markdown",
   "id": "e7fb16f1",
   "metadata": {},
   "source": []
  },
  {
   "cell_type": "markdown",
   "id": "8dcaee3c",
   "metadata": {},
   "source": []
  },
  {
   "cell_type": "markdown",
   "id": "3aba4240",
   "metadata": {},
   "source": []
  },
  {
   "cell_type": "markdown",
   "id": "80d59d3a",
   "metadata": {},
   "source": []
  },
  {
   "cell_type": "markdown",
   "id": "513339d3",
   "metadata": {},
   "source": []
  },
  {
   "cell_type": "markdown",
   "id": "cfa89ae4",
   "metadata": {},
   "source": []
  },
  {
   "cell_type": "markdown",
   "id": "5df2543d",
   "metadata": {},
   "source": []
  },
  {
   "cell_type": "markdown",
   "id": "73a0e8e5",
   "metadata": {},
   "source": []
  },
  {
   "cell_type": "markdown",
   "id": "71d69d10",
   "metadata": {},
   "source": []
  },
  {
   "cell_type": "markdown",
   "id": "99498491",
   "metadata": {},
   "source": []
  },
  {
   "cell_type": "markdown",
   "id": "c676ae65",
   "metadata": {},
   "source": []
  },
  {
   "cell_type": "markdown",
   "id": "4e613bf1",
   "metadata": {},
   "source": []
  },
  {
   "cell_type": "markdown",
   "id": "881f014b",
   "metadata": {},
   "source": []
  },
  {
   "cell_type": "markdown",
   "id": "39244b03",
   "metadata": {},
   "source": []
  },
  {
   "cell_type": "markdown",
   "id": "4205240a",
   "metadata": {},
   "source": []
  },
  {
   "cell_type": "markdown",
   "id": "04505e25",
   "metadata": {},
   "source": []
  },
  {
   "cell_type": "markdown",
   "id": "1dc58640",
   "metadata": {},
   "source": []
  },
  {
   "cell_type": "markdown",
   "id": "4b0a4a3c",
   "metadata": {},
   "source": []
  },
  {
   "cell_type": "markdown",
   "id": "078294f0",
   "metadata": {},
   "source": []
  },
  {
   "cell_type": "markdown",
   "id": "050c7327",
   "metadata": {},
   "source": []
  },
  {
   "cell_type": "markdown",
   "id": "0855d691",
   "metadata": {},
   "source": []
  },
  {
   "cell_type": "markdown",
   "id": "7c06afc0",
   "metadata": {},
   "source": []
  },
  {
   "cell_type": "markdown",
   "id": "01a596d4",
   "metadata": {},
   "source": []
  },
  {
   "cell_type": "markdown",
   "id": "424b5dfa",
   "metadata": {},
   "source": []
  },
  {
   "cell_type": "markdown",
   "id": "80f1c42c",
   "metadata": {},
   "source": []
  },
  {
   "cell_type": "markdown",
   "id": "b3a6430a",
   "metadata": {},
   "source": []
  },
  {
   "cell_type": "markdown",
   "id": "f87b673c",
   "metadata": {},
   "source": []
  },
  {
   "cell_type": "markdown",
   "id": "257968fe",
   "metadata": {},
   "source": []
  },
  {
   "cell_type": "markdown",
   "id": "afc7d169",
   "metadata": {},
   "source": []
  },
  {
   "cell_type": "markdown",
   "id": "001ca7fc",
   "metadata": {},
   "source": []
  },
  {
   "cell_type": "markdown",
   "id": "030c1f5f",
   "metadata": {},
   "source": []
  },
  {
   "cell_type": "markdown",
   "id": "1ba69a2a",
   "metadata": {},
   "source": []
  },
  {
   "cell_type": "markdown",
   "id": "5589a6f0",
   "metadata": {},
   "source": []
  },
  {
   "cell_type": "markdown",
   "id": "426ee435",
   "metadata": {},
   "source": []
  }
 ],
 "metadata": {
  "kernelspec": {
   "display_name": "Python 3 (ipykernel)",
   "language": "python",
   "name": "python3"
  },
  "language_info": {
   "codemirror_mode": {
    "name": "ipython",
    "version": 3
   },
   "file_extension": ".py",
   "mimetype": "text/x-python",
   "name": "python",
   "nbconvert_exporter": "python",
   "pygments_lexer": "ipython3",
   "version": "3.9.13"
  }
 },
 "nbformat": 4,
 "nbformat_minor": 5
}
