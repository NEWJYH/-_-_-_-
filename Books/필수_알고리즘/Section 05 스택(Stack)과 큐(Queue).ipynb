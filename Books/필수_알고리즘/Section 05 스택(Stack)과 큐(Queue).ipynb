{
 "cells": [
  {
   "cell_type": "markdown",
   "id": "da7aeb5b",
   "metadata": {},
   "source": [
    "# 5.1 스택(Stack)의 개념"
   ]
  },
  {
   "cell_type": "markdown",
   "id": "a8bca33c",
   "metadata": {},
   "source": [
    "입력과 출력을 한 방향으로 제한한 알고리즘\n",
    "\n",
    "- 바닥부터 데이터를 차곡차곡 쌓는 개념\n",
    "- 회전 초밥집에서 다 먹은 그릇을 쌓아 놓는 것처럼 데이터를 쌓아 놓는다는 의미"
   ]
  },
  {
   "attachments": {
    "image.png": {
     "image/png": "[encoded data removed]"
    }
   },
   "cell_type": "markdown",
   "id": "f4c267a8",
   "metadata": {},
   "source": [
    "![image.png](attachment:image.png)"
   ]
  },
  {
   "cell_type": "markdown",
   "id": "38dd6351",
   "metadata": {},
   "source": [
    "## push"
   ]
  },
  {
   "cell_type": "markdown",
   "id": "c36b2960",
   "metadata": {},
   "source": [
    " - 데이터를 쌓아 놓음"
   ]
  },
  {
   "cell_type": "markdown",
   "id": "a02df0e8",
   "metadata": {},
   "source": [
    "## pop"
   ]
  },
  {
   "cell_type": "markdown",
   "id": "165971d4",
   "metadata": {},
   "source": [
    "- 데이터를 꺼냄"
   ]
  },
  {
   "cell_type": "markdown",
   "id": "001b131f",
   "metadata": {},
   "source": [
    "## LIFO(Last In First Out) 방식\n",
    "\n",
    "- 나중에 들어온것이 첫번째로 나간다"
   ]
  },
  {
   "cell_type": "markdown",
   "id": "489346fd",
   "metadata": {},
   "source": [
    "---"
   ]
  },
  {
   "cell_type": "markdown",
   "id": "3d2d8d53",
   "metadata": {},
   "source": [
    "# 5.2 스택(stack)의 구현"
   ]
  },
  {
   "cell_type": "code",
   "execution_count": 1,
   "id": "fbfa3152",
   "metadata": {},
   "outputs": [
    {
     "name": "stdout",
     "output_type": "stream",
     "text": [
      "현재 stack의 모습\n",
      "[1, 2, 3, 4]\n",
      "POP > 4\n",
      "POP > 3\n",
      "POP > 2\n",
      "POP > 1\n"
     ]
    }
   ],
   "source": [
    "def push(item):\n",
    "    stack.append(item)\n",
    "    \n",
    "def pop():\n",
    "    return stack.pop()\n",
    "\n",
    "if __name__ == \"__main__\":\n",
    "    stack = []\n",
    "    push(1)\n",
    "    push(2)    \n",
    "    push(3)    \n",
    "    push(4)\n",
    "    print(\"현재 stack의 모습\")\n",
    "    print(stack)\n",
    "    \n",
    "    while stack:\n",
    "        print(f\"POP > {pop()}\")"
   ]
  },
  {
   "cell_type": "markdown",
   "id": "c700b39d",
   "metadata": {},
   "source": [
    "## 1. 시간의 효율성\n",
    "\n",
    "- 스택 알고리즘은 연결 리스트를 사용하기도 하지만 배열을 사용하여 구현하기도 함\n",
    "\n",
    "- 스택의 개념 자체는 검색하는 과정이 필요 없이 가장 선두에 있는 데이터를 Pop\n",
    "\n",
    "- 데이터를 삽입할 떄도 가장 선두에 집어 넣음\n",
    "\n",
    "- 연결 리스트를 사용한다고 하더라도 시간적인 효율성 면에서 배열보다 나은 점이 없음\n",
    "\n",
    "\n",
    "## 2. 공간의 효율성\n",
    "\n",
    "- 배열로 구현한 스택이 배열의 전체 크기에 국한된다는 점 때문에 연결 리스트를 사용한 스택이 더 효율적이라고 말할 수는 있음\n",
    "\n",
    "- 대부분의 스택을 사용하는 경우에는 스택의 크기를 정해놓고서 사용하는 것이 일반적이기 때문에 \n",
    "  스택을 배열로 구현 했다고 해서 공간의 효율성이 많이 저하된다고 보기 어려움\n",
    "  \n",
    "  \n",
    "## 3. 코드의 효율성\n",
    "\n",
    "- 연결 리스트에 대한 코드를 이해할 수 있다면 이것을 이용해서 만든 스택의 코드는 쉽게 이해할 수 있음\n",
    "- 연결 리스트를 이용한 스택이라고 하더라도 연결 리스트의 링크를 연결하거나 새로운 노드를 생성하는 정도의 코드"
   ]
  },
  {
   "cell_type": "markdown",
   "id": "43beaeca",
   "metadata": {},
   "source": [
    "---"
   ]
  },
  {
   "cell_type": "markdown",
   "id": "1b10aeed",
   "metadata": {},
   "source": [
    "# 5.3 스택(Stack)의 응용 : 계산기"
   ]
  },
  {
   "cell_type": "markdown",
   "id": "6d6a2d02",
   "metadata": {},
   "source": [
    "## 5.3.1 계산기의 프로그램의 개념\n",
    "\n",
    "### 1. 계산기에 스택의 적용\n",
    "\n",
    "#### 교재 코드 누락 ;;"
   ]
  },
  {
   "cell_type": "markdown",
   "id": "d9f914e1",
   "metadata": {},
   "source": [
    "---"
   ]
  },
  {
   "cell_type": "markdown",
   "id": "f0dde834",
   "metadata": {},
   "source": [
    "# 5.4 큐(Queue) 알고리즘"
   ]
  },
  {
   "cell_type": "markdown",
   "id": "b8aba2b1",
   "metadata": {},
   "source": [
    "## 큐(Queue)의 개념\n",
    "\n",
    "- 큐는 FIFO(First In First Out) 방식\n",
    "- 극장 매표소 앞에서 줄을 서는 것과 비슷\n",
    "\n",
    "### 1. put : 매표소 앞에서 줄을 선다 \n",
    "\n",
    "### 2. get : 줄을 선 순서대로 앞에서부터 표를 산다"
   ]
  },
  {
   "cell_type": "markdown",
   "id": "4eb1fef5",
   "metadata": {},
   "source": [
    "## 배열을 사용한 큐(Queue)의 구현"
   ]
  },
  {
   "cell_type": "code",
   "execution_count": 17,
   "id": "c598a934",
   "metadata": {},
   "outputs": [
    {
     "name": "stdout",
     "output_type": "stream",
     "text": [
      "현재 queue의 모습\n",
      "[1, 2, 3, 4]\n",
      "get > 1\n",
      "get > 2\n",
      "get > 3\n",
      "get > 4\n"
     ]
    }
   ],
   "source": [
    "def put(item):\n",
    "    queue.append(item)\n",
    "    \n",
    "def get():\n",
    "    return queue.pop(0)\n",
    "\n",
    "if __name__ ==\"__main__\":\n",
    "    queue = []\n",
    "    put(1)\n",
    "    put(2)  \n",
    "    put(3)       \n",
    "    put(4)\n",
    "    \n",
    "    print(\"현재 queue의 모습\")\n",
    "    print(queue)\n",
    "    \n",
    "    while queue:\n",
    "        print(f\"get > {get()}\")"
   ]
  },
  {
   "cell_type": "markdown",
   "id": "6b7be62c",
   "metadata": {},
   "source": [
    "### 1. 시간의 효율성\n",
    "\n",
    "- 배열로 구성되어 있지만, 시간적인 효율성 측면에서 배열로 하든 연결 리스트로 하든 상관없음\n",
    "- 스택과 큐 모두 검색과정이 필요 없기 때문\n",
    "\n",
    "### 2. 공간의 효율성\n",
    "\n",
    "- 미리 정해놓은 배열의 크기만큼 한정적\n",
    "- 큐의 경우 원형 큐(Circular Queue)형태로 사용\n",
    "- 원형 큐라는 것은 뱀의 고리를 물고 있는 모양처럼 큐가 원형으로 되어있음\n",
    "- 따라서 배열의 전체 크기와는 상관없이 빙빙 돌면서 사용이 가능\n",
    "\n",
    "### 3. 코드의 효율성\n",
    "\n",
    "- 원형 큐로 하는 경우에도 인덱스의 연산만으로 쉽게 구현 가능"
   ]
  }
 ],
 "metadata": {
  "kernelspec": {
   "display_name": "Python 3 (ipykernel)",
   "language": "python",
   "name": "python3"
  },
  "language_info": {
   "codemirror_mode": {
    "name": "ipython",
    "version": 3
   },
   "file_extension": ".py",
   "mimetype": "text/x-python",
   "name": "python",
   "nbconvert_exporter": "python",
   "pygments_lexer": "ipython3",
   "version": "3.9.13"
  }
 },
 "nbformat": 4,
 "nbformat_minor": 5
}
