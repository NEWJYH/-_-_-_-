{
 "cells": [
  {
   "cell_type": "markdown",
   "id": "20b228ce",
   "metadata": {},
   "source": [
    "# 8.1 선택 정렬 알고리즘(Selection Sort Algorithm)"
   ]
  },
  {
   "cell_type": "markdown",
   "id": "1f22dbb0",
   "metadata": {},
   "source": [
    "\n",
    "- 데이터를 처음부터 끝까지 훑어가면서 가장 작은 값을 찾은 후\n",
    "\n",
    "- 그 값을 첫 번쨰 데이터와 자리를 바꾸고\n",
    "\n",
    "- 그 다음 두 번째로 작은 데이터를 찾아서 두 번 째의 데이터와 자리를 바꾸는 방법으로 구현되는 알고리즘  "
   ]
  },
  {
   "cell_type": "code",
   "execution_count": 18,
   "id": "c594b69f",
   "metadata": {},
   "outputs": [
    {
     "name": "stdout",
     "output_type": "stream",
     "text": [
      "< Before Sort >\n",
      "[72, 20, 66, 49, 64, 33, 23, 70, 5, 28, 28, 3, 54, 53, 47, 20, 45, 67, 62, 18, 18, 45, 77, 59, 96, 74, 79, 25, 27, 74, 80, 1, 61, 35, 11, 79, 81, 63, 21, 24, 21, 21, 91, 82, 26, 99, 100, 73, 82, 37, 73, 12, 12, 22, 98, 14, 20, 37, 24, 7, 80, 91, 56, 23, 23, 89, 14, 69, 99, 20, 35, 10, 44, 59, 14, 19, 64, 13, 23, 67, 8, 12, 74, 28, 31, 2, 1, 23, 14, 89, 19, 78, 67, 15, 90, 47, 50, 77, 21, 7]\n",
      "데이터의 크기 : 100\n",
      "비교 횟수: 4950\n",
      "교환 횟수: 286\n",
      "0.0012345314025878906\n",
      "< After Sort >\n",
      "[1, 1, 2, 3, 5, 7, 7, 8, 10, 11, 12, 12, 12, 13, 14, 14, 14, 14, 15, 18, 18, 19, 19, 20, 20, 20, 20, 21, 21, 21, 21, 22, 23, 23, 23, 23, 23, 24, 24, 25, 26, 27, 28, 28, 28, 31, 33, 35, 35, 37, 37, 44, 45, 45, 47, 47, 49, 50, 53, 54, 56, 59, 59, 61, 62, 63, 64, 64, 66, 67, 67, 67, 69, 70, 72, 73, 73, 74, 74, 74, 77, 77, 78, 79, 79, 80, 80, 81, 82, 82, 89, 89, 90, 91, 91, 96, 98, 99, 99, 100]\n"
     ]
    }
   ],
   "source": [
    "import random\n",
    "import time\n",
    "\n",
    "\n",
    "\n",
    "\n",
    "def selected_sort(random_list):\n",
    "    compare_count = 0\n",
    "    exchange_count = 0\n",
    "    start = time.time()\n",
    "    \n",
    "    # 인덱스 순회를 위함 \n",
    "    # 리스트의 0번 인덱스부터 마지막 인덱스까지\n",
    "    for sel in range(len(random_list) -1):\n",
    "        # 가장 작은 value를 첫번째 인덱스로 가정하고 순회하기 위함\n",
    "        min = random_list[sel]\n",
    "        minindex = sel\n",
    "        \n",
    "        # find min value\n",
    "        # 다음 인덱스부터 끝 인덱스까지 순회하기 위함\n",
    "        for step in range(sel+1, len(random_list) ):\n",
    "            compare_count += 1 # 비교횟수\n",
    "            # 최소값보다 작다면 \n",
    "            if min > random_list[step]:\n",
    "                exchange_count += 1 # 교환 횟수\n",
    "                # 최소값 갱신\n",
    "                min = random_list[step]\n",
    "                # 최소값 인덱스 갱신\n",
    "                minindex = step\n",
    "        # swap\n",
    "        random_list[minindex] = random_list[sel]\n",
    "        random_list[sel] = min\n",
    "    \n",
    "    end = time.time() - start\n",
    "    print(f\"데이터의 크기 : {len(random_list)}\")\n",
    "    print(f\"비교 횟수: {compare_count}\")\n",
    "    print(f'교환 횟수: {exchange_count}')\n",
    "    print(f\"{end}\")\n",
    "    \n",
    "if __name__ == \"__main__\":\n",
    "    list = []\n",
    "    for i in range(100):\n",
    "        list.append(random.randint(1, 100))\n",
    "    print(\"< Before Sort >\")\n",
    "    print(list)\n",
    "    selected_sort(list) # now sorting!\n",
    "    print(\"< After Sort >\")\n",
    "    print(list)\n"
   ]
  },
  {
   "cell_type": "markdown",
   "id": "b4ae0090",
   "metadata": {},
   "source": [
    "---"
   ]
  },
  {
   "cell_type": "markdown",
   "id": "5abeb03b",
   "metadata": {},
   "source": [
    "# 8.3 삽입 정렬 알고리즘(Insert Sort Algorithm)"
   ]
  },
  {
   "cell_type": "markdown",
   "id": "8d970f32",
   "metadata": {},
   "source": [
    " - 선택 정렬 알고리즘이 정렬되지 않은 데이터 중에 가장 작은 값을 찾아 정렬하는 방식이라면\n",
    " \n",
    " - 삽입 정렬은 그러한 작은 값을 찾는 검색 과정이 필요 없는 정렬 알고리즘\n",
    " \n",
    " - 순차적으로 정렬하면서 현재의 값을 정렬되어 있는 값들과 비교하여 위치로 삽입하는 방식"
   ]
  },
  {
   "cell_type": "code",
   "execution_count": 39,
   "id": "c5b2f2c7",
   "metadata": {},
   "outputs": [
    {
     "name": "stdout",
     "output_type": "stream",
     "text": [
      "정렬할 데이터의 수: 5\n",
      "< 정렬 전 >\n",
      "[1, 2, 1, 5, 2]\n",
      "temp 2\n",
      "----\n",
      "[1, 2, 1, 5, 2]\n",
      "----\n",
      "temp 1\n",
      "!!\n",
      "----\n",
      "[1, 1, 2, 5, 2]\n",
      "----\n",
      "temp 5\n",
      "----\n",
      "[1, 1, 2, 5, 2]\n",
      "----\n",
      "temp 2\n",
      "!!\n",
      "----\n",
      "[1, 1, 2, 2, 5]\n",
      "----\n",
      "< 정렬후 >\n",
      "[1, 1, 2, 2, 5]\n",
      "데이터의 크기 : 5\n",
      "비교 횟수 : 4\n",
      "교환 횟수 : 2\n",
      "실행 시간 : 0.00023174285888671875\n"
     ]
    }
   ],
   "source": [
    "import random\n",
    "import time\n",
    "\n",
    "compare_counter = 0\n",
    "swap_counter = 0\n",
    "\n",
    "def insertion_sort(my_list):\n",
    "    global compare_counter, swap_counter\n",
    "    \n",
    "    my_list.insert(0, -1)\n",
    "    \n",
    "    for s_idx in range(2 , len(my_list)):\n",
    "        temp = my_list[s_idx]\n",
    "        ins_idx = s_idx\n",
    "        compare_counter += 1\n",
    "        \n",
    "        while my_list[ins_idx-1] > temp: \n",
    "            swap_counter += 1\n",
    "            my_list[ins_idx] = my_list[ins_idx -1]\n",
    "            ins_idx = ins_idx - 1\n",
    "            \n",
    "            \n",
    "        my_list[ins_idx] = temp\n",
    "        print(\"----\")\n",
    "        print(my_list[1:])\n",
    "        print(\"----\")\n",
    "        \n",
    "    del my_list[0]\n",
    "    \n",
    "if __name__ == \"__main__\":\n",
    "    list = []\n",
    "    \n",
    "    input_n = input('정렬할 데이터의 수: ')\n",
    "    \n",
    "    for i in range(int(input_n)):\n",
    "        list.append(random.randint(1, int(input_n)))\n",
    "        \n",
    "    \n",
    "    print(\"< 정렬 전 >\")\n",
    "    print(list)\n",
    "    \n",
    "    start_time = time.time()\n",
    "    insertion_sort(list)\n",
    "    running_time = time.time() - start_time\n",
    "    \n",
    "    print(\"< 정렬후 >\")\n",
    "    print(list)\n",
    "    \n",
    "    print(f\"데이터의 크기 : {int(input_n)}\")\n",
    "    print(f\"비교 횟수 : {compare_counter}\")\n",
    "    print(f\"교환 횟수 : {swap_counter}\")\n",
    "    print(f\"실행 시간 : {running_time}\")"
   ]
  },
  {
   "cell_type": "markdown",
   "id": "ac486039",
   "metadata": {},
   "source": [
    "# 8.4 삽입 정렬 알고리즘의 실행과 성능\n",
    "\n",
    "- 삽입 정렬 알고리즘의 경우 이미 정렬 된 데이터, \n",
    "  즉 최선의 경우에는 선택 정렬 알고리즘에 비해 월등히 좋은 성능을 보여줌\n",
    "  \n",
    "- 데이터의 비교 횟수가 입력 데이터의 양에 비례하기 때문\n",
    "\n",
    "- 선택 정렬 알고리즘의 경우는 N * (N-1) /2 에 가까운 수가 된다.\n",
    "\n",
    "- 정렬할 데이터의 수가 많으면 많을 수록 \n",
    "  선택 정렬 알고리즘에 비해 삽입 정렬 알고리즘의 성능이 좋아진다는 것을 의미\n",
    "  \n",
    "- 최악의 경우는 상황이 다름\n",
    "  선택 정렬 보다 삽입 정렬의 성능이 더 안좋다는 것을 알 수 있음\n",
    "  \n",
    "- 삽입 정렬 알고리즘의 경우에는 최악의 경우 비교 횟수도 N * (N-1) /2 가 되고,\n",
    "  데이터의 이동 횟수도 N * (N-1) /2 가 됨\n",
    "  \n",
    "- 선택 정렬 알고리즘에서 데이터 이동횟수가 N인것에 비해 성능을 감소시키는 요인이 됨\n",
    "\n",
    "- 따라서 삽입 정렬 알고리즘의 선능을 O 표기법으로 표시하면 O(N^2)이 됨\n",
    "- 선택 정렬 알고리즘도 동일하기 때문에 두 알고리즘의 선능은 그다지 차이가 없다고 볼 수 있음"
   ]
  },
  {
   "cell_type": "markdown",
   "id": "9de0b741",
   "metadata": {},
   "source": [
    "## 시간의 효율성\n",
    "- O(N^2)의 실행 시간\n",
    "\n",
    "- 정렬이 어느 정도 되어 있는 경우, N에 가까운 성능 "
   ]
  },
  {
   "cell_type": "markdown",
   "id": "743f829b",
   "metadata": {},
   "source": [
    "## 공간의 효율성\n",
    "\n",
    "- 데이터의 크기가 큰 경우에는 데이터 교환 횟수가 상대적으로 많기 때문에 그다지 바람직한 정렬 방법은 아님\n",
    "\n",
    "- 하나 당 데이터의 크기가 큰 경우에도 \n",
    "  인덱스를 사용하는 간접정렬 방식을 사용하면 \n",
    "  삽입 정렬의 단점 중에 하나인 공간의 효율성이 떨어지는 단점을 해결할 수 있음"
   ]
  },
  {
   "cell_type": "markdown",
   "id": "d2fa6ec8",
   "metadata": {},
   "source": [
    "## 코드의 효율성\n",
    "\n",
    "- 코드 복잡도는 반복문을 2번 사용하여 O(N^2)의 성능이 되므로 그다지 좋은 알고리즘이라 보기 어려움"
   ]
  }
 ],
 "metadata": {
  "kernelspec": {
   "display_name": "Python 3 (ipykernel)",
   "language": "python",
   "name": "python3"
  },
  "language_info": {
   "codemirror_mode": {
    "name": "ipython",
    "version": 3
   },
   "file_extension": ".py",
   "mimetype": "text/x-python",
   "name": "python",
   "nbconvert_exporter": "python",
   "pygments_lexer": "ipython3",
   "version": "3.9.13"
  }
 },
 "nbformat": 4,
 "nbformat_minor": 5
}
